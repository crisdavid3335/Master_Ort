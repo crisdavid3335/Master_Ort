{
 "cells": [
  {
   "attachments": {},
   "cell_type": "markdown",
   "metadata": {
    "id": "wMwqwquMwitS"
   },
   "source": [
    "# Notebook de Prueba de algoritmos DQN y DDQN"
   ]
  },
  {
   "cell_type": "code",
   "execution_count": 1,
   "metadata": {
    "id": "eOV5Nq0BwitV"
   },
   "outputs": [],
   "source": [
    "import numpy as np\n",
    "import gym\n",
    "import random\n",
    "import torch\n",
    "import mario_utils"
   ]
  },
  {
   "cell_type": "code",
   "execution_count": 2,
   "metadata": {
    "colab": {
     "base_uri": "https://localhost:8080/"
    },
    "id": "922lgDA_witX",
    "outputId": "a0f22dc9-103c-45e1-b9f4-44beddf939ef"
   },
   "outputs": [
    {
     "name": "stdout",
     "output_type": "stream",
     "text": [
      "Running on cuda:0\n"
     ]
    }
   ],
   "source": [
    "DEVICE = torch.device('cuda:0' if torch.cuda.is_available() else 'cpu')\n",
    "print(f\"Running on {DEVICE}\")"
   ]
  },
  {
   "cell_type": "code",
   "execution_count": 3,
   "metadata": {
    "id": "fxUxoLh_witY"
   },
   "outputs": [],
   "source": [
    "import torch.nn as nn\n",
    "import torch.nn.functional as F\n",
    "\n",
    "class DQN_Linear_Model(nn.Module):\n",
    "    def __init__(self,  n_features, n_actions):\n",
    "        super().__init__()\n",
    "        self.fc1 = nn.Linear(in_features=n_features, out_features=512)\n",
    "        self.fc2 = nn.Linear(512, 256)\n",
    "        self.output = nn.Linear(in_features=256, out_features= n_actions)\n",
    "\n",
    "    def forward(self, env_input):\n",
    "        result = env_input.reshape((-1, self.fc1.in_features))\n",
    "        result = F.relu(self.fc1(result))\n",
    "        result = F.relu(self.fc2(result))\n",
    "        return self.output(result)\n"
   ]
  },
  {
   "cell_type": "code",
   "execution_count": 4,
   "metadata": {
    "id": "Wgf8ZNNHwitY"
   },
   "outputs": [],
   "source": [
    "ENV_NAME = 'MountainCar-v0'\n",
    "env = gym.make(ENV_NAME)\n",
    "n_features = env.observation_space.shape[0]\n",
    "n_actions = env.action_space.n"
   ]
  },
  {
   "cell_type": "code",
   "execution_count": 5,
   "metadata": {
    "colab": {
     "base_uri": "https://localhost:8080/"
    },
    "id": "pI7AeAx2witZ",
    "outputId": "db3bfaf9-4f49-4578-e310-cdf998b3f601"
   },
   "outputs": [
    {
     "name": "stdout",
     "output_type": "stream",
     "text": [
      "[-1.2  -0.07]\n",
      "[0.6  0.07]\n"
     ]
    }
   ],
   "source": [
    "print(env.observation_space.low)\n",
    "print(env.observation_space.high)"
   ]
  },
  {
   "cell_type": "code",
   "execution_count": 6,
   "metadata": {
    "id": "5IhNdDRVwitZ"
   },
   "outputs": [],
   "source": [
    "import numpy as np\n",
    "\n",
    "\n",
    "def discretization(obs):\n",
    "    # observation_space low y high nos permiten conocer los límites de nuestro ambiente para los valores de Posicion y Velocidad.\n",
    "    env_low = np.array([-1.2, -0.07])\n",
    "    env_high = np.array([0.6, 0.07])\n",
    "\n",
    "    env_den = (env_high - env_low) / 40\n",
    "    pos_den = env_den[0]\n",
    "    vel_den = env_den[1]\n",
    "\n",
    "    pos_low = env_low[0]\n",
    "    vel_low = env_low[1]\n",
    "\n",
    "    pos_scaled = int((obs[0] - pos_low) / pos_den)\n",
    "    vel_scaled = int((obs[1] - vel_low) / vel_den)\n",
    "\n",
    "    return pos_scaled, vel_scaled"
   ]
  },
  {
   "cell_type": "code",
   "execution_count": 7,
   "metadata": {
    "id": "y9cBhXFtwita"
   },
   "outputs": [],
   "source": [
    "def process_state(observation):\n",
    "    # Transforme la observacion en un tensor de floats.\n",
    "    observation = discretization(observation)\n",
    "    observation = torch.tensor(observation).float()   \n",
    "    return observation"
   ]
  },
  {
   "cell_type": "code",
   "execution_count": 8,
   "metadata": {
    "id": "sT4t8N_pwita"
   },
   "outputs": [],
   "source": [
    "from SDFA import Agent\n",
    "# Cada vez que hacemos un experimento reseteamos la semilla para tener reproducibilidad\n",
    "env.seed(42)\n",
    "random.seed(42)\n",
    "np.random.seed(42)\n",
    "torch.manual_seed(42)\n",
    "torch.backends.cudnn.deterministic = True\n"
   ]
  },
  {
   "cell_type": "code",
   "execution_count": 21,
   "metadata": {
    "id": "x8Vy6mM1wita"
   },
   "outputs": [],
   "source": [
    "#Hiperparámetros de entrenamiento del agente DQN\n",
    "TOTAL_STEPS =10000000\n",
    "EPISODES = 2000\n",
    "STEPS = 10000000\n",
    "\n",
    "EPSILON_INI = 1\n",
    "EPSILON_MIN = 0.10\n",
    "EPSILON_DECAY = 0.99998599985\n",
    "EPSILON_TIME = EPISODES\n",
    "EPISODE_BLOCK = 100\n",
    "SAVE_EVERY = 200\n",
    "\n",
    "BATCH_SIZE = 64\n",
    "BUFFER_SIZE = 300\n",
    "\n",
    "GAMMA = 0.99\n",
    "LEARNING_RATE = 1e-4\n"
   ]
  },
  {
   "attachments": {},
   "cell_type": "markdown",
   "metadata": {},
   "source": [
    "### Entrenamiento DQN"
   ]
  },
  {
   "cell_type": "code",
   "execution_count": 22,
   "metadata": {
    "id": "6qNY6OIx-Y2_"
   },
   "outputs": [],
   "source": [
    "net = DQN_Linear_Model(n_features,n_actions).to(DEVICE)"
   ]
  },
  {
   "cell_type": "code",
   "execution_count": 23,
   "metadata": {
    "colab": {
     "base_uri": "https://localhost:8080/"
    },
    "id": "cIcQ2evE-bar",
    "outputId": "92e1250c-5c14-4a87-dacc-b9fa908d7e38"
   },
   "outputs": [],
   "source": [
    "from dqn_agent import DQNAgent\n",
    "agent = Agent(env, net, process_state, BUFFER_SIZE, BATCH_SIZE, LEARNING_RATE, GAMMA, epsilon_i= EPSILON_INI, epsilon_f=EPSILON_MIN, epsilon_anneal_time=EPSILON_TIME, epsilon_decay = EPSILON_DECAY, episode_block = EPISODE_BLOCK)"
   ]
  },
  {
   "cell_type": "code",
   "execution_count": 24,
   "metadata": {
    "colab": {
     "base_uri": "https://localhost:8080/"
    },
    "id": "wt3f2NtW_LAT",
    "outputId": "133f1120-05ac-48df-82ce-c175ef161eb4"
   },
   "outputs": [
    {
     "name": "stderr",
     "output_type": "stream",
     "text": [
      "  0%|          | 0/200000 [00:00<?, ? episodes/s]"
     ]
    },
    {
     "name": "stderr",
     "output_type": "stream",
     "text": [
      "  0%|          | 1/200000 [00:01<79:13:19,  1.43s/ episodes]"
     ]
    },
    {
     "name": "stdout",
     "output_type": "stream",
     "text": [
      "Episode 0 - Avg. Reward over the last 100 episodes -200.0 epsilon 0.9991045000000001 total steps 200\n"
     ]
    },
    {
     "name": "stderr",
     "output_type": "stream",
     "text": [
      "  0%|          | 27/200000 [01:09<160:06:37,  2.88s/ episodes]"
     ]
    }
   ],
   "source": [
    "rewards = agent.train(EPISODES, STEPS, TOTAL_STEPS, writer_name = ENV_NAME)"
   ]
  },
  {
   "cell_type": "code",
   "execution_count": 20,
   "metadata": {},
   "outputs": [
    {
     "data": {
      "text/plain": [
       "[-200.0,\n",
       " -200.0,\n",
       " -200.0,\n",
       " -200.0,\n",
       " -200.0,\n",
       " -200.0,\n",
       " -200.0,\n",
       " -200.0,\n",
       " -200.0,\n",
       " -200.0,\n",
       " -200.0,\n",
       " -200.0,\n",
       " -200.0,\n",
       " -200.0,\n",
       " -200.0,\n",
       " -200.0,\n",
       " -200.0,\n",
       " -200.0,\n",
       " -200.0,\n",
       " -200.0]"
      ]
     },
     "execution_count": 20,
     "metadata": {},
     "output_type": "execute_result"
    }
   ],
   "source": [
    "rewards"
   ]
  },
  {
   "attachments": {},
   "cell_type": "markdown",
   "metadata": {},
   "source": [
    "### Video DQN"
   ]
  },
  {
   "cell_type": "code",
   "execution_count": 14,
   "metadata": {},
   "outputs": [
    {
     "ename": "AttributeError",
     "evalue": "'ImageData' object has no attribute 'data'",
     "output_type": "error",
     "traceback": [
      "\u001b[0;31m---------------------------------------------------------------------------\u001b[0m",
      "\u001b[0;31mAttributeError\u001b[0m                            Traceback (most recent call last)",
      "Cell \u001b[0;32mIn[14], line 4\u001b[0m\n\u001b[1;32m      2\u001b[0m env \u001b[39m=\u001b[39m gym\u001b[39m.\u001b[39mmake(ENV_NAME)\n\u001b[1;32m      3\u001b[0m wrapped_env \u001b[39m=\u001b[39m mario_utils\u001b[39m.\u001b[39mwrap_env(env)\n\u001b[0;32m----> 4\u001b[0m agent\u001b[39m.\u001b[39;49mrecord_test_episode(wrapped_env)\n\u001b[1;32m      5\u001b[0m wrapped_env\u001b[39m.\u001b[39mclose()\n",
      "File \u001b[0;32m/mnt/c/users/crisd/OneDrive/Escritorio/python/mario/letra/obligatorio/SDFA.py:187\u001b[0m, in \u001b[0;36mAgent.record_test_episode\u001b[0;34m(self, env)\u001b[0m\n\u001b[1;32m    184\u001b[0m done \u001b[39m=\u001b[39m \u001b[39mFalse\u001b[39;00m\n\u001b[1;32m    186\u001b[0m env \u001b[39m=\u001b[39m wrap_env(env)\n\u001b[0;32m--> 187\u001b[0m state \u001b[39m=\u001b[39m env\u001b[39m.\u001b[39;49mreset()\n\u001b[1;32m    188\u001b[0m \u001b[39m# Observar estado inicial como indica el algoritmo\u001b[39;00m\n\u001b[1;32m    190\u001b[0m \u001b[39mwhile\u001b[39;00m \u001b[39mnot\u001b[39;00m done:\n\u001b[1;32m    191\u001b[0m     \u001b[39m# env.render()  # Queremos hacer render para obtener un video al final.\u001b[39;00m\n",
      "File \u001b[0;32m~/miniconda3/envs/py310/lib/python3.11/site-packages/gym/wrappers/monitor.py:38\u001b[0m, in \u001b[0;36mMonitor.reset\u001b[0;34m(self, **kwargs)\u001b[0m\n\u001b[1;32m     36\u001b[0m \u001b[39mdef\u001b[39;00m \u001b[39mreset\u001b[39m(\u001b[39mself\u001b[39m, \u001b[39m*\u001b[39m\u001b[39m*\u001b[39mkwargs):\n\u001b[1;32m     37\u001b[0m     \u001b[39mself\u001b[39m\u001b[39m.\u001b[39m_before_reset()\n\u001b[0;32m---> 38\u001b[0m     observation \u001b[39m=\u001b[39m \u001b[39mself\u001b[39;49m\u001b[39m.\u001b[39;49menv\u001b[39m.\u001b[39;49mreset(\u001b[39m*\u001b[39;49m\u001b[39m*\u001b[39;49mkwargs)\n\u001b[1;32m     39\u001b[0m     \u001b[39mself\u001b[39m\u001b[39m.\u001b[39m_after_reset(observation)\n\u001b[1;32m     41\u001b[0m     \u001b[39mreturn\u001b[39;00m observation\n",
      "File \u001b[0;32m~/miniconda3/envs/py310/lib/python3.11/site-packages/gym/wrappers/monitor.py:39\u001b[0m, in \u001b[0;36mMonitor.reset\u001b[0;34m(self, **kwargs)\u001b[0m\n\u001b[1;32m     37\u001b[0m \u001b[39mself\u001b[39m\u001b[39m.\u001b[39m_before_reset()\n\u001b[1;32m     38\u001b[0m observation \u001b[39m=\u001b[39m \u001b[39mself\u001b[39m\u001b[39m.\u001b[39menv\u001b[39m.\u001b[39mreset(\u001b[39m*\u001b[39m\u001b[39m*\u001b[39mkwargs)\n\u001b[0;32m---> 39\u001b[0m \u001b[39mself\u001b[39;49m\u001b[39m.\u001b[39;49m_after_reset(observation)\n\u001b[1;32m     41\u001b[0m \u001b[39mreturn\u001b[39;00m observation\n",
      "File \u001b[0;32m~/miniconda3/envs/py310/lib/python3.11/site-packages/gym/wrappers/monitor.py:188\u001b[0m, in \u001b[0;36mMonitor._after_reset\u001b[0;34m(self, observation)\u001b[0m\n\u001b[1;32m    185\u001b[0m \u001b[39m# Reset the stat count\u001b[39;00m\n\u001b[1;32m    186\u001b[0m \u001b[39mself\u001b[39m\u001b[39m.\u001b[39mstats_recorder\u001b[39m.\u001b[39mafter_reset(observation)\n\u001b[0;32m--> 188\u001b[0m \u001b[39mself\u001b[39;49m\u001b[39m.\u001b[39;49mreset_video_recorder()\n\u001b[1;32m    190\u001b[0m \u001b[39m# Bump *after* all reset activity has finished\u001b[39;00m\n\u001b[1;32m    191\u001b[0m \u001b[39mself\u001b[39m\u001b[39m.\u001b[39mepisode_id \u001b[39m+\u001b[39m\u001b[39m=\u001b[39m \u001b[39m1\u001b[39m\n",
      "File \u001b[0;32m~/miniconda3/envs/py310/lib/python3.11/site-packages/gym/wrappers/monitor.py:209\u001b[0m, in \u001b[0;36mMonitor.reset_video_recorder\u001b[0;34m(self)\u001b[0m\n\u001b[1;32m    200\u001b[0m \u001b[39m# Start recording the next video.\u001b[39;00m\n\u001b[1;32m    201\u001b[0m \u001b[39m#\u001b[39;00m\n\u001b[1;32m    202\u001b[0m \u001b[39m# TODO: calculate a more correct 'episode_id' upon merge\u001b[39;00m\n\u001b[1;32m    203\u001b[0m \u001b[39mself\u001b[39m\u001b[39m.\u001b[39mvideo_recorder \u001b[39m=\u001b[39m video_recorder\u001b[39m.\u001b[39mVideoRecorder(\n\u001b[1;32m    204\u001b[0m     env\u001b[39m=\u001b[39m\u001b[39mself\u001b[39m\u001b[39m.\u001b[39menv,\n\u001b[1;32m    205\u001b[0m     base_path\u001b[39m=\u001b[39mos\u001b[39m.\u001b[39mpath\u001b[39m.\u001b[39mjoin(\u001b[39mself\u001b[39m\u001b[39m.\u001b[39mdirectory, \u001b[39m'\u001b[39m\u001b[39m{}\u001b[39;00m\u001b[39m.video.\u001b[39m\u001b[39m{}\u001b[39;00m\u001b[39m.video\u001b[39m\u001b[39m{:06}\u001b[39;00m\u001b[39m'\u001b[39m\u001b[39m.\u001b[39mformat(\u001b[39mself\u001b[39m\u001b[39m.\u001b[39mfile_prefix, \u001b[39mself\u001b[39m\u001b[39m.\u001b[39mfile_infix, \u001b[39mself\u001b[39m\u001b[39m.\u001b[39mepisode_id)),\n\u001b[1;32m    206\u001b[0m     metadata\u001b[39m=\u001b[39m{\u001b[39m'\u001b[39m\u001b[39mepisode_id\u001b[39m\u001b[39m'\u001b[39m: \u001b[39mself\u001b[39m\u001b[39m.\u001b[39mepisode_id},\n\u001b[1;32m    207\u001b[0m     enabled\u001b[39m=\u001b[39m\u001b[39mself\u001b[39m\u001b[39m.\u001b[39m_video_enabled(),\n\u001b[1;32m    208\u001b[0m )\n\u001b[0;32m--> 209\u001b[0m \u001b[39mself\u001b[39;49m\u001b[39m.\u001b[39;49mvideo_recorder\u001b[39m.\u001b[39;49mcapture_frame()\n",
      "File \u001b[0;32m~/miniconda3/envs/py310/lib/python3.11/site-packages/gym/wrappers/monitoring/video_recorder.py:101\u001b[0m, in \u001b[0;36mVideoRecorder.capture_frame\u001b[0;34m(self)\u001b[0m\n\u001b[1;32m     98\u001b[0m logger\u001b[39m.\u001b[39mdebug(\u001b[39m'\u001b[39m\u001b[39mCapturing video frame: path=\u001b[39m\u001b[39m%s\u001b[39;00m\u001b[39m'\u001b[39m, \u001b[39mself\u001b[39m\u001b[39m.\u001b[39mpath)\n\u001b[1;32m    100\u001b[0m render_mode \u001b[39m=\u001b[39m \u001b[39m'\u001b[39m\u001b[39mansi\u001b[39m\u001b[39m'\u001b[39m \u001b[39mif\u001b[39;00m \u001b[39mself\u001b[39m\u001b[39m.\u001b[39mansi_mode \u001b[39melse\u001b[39;00m \u001b[39m'\u001b[39m\u001b[39mrgb_array\u001b[39m\u001b[39m'\u001b[39m\n\u001b[0;32m--> 101\u001b[0m frame \u001b[39m=\u001b[39m \u001b[39mself\u001b[39;49m\u001b[39m.\u001b[39;49menv\u001b[39m.\u001b[39;49mrender(mode\u001b[39m=\u001b[39;49mrender_mode)\n\u001b[1;32m    103\u001b[0m \u001b[39mif\u001b[39;00m frame \u001b[39mis\u001b[39;00m \u001b[39mNone\u001b[39;00m:\n\u001b[1;32m    104\u001b[0m     \u001b[39mif\u001b[39;00m \u001b[39mself\u001b[39m\u001b[39m.\u001b[39m_async:\n",
      "File \u001b[0;32m~/miniconda3/envs/py310/lib/python3.11/site-packages/gym/core.py:233\u001b[0m, in \u001b[0;36mWrapper.render\u001b[0;34m(self, mode, **kwargs)\u001b[0m\n\u001b[1;32m    232\u001b[0m \u001b[39mdef\u001b[39;00m \u001b[39mrender\u001b[39m(\u001b[39mself\u001b[39m, mode\u001b[39m=\u001b[39m\u001b[39m'\u001b[39m\u001b[39mhuman\u001b[39m\u001b[39m'\u001b[39m, \u001b[39m*\u001b[39m\u001b[39m*\u001b[39mkwargs):\n\u001b[0;32m--> 233\u001b[0m     \u001b[39mreturn\u001b[39;00m \u001b[39mself\u001b[39;49m\u001b[39m.\u001b[39;49menv\u001b[39m.\u001b[39;49mrender(mode, \u001b[39m*\u001b[39;49m\u001b[39m*\u001b[39;49mkwargs)\n",
      "File \u001b[0;32m~/miniconda3/envs/py310/lib/python3.11/site-packages/gym/envs/classic_control/mountain_car.py:119\u001b[0m, in \u001b[0;36mMountainCarEnv.render\u001b[0;34m(self, mode)\u001b[0m\n\u001b[1;32m    116\u001b[0m \u001b[39mself\u001b[39m\u001b[39m.\u001b[39mcartrans\u001b[39m.\u001b[39mset_translation((pos\u001b[39m-\u001b[39m\u001b[39mself\u001b[39m\u001b[39m.\u001b[39mmin_position)\u001b[39m*\u001b[39mscale, \u001b[39mself\u001b[39m\u001b[39m.\u001b[39m_height(pos)\u001b[39m*\u001b[39mscale)\n\u001b[1;32m    117\u001b[0m \u001b[39mself\u001b[39m\u001b[39m.\u001b[39mcartrans\u001b[39m.\u001b[39mset_rotation(math\u001b[39m.\u001b[39mcos(\u001b[39m3\u001b[39m \u001b[39m*\u001b[39m pos))\n\u001b[0;32m--> 119\u001b[0m \u001b[39mreturn\u001b[39;00m \u001b[39mself\u001b[39;49m\u001b[39m.\u001b[39;49mviewer\u001b[39m.\u001b[39;49mrender(return_rgb_array \u001b[39m=\u001b[39;49m mode\u001b[39m==\u001b[39;49m\u001b[39m'\u001b[39;49m\u001b[39mrgb_array\u001b[39;49m\u001b[39m'\u001b[39;49m)\n",
      "File \u001b[0;32m~/miniconda3/envs/py310/lib/python3.11/site-packages/gym/envs/classic_control/rendering.py:105\u001b[0m, in \u001b[0;36mViewer.render\u001b[0;34m(self, return_rgb_array)\u001b[0m\n\u001b[1;32m    103\u001b[0m buffer \u001b[39m=\u001b[39m pyglet\u001b[39m.\u001b[39mimage\u001b[39m.\u001b[39mget_buffer_manager()\u001b[39m.\u001b[39mget_color_buffer()\n\u001b[1;32m    104\u001b[0m image_data \u001b[39m=\u001b[39m buffer\u001b[39m.\u001b[39mget_image_data()\n\u001b[0;32m--> 105\u001b[0m arr \u001b[39m=\u001b[39m np\u001b[39m.\u001b[39mfrombuffer(image_data\u001b[39m.\u001b[39;49mdata, dtype\u001b[39m=\u001b[39mnp\u001b[39m.\u001b[39muint8)\n\u001b[1;32m    106\u001b[0m \u001b[39m# In https://github.com/openai/gym-http-api/issues/2, we\u001b[39;00m\n\u001b[1;32m    107\u001b[0m \u001b[39m# discovered that someone using Xmonad on Arch was having\u001b[39;00m\n\u001b[1;32m    108\u001b[0m \u001b[39m# a window of size 598 x 398, though a 600 x 400 window\u001b[39;00m\n\u001b[1;32m    109\u001b[0m \u001b[39m# was requested. (Guess Xmonad was preserving a pixel for\u001b[39;00m\n\u001b[1;32m    110\u001b[0m \u001b[39m# the boundary.) So we use the buffer height/width rather\u001b[39;00m\n\u001b[1;32m    111\u001b[0m \u001b[39m# than the requested one.\u001b[39;00m\n\u001b[1;32m    112\u001b[0m arr \u001b[39m=\u001b[39m arr\u001b[39m.\u001b[39mreshape(buffer\u001b[39m.\u001b[39mheight, buffer\u001b[39m.\u001b[39mwidth, \u001b[39m4\u001b[39m)\n",
      "\u001b[0;31mAttributeError\u001b[0m: 'ImageData' object has no attribute 'data'"
     ]
    }
   ],
   "source": [
    "#initial environment\n",
    "env = gym.make(ENV_NAME)\n",
    "wrapped_env = mario_utils.wrap_env(env)\n",
    "agent.record_test_episode(wrapped_env)\n",
    "wrapped_env.close()"
   ]
  },
  {
   "attachments": {},
   "cell_type": "markdown",
   "metadata": {},
   "source": [
    "### Entrenamiento DDQN"
   ]
  },
  {
   "cell_type": "code",
   "execution_count": null,
   "metadata": {
    "id": "GPjmUieaBzCI"
   },
   "outputs": [],
   "source": [
    "neta = DQN_Linear_Model(n_features,n_actions).to(DEVICE)\n",
    "netb = DQN_Linear_Model(n_features,n_actions).to(DEVICE)"
   ]
  },
  {
   "cell_type": "code",
   "execution_count": null,
   "metadata": {
    "colab": {
     "base_uri": "https://localhost:8080/"
    },
    "id": "TsykzICjwitb",
    "outputId": "1a116b38-931b-43b7-e6f2-a851af553b86"
   },
   "outputs": [],
   "source": [
    "from double_dqn_agent import DoubleDQNAgent\n",
    "agent = DoubleDQNAgent(env, neta,netb, process_state, BUFFER_SIZE, BATCH_SIZE, LEARNING_RATE, GAMMA, epsilon_i= EPSILON_INI, epsilon_f=EPSILON_MIN, epsilon_anneal_time=EPSILON_TIME, epsilon_decay = EPSILON_DECAY, episode_block = EPISODE_BLOCK)"
   ]
  },
  {
   "cell_type": "code",
   "execution_count": null,
   "metadata": {
    "colab": {
     "base_uri": "https://localhost:8080/"
    },
    "id": "NyaGs61Uwitb",
    "outputId": "23ab1e59-7e85-41d9-aa99-5757f6ad5362"
   },
   "outputs": [],
   "source": [
    "rewards = agent.train(EPISODES, STEPS, TOTAL_STEPS, writer_name = ENV_NAME)"
   ]
  },
  {
   "cell_type": "code",
   "execution_count": null,
   "metadata": {
    "colab": {
     "base_uri": "https://localhost:8080/"
    },
    "id": "RH5a8Nu0witb",
    "outputId": "9b7efe19-18ee-407c-ce9c-a8fece6ef6e9"
   },
   "outputs": [],
   "source": [
    "#Windows cambiar para Linux, copiar del obligatorio\n",
    "from IPython.display import HTML\n",
    "from pyvirtualdisplay import Display\n",
    "\n",
    "display = Display(visible=0, size=(1400, 900),color_depth=16)\n",
    "display.start()"
   ]
  },
  {
   "attachments": {},
   "cell_type": "markdown",
   "metadata": {},
   "source": [
    "### Video DDQN"
   ]
  },
  {
   "cell_type": "code",
   "execution_count": null,
   "metadata": {
    "colab": {
     "base_uri": "https://localhost:8080/",
     "height": 421
    },
    "id": "aZ6TulM0witb",
    "outputId": "5ffb91db-6d3c-44b0-a552-b39b929e4e2f"
   },
   "outputs": [],
   "source": [
    "env = gym.make(ENV_NAME)\n",
    "wrapped_env = mario_utils.wrap_env(env)\n",
    "agent.record_test_episode(wrapped_env)\n",
    "wrapped_env.close()"
   ]
  },
  {
   "attachments": {},
   "cell_type": "markdown",
   "metadata": {},
   "source": [
    "### Carga de datos y continuación entrenamiento (Ej DQN)"
   ]
  },
  {
   "cell_type": "code",
   "execution_count": null,
   "metadata": {
    "colab": {
     "base_uri": "https://localhost:8080/"
    },
    "id": "0zOEl4azwitb",
    "outputId": "f5498044-f0cc-49aa-cebf-02b49c6a9d75"
   },
   "outputs": [],
   "source": [
    "# Specify the path to your .dat file\n",
    "weights_path = '/content/GenericDQNAgent(-139.51).dat'\n",
    "\n",
    "# Create an instance of the model\n",
    "model = DQN_Linear_Model(n_features,n_actions).to(DEVICE)\n",
    "\n",
    "# Load the saved model weights\n",
    "model.load_state_dict(torch.load(weights_path))\n",
    "model.to(DEVICE)\n",
    "\n",
    "agent3 = DQNAgent(env, model, process_state, BUFFER_SIZE, BATCH_SIZE, LEARNING_RATE, GAMMA, epsilon_i= EPSILON_INI, epsilon_f=EPSILON_MIN, epsilon_anneal_time=EPSILON_TIME, epsilon_decay = EPSILON_DECAY, episode_block = EPISODE_BLOCK,save_every = 1000)"
   ]
  },
  {
   "cell_type": "code",
   "execution_count": null,
   "metadata": {
    "colab": {
     "base_uri": "https://localhost:8080/",
     "height": 421
    },
    "id": "lCBgMGWgIPbO",
    "outputId": "ef6990e5-b9e2-417c-d539-a80e7f60c458"
   },
   "outputs": [],
   "source": [
    "#initial environment\n",
    "env = gym.make(ENV_NAME)\n",
    "wrapped_env = mario_utils.wrap_env(env)\n",
    "agent3.record_test_episode(wrapped_env)\n",
    "wrapped_env.close()"
   ]
  },
  {
   "cell_type": "code",
   "execution_count": null,
   "metadata": {
    "id": "FjPfS6NcQ4ZF"
   },
   "outputs": [],
   "source": []
  }
 ],
 "metadata": {
  "accelerator": "GPU",
  "colab": {
   "gpuType": "T4",
   "provenance": []
  },
  "kernelspec": {
   "display_name": "Python 3 (ipykernel)",
   "language": "python",
   "name": "python3"
  },
  "language_info": {
   "codemirror_mode": {
    "name": "ipython",
    "version": 3
   },
   "file_extension": ".py",
   "mimetype": "text/x-python",
   "name": "python",
   "nbconvert_exporter": "python",
   "pygments_lexer": "ipython3",
   "version": "3.11.3"
  }
 },
 "nbformat": 4,
 "nbformat_minor": 1
}
