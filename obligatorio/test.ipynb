{
 "cells": [
  {
   "cell_type": "code",
   "execution_count": 2,
   "metadata": {},
   "outputs": [],
   "source": [
    "from replay_memory import ReplayMemory, Transition"
   ]
  },
  {
   "cell_type": "code",
   "execution_count": 3,
   "metadata": {},
   "outputs": [],
   "source": [
    "import torch.nn as nn\n",
    "import torch.nn.functional as F\n",
    "\n",
    "class DQN_Linear_Model(nn.Module):\n",
    "    def __init__(self,  n_features, n_actions):\n",
    "        super().__init__()\n",
    "        self.fc1 = nn.Linear(in_features=n_features, out_features=50)\n",
    "        #self.fc2 = nn.Linear(512, 256)\n",
    "        self.output = nn.Linear(in_features=50, out_features= n_actions)\n",
    "\n",
    "    def forward(self, env_input):\n",
    "        result = env_input.reshape((-1, self.fc1.in_features))\n",
    "        result = F.relu(self.fc1(result))\n",
    "        #result = F.relu(self.fc2(result))\n",
    "        return self.output(result)\n"
   ]
  },
  {
   "cell_type": "code",
   "execution_count": 4,
   "metadata": {},
   "outputs": [],
   "source": [
    "import gym\n",
    "ENV_NAME = 'MountainCar-v0'\n",
    "env = gym.make(ENV_NAME)\n",
    "n_features = env.observation_space.shape[0]\n",
    "n_actions = env.action_space.n"
   ]
  },
  {
   "cell_type": "code",
   "execution_count": 6,
   "metadata": {},
   "outputs": [],
   "source": [
    "import numpy as np\n",
    "\n",
    "\n",
    "def discretization(obs):\n",
    "    # observation_space low y high nos permiten conocer los límites de nuestro ambiente para los valores de Posicion y Velocidad.\n",
    "    env_low = np.array([-1.2, -0.07])\n",
    "    env_high = np.array([0.6, 0.07])\n",
    "\n",
    "    env_den = (env_high - env_low) / 40\n",
    "    pos_den = env_den[0]\n",
    "    vel_den = env_den[1]\n",
    "\n",
    "    pos_low = env_low[0]\n",
    "    vel_low = env_low[1]\n",
    "\n",
    "    pos_scaled = int((obs[0] - pos_low) / pos_den)\n",
    "    vel_scaled = int((obs[1] - vel_low) / vel_den)\n",
    "\n",
    "    return pos_scaled, vel_scaled"
   ]
  },
  {
   "cell_type": "code",
   "execution_count": 7,
   "metadata": {},
   "outputs": [],
   "source": [
    "import random\n",
    "import torch\n",
    "\n",
    "DEVICE = torch.device('cuda:0' if torch.cuda.is_available() else 'cpu')\n",
    "\n",
    "size = 20\n",
    "rm = ReplayMemory(size)\n",
    "for i in range(size):    \n",
    "    state = torch.tensor(np.array([random.uniform(-1.2,0.6),random.uniform(-0.7,0.7)]), dtype=torch.float32, device=DEVICE).unsqueeze(0)    \n",
    "    action = torch.tensor([[env.action_space.sample()]], device=DEVICE, dtype=torch.long)\n",
    "    next_state = torch.tensor(np.array([random.uniform(-1.2,0.6),random.uniform(-0.7,0.7)]), dtype=torch.float32, device=DEVICE).unsqueeze(0)    \n",
    "    reward = torch.tensor([random.uniform(-1,1)], device=DEVICE)           \n",
    "    done = random.choice([True, False]) \n",
    "    rm.add(state, action, reward, done, next_state)"
   ]
  },
  {
   "cell_type": "code",
   "execution_count": null,
   "metadata": {},
   "outputs": [],
   "source": []
  }
 ],
 "metadata": {
  "kernelspec": {
   "display_name": "MarioTest",
   "language": "python",
   "name": "python3"
  },
  "language_info": {
   "codemirror_mode": {
    "name": "ipython",
    "version": 3
   },
   "file_extension": ".py",
   "mimetype": "text/x-python",
   "name": "python",
   "nbconvert_exporter": "python",
   "pygments_lexer": "ipython3",
   "version": "3.8.16"
  },
  "orig_nbformat": 4
 },
 "nbformat": 4,
 "nbformat_minor": 2
}
