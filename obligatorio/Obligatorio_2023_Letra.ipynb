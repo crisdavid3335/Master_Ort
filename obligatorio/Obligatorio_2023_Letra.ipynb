{
 "cells": [
  {
   "attachments": {},
   "cell_type": "markdown",
   "metadata": {
    "id": "FvK9xJR6t9Iw",
    "pycharm": {
     "name": "#%% md\n"
    }
   },
   "source": [
    "# Obligatorio - Taller Agentes Inteligentes 2023\n",
    "\n",
    "Vamos a usar el juego Super Mario Bros:\n",
    "PyPi: https://pypi.org/project/gym-super-mario-bros/ \n",
    "Repo: https://github.com/Kautenja/gym-super-mario-bros\n",
    "\n",
    "En este caso, el juego está programado como un ambiente de OpenAI Gym, cumpliendo con las interfaces que hemos trabajado en el curso.\n",
    "\n",
    "\n",
    "El objetivo del juego consta de lograr que nuestro personaje llegue al final de la pantalla, sin ser comido por enemigos o caer al vacío."
   ]
  },
  {
   "attachments": {},
   "cell_type": "markdown",
   "metadata": {
    "id": "BgqA_LYAt9I0"
   },
   "source": [
    "![](./assets/images/mario.gif)"
   ]
  },
  {
   "attachments": {},
   "cell_type": "markdown",
   "metadata": {
    "id": "QkZeuZ7Rt9I0"
   },
   "source": [
    "Si bien el juego podría considerarse de múltiples agentes (mario, y sus enemigos), utilizaremos unicamente las heramientas del curso para solucionarlo, esto es, todo lo que no conforma a nuestros agentes será considerado ambiente y tratado como tal.\n",
    "\n",
    "El objetivo es resolver el juego utilizando Deep Q Learning y Double Deep Q Learning, comparando sus resultados.\n",
    "\n",
    "\n",
    "## Tareas:\n",
    "\n",
    "\n",
    "1. Completar el código faltante en este notebook (y archivos asociados).\n",
    "\n",
    "\n",
    "2. Entrenar un agente de Deep Q Learning (DQN) para cada ambiente tal que éste sea capaz de resolverlo.\n",
    "\n",
    "\n",
    "3. Entrenar un agente de Double Deep Q Learning (DDQN) para cada ambiente tal que éste sea capaz de resolverlo.\n",
    "\n",
    "\n",
    "4. Graficar las recompensas obtenidas para cada ambiente por cada agente (Ambos agentes resolviendo el ambiente 1 en una misma gráfica, idem para el ambiente 2). Escribir al menos 2 conclusiones de cada grafica. \n",
    "\n",
    "\n",
    "5. Grabar un video de cada agente resolviendo cada problema (pueden descargar el video desde colab y entregarlos dentro de un zip).\n",
    "\n",
    "\n",
    "Recuerden que pueden usar la GPU en google colab para agilizar el entrenamiento. \n",
    "***\n",
    "\n",
    "\n",
    "Fecha de entrega: **04/07** 21hs por gestión (gestion.ort.edu.uy). Pueden trabajar en grupos de hasta 3 estudiantes. \n",
    "***"
   ]
  },
  {
   "attachments": {},
   "cell_type": "markdown",
   "metadata": {
    "id": "YWf2qc2Hykps",
    "pycharm": {
     "name": "#%% md\n"
    }
   },
   "source": [
    "Instalación de librerías. Se fija la versión de gym, dado que para dicha versión las ROMS de los juegos ya estan includias y se evita su instalación separada lo que puede originar problemas."
   ]
  },
  {
   "cell_type": "code",
   "execution_count": 1,
   "metadata": {
    "id": "r9wotKEgOaUW",
    "pycharm": {
     "name": "#%%\n"
    }
   },
   "outputs": [],
   "source": [
    "#%%capture\n",
    "#!pip install pyvirtualdisplay > /dev/null 2>&1\n",
    "#!apt-get install -y xvfb python-opengl ffmpeg > /dev/null 2>&1\n",
    "#!pip install opencv-python\n",
    "#!pip install torchsummary\n",
    "#!pip install nes-py\n",
    "#!pip install --force-reinstall gym-super-mario-bros==7.4.0  > /dev/null 2>&1\n",
    "#!pip install --force-reinstall gym==0.15.3 > /dev/null 2>&1\n",
    "#!pip install pillow==8.4.0\n",
    "#!pip install torchvision==0.11.1\n",
    "#!pip install pyglet==1.4.9\n",
    "#!pip install torch==1.8.1+cu101 torchvision==0.9.1+cu101 torchaudio==0.8.1 -f https://download.pytorch.org/whl/torch_stable.html"
   ]
  },
  {
   "attachments": {},
   "cell_type": "markdown",
   "metadata": {
    "id": "gc6t9etEt9I2",
    "pycharm": {
     "name": "#%%\n"
    }
   },
   "source": [
    "Imports y configuraciones de ambiente"
   ]
  },
  {
   "cell_type": "code",
   "execution_count": 2,
   "metadata": {
    "id": "cwHCw6PMt9I3",
    "pycharm": {
     "name": "#%%\n"
    }
   },
   "outputs": [],
   "source": [
    "import os\n",
    "import torch\n",
    "import numpy as np\n",
    "import matplotlib.pyplot as plt\n",
    "\n",
    "import math\n",
    "import random\n",
    "from PIL import Image\n",
    "from torchvision import transforms\n",
    "import torch.nn as nn\n",
    "import torch.nn.functional as F\n",
    "import mario_utils\n",
    "from replay_memory import ReplayMemory\n",
    "from abstract_agent import Agent\n",
    "import gym\n",
    "from dqn_cnn_model import DQN_CNN_Model\n",
    "import warnings\n",
    "warnings.filterwarnings(\"ignore\")"
   ]
  },
  {
   "attachments": {},
   "cell_type": "markdown",
   "metadata": {
    "id": "ySRyzNz8t9I3"
   },
   "source": [
    "Checkeo de devices"
   ]
  },
  {
   "cell_type": "code",
   "execution_count": 3,
   "metadata": {
    "colab": {
     "base_uri": "https://localhost:8080/"
    },
    "id": "8zcyB176t9I3",
    "outputId": "4239691d-04a7-47de-9898-ee53cf047a8c"
   },
   "outputs": [
    {
     "name": "stdout",
     "output_type": "stream",
     "text": [
      "Running on cuda:0\n",
      "Cuda Available: True ====> NVIDIA GeForce RTX 4060 Laptop GPU\n"
     ]
    }
   ],
   "source": [
    "torch.zeros(1).cuda()\n",
    "\n",
    "DEVICE = torch.device('cuda:0' if torch.cuda.is_available() else 'cpu')\n",
    "print(f\"Running on {DEVICE}\")\n",
    "\n",
    "random.seed(42)\n",
    "np.random.seed(42)\n",
    "torch.manual_seed(42)\n",
    "torch.backends.cudnn.deterministic = True\n",
    "\n",
    "print(\"Cuda Available:\", torch.cuda.is_available(), '====>',\n",
    "torch.cuda.get_device_name(torch.cuda.current_device()))"
   ]
  },
  {
   "attachments": {},
   "cell_type": "markdown",
   "metadata": {
    "id": "xcfjdDuQt9I4"
   },
   "source": [
    "Setting de seeds"
   ]
  },
  {
   "cell_type": "code",
   "execution_count": 4,
   "metadata": {
    "id": "bxW_5r15t9I5"
   },
   "outputs": [],
   "source": [
    "random.seed(42)\n",
    "np.random.seed(42)\n",
    "torch.manual_seed(42)\n",
    "torch.backends.cudnn.deterministic = True"
   ]
  },
  {
   "attachments": {},
   "cell_type": "markdown",
   "metadata": {
    "id": "2bYVG_TKt9I5"
   },
   "source": [
    "Validacion del ambiente"
   ]
  },
  {
   "cell_type": "code",
   "execution_count": 5,
   "metadata": {
    "colab": {
     "base_uri": "https://localhost:8080/"
    },
    "id": "loVxQPrwt9I5",
    "outputId": "18b7ed97-88dd-4b1e-a2cc-b2636686bfc7"
   },
   "outputs": [
    {
     "name": "stdout",
     "output_type": "stream",
     "text": [
      "Actions # 2\n",
      "['NOOP']\n",
      "(4, 84, 84)\n",
      "(4, 84, 84),\n",
      " 0.0,\n",
      " False,\n",
      " {'coins': 0, 'flag_get': False, 'life': 2, 'score': 0, 'stage': 1, 'status': 'small', 'time': 400, 'world': 1, 'x_pos': 40, 'y_pos': 79}\n"
     ]
    }
   ],
   "source": [
    "ENV_NAME = \"SuperMarioBros-1-1-v0\"\n",
    "\n",
    "env = mario_utils.make_env(ENV_NAME)\n",
    "print(\"Actions #\",env.action_space.n)\n",
    "print(env.unwrapped.get_action_meanings())\n",
    "print(env.observation_space.shape)\n",
    "env.reset()\n",
    "next_state, reward, done, info = env.step(action=0)\n",
    "\n",
    "print(f\"{next_state.shape},\\n {reward},\\n {done},\\n {info}\")"
   ]
  },
  {
   "cell_type": "code",
   "execution_count": 6,
   "metadata": {
    "colab": {
     "base_uri": "https://localhost:8080/"
    },
    "id": "f5LX5VNcvK-3",
    "outputId": "bf549ab5-c66d-4460-8e3e-106fb9f0971f"
   },
   "outputs": [
    {
     "data": {
      "text/plain": [
       "tensor([[[0.5476, 0.5476, 0.5476,  ..., 0.5476, 0.5476, 0.5476],\n",
       "         [0.5476, 0.5476, 0.5476,  ..., 0.5476, 0.5476, 0.5476],\n",
       "         [0.5476, 0.5476, 0.5476,  ..., 0.5476, 0.5476, 0.5476],\n",
       "         ...,\n",
       "         [0.4862, 0.4862, 0.4862,  ..., 0.4862, 0.5114, 0.4862],\n",
       "         [0.7494, 0.3820, 0.3579,  ..., 0.2038, 0.4862, 0.4862],\n",
       "         [0.4515, 0.4515, 0.1305,  ..., 0.7431, 0.4515, 0.0107]],\n",
       "\n",
       "        [[0.5476, 0.5476, 0.5476,  ..., 0.5476, 0.5476, 0.5476],\n",
       "         [0.5476, 0.5476, 0.5476,  ..., 0.5476, 0.5476, 0.5476],\n",
       "         [0.5476, 0.5476, 0.5476,  ..., 0.5476, 0.5476, 0.5476],\n",
       "         ...,\n",
       "         [0.4862, 0.4862, 0.4862,  ..., 0.4862, 0.5114, 0.4862],\n",
       "         [0.7494, 0.3820, 0.3579,  ..., 0.2038, 0.4862, 0.4862],\n",
       "         [0.4515, 0.4515, 0.1305,  ..., 0.7431, 0.4515, 0.0107]],\n",
       "\n",
       "        [[0.5476, 0.5476, 0.5476,  ..., 0.5476, 0.5476, 0.5476],\n",
       "         [0.5476, 0.5476, 0.5476,  ..., 0.5476, 0.5476, 0.5476],\n",
       "         [0.5476, 0.5476, 0.5476,  ..., 0.5476, 0.5476, 0.5476],\n",
       "         ...,\n",
       "         [0.4862, 0.4862, 0.4862,  ..., 0.4862, 0.5114, 0.4862],\n",
       "         [0.7494, 0.3820, 0.3579,  ..., 0.2038, 0.4862, 0.4862],\n",
       "         [0.4515, 0.4515, 0.1305,  ..., 0.7431, 0.4515, 0.0107]],\n",
       "\n",
       "        [[0.5476, 0.5476, 0.5476,  ..., 0.5476, 0.5476, 0.5476],\n",
       "         [0.5476, 0.5476, 0.5476,  ..., 0.5476, 0.5476, 0.5476],\n",
       "         [0.5476, 0.5476, 0.5476,  ..., 0.5476, 0.5476, 0.5476],\n",
       "         ...,\n",
       "         [0.4862, 0.4862, 0.4862,  ..., 0.4862, 0.5114, 0.4862],\n",
       "         [0.7494, 0.3820, 0.3579,  ..., 0.2038, 0.4862, 0.4862],\n",
       "         [0.4515, 0.4515, 0.1305,  ..., 0.7431, 0.4515, 0.0107]]])"
      ]
     },
     "execution_count": 6,
     "metadata": {},
     "output_type": "execute_result"
    }
   ],
   "source": [
    "next_state, reward, done, info = env.step(action=0)\n",
    "torch.Tensor(next_state[:])"
   ]
  },
  {
   "cell_type": "code",
   "execution_count": 7,
   "metadata": {
    "colab": {
     "base_uri": "https://localhost:8080/",
     "height": 428
    },
    "id": "NHJmd1qet9I5",
    "outputId": "a471000c-fe89-41fd-be36-b23e9c407d34"
   },
   "outputs": [
    {
     "data": {
      "image/png": "[encoded data removed]",
      "text/plain": [
       "<Figure size 640x480 with 1 Axes>"
      ]
     },
     "metadata": {},
     "output_type": "display_data"
    }
   ],
   "source": [
    "mario_utils.show_state(env)"
   ]
  },
  {
   "cell_type": "code",
   "execution_count": 8,
   "metadata": {
    "colab": {
     "base_uri": "https://localhost:8080/",
     "height": 1000
    },
    "id": "bndnjRMRoglD",
    "outputId": "1b7de51a-f72b-42cc-ef7a-2906be2c5c24",
    "pycharm": {
     "name": "#%%\n"
    }
   },
   "outputs": [
    {
     "data": {
      "image/png": "[encoded data removed]",
      "text/plain": [
       "<Figure size 640x480 with 1 Axes>"
      ]
     },
     "metadata": {},
     "output_type": "display_data"
    },
    {
     "data": {
      "image/png": "[encoded data removed]",
      "text/plain": [
       "<Figure size 640x480 with 1 Axes>"
      ]
     },
     "metadata": {},
     "output_type": "display_data"
    },
    {
     "data": {
      "image/png": "[encoded data removed]",
      "text/plain": [
       "<Figure size 640x480 with 1 Axes>"
      ]
     },
     "metadata": {},
     "output_type": "display_data"
    },
    {
     "data": {
      "image/png": "[encoded data removed]",
      "text/plain": [
       "<Figure size 640x480 with 1 Axes>"
      ]
     },
     "metadata": {},
     "output_type": "display_data"
    }
   ],
   "source": [
    "obs = env.reset()\n",
    "mario_utils.show_obs(obs)"
   ]
  },
  {
   "cell_type": "code",
   "execution_count": 9,
   "metadata": {
    "colab": {
     "base_uri": "https://localhost:8080/"
    },
    "id": "z2iyQui5t9I7",
    "outputId": "aaecf9cb-a514-4a8b-bffe-771c1ce9108e"
   },
   "outputs": [],
   "source": [
    "from IPython.display import HTML\n",
    "from pyvirtualdisplay import Display\n",
    "\n",
    "#display = Display(visible=0, size=(1400, 900),color_depth=16)\n",
    "#display.start()\n",
    "\n",
    "wrapped_env = mario_utils.wrap_env(env)\n",
    "state = wrapped_env.reset()\n",
    "\n",
    "while True:        \n",
    "  #wrapped_env.render()\n",
    "  state, reward, done, info = wrapped_env.step(wrapped_env.action_space.sample())\n",
    "  if done:\n",
    "    break\n",
    "\n",
    "wrapped_env.close()"
   ]
  },
  {
   "cell_type": "code",
   "execution_count": 10,
   "metadata": {
    "colab": {
     "base_uri": "https://localhost:8080/",
     "height": 421
    },
    "id": "OrSwWgmyt9I7",
    "outputId": "cb44ee02-4bb4-4b5a-a1b1-bf090edb2b10"
   },
   "outputs": [
    {
     "data": {
      "text/html": [
       "<video alt=\"test\" autoplay \n",
       "                    loop controls style=\"height: 400px;\">\n",
       "                    <source src=\"data:video/mp4;base64,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\" type=\"video/mp4\" />\n",
       "                 </video>"
      ],
      "text/plain": [
       "<IPython.core.display.HTML object>"
      ]
     },
     "metadata": {},
     "output_type": "display_data"
    }
   ],
   "source": [
    "mario_utils.show_video()"
   ]
  },
  {
   "attachments": {},
   "cell_type": "markdown",
   "metadata": {
    "id": "XIHpwiaat9I7"
   },
   "source": [
    "# Deep Q Learning\n",
    "\n",
    "\n",
    "Recomendamos empezar implementando Deep Q Learning (paper presentado por DeepMind, pueden encontrar el mismo en arxiv: https://arxiv.org/pdf/1312.5602.pdf0).\n",
    "\n",
    "***\n",
    "\n",
    "En las celdas siguientes dejamos el código que deben implementar asi como una explicación del mismo."
   ]
  },
  {
   "attachments": {},
   "cell_type": "markdown",
   "metadata": {
    "id": "ajTGajUftSgY",
    "pycharm": {
     "name": "#%% md\n"
    }
   },
   "source": [
    "# Memoria\n",
    "\n",
    "El algoritmo de Deep Q Learning presentado en el paper utiliza una memoria (llamada Replay Memory) para almacenar transiciones pasadas. Tuplas que contienen un estado base, la accion tomada, la recompensa obtenida, una bandera que indica si el siguiente estado es final o no; y el estado siguiente.\n",
    "\n",
    "Esta memoria es circular, es decir, tiene un límite maximo de elementos y una vez esté llena comienza a reemplazar los elementos más viejos.\n",
    "\n",
    "Vamos a necesitar crear una función **sample** que obtiene una mustra aleatoria de elementos de la memoria.  Esto puede ser una lista de Transiciones o listas separadas (pero alineadas) de los elementos que las componen.\n",
    "\n",
    "***\n",
    "\n",
    "Para implementar esta funcionalidad se debe modificar el archivo **replay_memory.py**\n"
   ]
  },
  {
   "cell_type": "code",
   "execution_count": 11,
   "metadata": {},
   "outputs": [],
   "source": [
    "from replay_memory import ReplayMemory\n",
    "buffer_size = 100\n",
    "memory = ReplayMemory(buffer_size)\n",
    "\n",
    "def process_state(obs):\n",
    "    return torch.from_numpy(np.array(obs)).unsqueeze(0).cpu().to(DEVICE)"
   ]
  },
  {
   "attachments": {},
   "cell_type": "markdown",
   "metadata": {
    "id": "j7Ygv5Mjtb-F",
    "pycharm": {
     "name": "#%% md\n"
    }
   },
   "source": [
    "# Modelo\n",
    "\n",
    "Vamos a usar un mismo modelo FeedForward para estos dos problemas (entrenado en cada problema particular). Recomendamos simplicidad en la creación del mismo, pero tienen total libertad al momento de implementarlo.\n",
    "\n",
    "***\n",
    "Para implementar esta funcionalidad se debe modificar el archivo **dqn_cnn_model.py**\n"
   ]
  },
  {
   "cell_type": "code",
   "execution_count": 12,
   "metadata": {
    "id": "bkNBvJB6ryp7",
    "pycharm": {
     "name": "#%%\n"
    }
   },
   "outputs": [
    {
     "name": "stdout",
     "output_type": "stream",
     "text": [
      "----------------------------------------------------------------\n",
      "        Layer (type)               Output Shape         Param #\n",
      "================================================================\n",
      "            Conv2d-1           [-1, 16, 20, 20]           4,112\n",
      "              ReLU-2           [-1, 16, 20, 20]               0\n",
      "            Conv2d-3             [-1, 32, 9, 9]           8,224\n",
      "              ReLU-4             [-1, 32, 9, 9]               0\n",
      "            Linear-5                  [-1, 256]         663,808\n",
      "            Linear-6                    [-1, 2]             514\n",
      "================================================================\n",
      "Total params: 676,658\n",
      "Trainable params: 676,658\n",
      "Non-trainable params: 0\n",
      "----------------------------------------------------------------\n",
      "Input size (MB): 0.11\n",
      "Forward/backward pass size (MB): 0.14\n",
      "Params size (MB): 2.58\n",
      "Estimated Total Size (MB): 2.83\n",
      "----------------------------------------------------------------\n"
     ]
    }
   ],
   "source": [
    "from dqn_cnn_model import DQN_CNN_Model\n",
    "from mario_utils import make_env\n",
    "\n",
    "test_env = make_env(ENV_NAME)\n",
    "\n",
    "input_channels = test_env.observation_space.shape[0]\n",
    "test_net = DQN_CNN_Model(input_channels, test_env.action_space.n).to(DEVICE)\n",
    "\n",
    "from torchsummary import summary\n",
    "summary(test_net, test_env.observation_space.shape)"
   ]
  },
  {
   "attachments": {},
   "cell_type": "markdown",
   "metadata": {
    "id": "z9B7ZY9Htj_F",
    "pycharm": {
     "name": "#%% md\n"
    }
   },
   "source": [
    "# Agente\n",
    "\n",
    "Vamos a definir una clase agente, encargado de interactuar con el ambiente y entrenar los modelos. Los métdos definidos deben funcionar para ambos problemas simplemente cambiando el modelo a utilizar para cada ambiente.\n",
    "\n",
    "Abajo dejamos un esqueleto del mismo y las funciones a completar. Recomendamos no alterar la estructura del mismo, pero pueden definir las funciones auxiliares que consideren necesarias.\n",
    "\n",
    "Una aclaracion particular es sobre los últimos tres parametros del agente, representan los valores de epsilon_inicial, epsilon_final y el tiempo (numero de steps) que tardamos en llegar del epsilon final al inicial (puede decrementarlo de forma lineal o exponencial en el número de steps).\n",
    "\n",
    "***\n",
    "\n",
    "Para implementar esta funcionalidad se debe modificar los archivos **abstract_agent.py**, **dqn_agent.py** y **double_dqn_agent.py**.\n",
    "\n",
    "Funciones a completar:\n",
    "\n",
    "\n",
    "1. init: que inicializa los parametros del agente.\n",
    "\n",
    "2. compute_epsilon: que computa el valor actual de epsilon en base al número de pasos actuales.\n",
    "\n",
    "3. select_action: Seleccionando acciones \"epsilongreedy-mente\" si estamos entranando y completamente greedy en otro caso.\n",
    "\n",
    "4. train: que entrena el agente por un número dado de episodios de largo determinado.\n",
    "\n",
    "5. record_test_episode: para grabar un episodio con el agente siempre seleccionando la mejor accion conocida."
   ]
  },
  {
   "attachments": {},
   "cell_type": "markdown",
   "metadata": {
    "id": "BOD-ENZRtyMt",
    "pycharm": {
     "name": "#%% md\n"
    }
   },
   "source": [
    "# Entrenamiento\n",
    "\n",
    "Para entrenar van a necesitar definir:\n",
    "\n",
    "1. El ambiente.\n",
    "2. Una instancia del modelo a utilizar para el problema (ej: `mario_model = DQNModel(espacio_obs, num_acciones)`.\n",
    "3. La función para procesar los estados (phi en el paper) que es necesaria para poder usar el modelo de Pytorch con las representaciones de gym.\n",
    "\n",
    "Una vez definido pueden llamar a la función train del agente para entrenarlo y problar las demás funciones.\n",
    "\n",
    "***\n",
    "\n",
    "Una de las cosas que recomendamos hacer para probar los algoritmos es entrenar el agente por una cantidad X de episodios, grabar un video para observar progreso, volver a entrenar el mismo agente y volver a grabar un video, todas las veces que considere necesario.\n",
    "\n",
    "***"
   ]
  },
  {
   "cell_type": "code",
   "execution_count": 13,
   "metadata": {
    "id": "D7pZCrhMt9I9",
    "pycharm": {
     "name": "#%%\n"
    }
   },
   "outputs": [],
   "source": [
    "%load_ext tensorboard"
   ]
  },
  {
   "cell_type": "code",
   "execution_count": 14,
   "metadata": {
    "id": "oegpMg25t9I9",
    "pycharm": {
     "name": "#%%\n"
    }
   },
   "outputs": [],
   "source": [
    "#Hiperparámetros de entrenamiento del agente DQN\n",
    "TOTAL_STEPS =1000000\n",
    "EPISODES = 50\n",
    "STEPS = 100000\n",
    "\n",
    "EPSILON_INI = 1\n",
    "EPSILON_MIN = 0.02\n",
    "EPSILON_DECAY = 0.99998599985\n",
    "EPSILON_TIME = max(1, int(EPISODES * 0.9))\n",
    "EPISODE_BLOCK = 20\n",
    "\n",
    "BATCH_SIZE = 128\n",
    "BUFFER_SIZE = 30000\n",
    "\n",
    "GAMMA = 0.99\n",
    "LEARNING_RATE = 1e-4"
   ]
  },
  {
   "cell_type": "code",
   "execution_count": 15,
   "metadata": {
    "id": "BsTl-pFqt10b",
    "pycharm": {
     "name": "#%%\n"
    }
   },
   "outputs": [
    {
     "name": "stderr",
     "output_type": "stream",
     "text": [
      "  2%|▏         | 1/50 [00:02<02:07,  2.59s/ episodes]"
     ]
    },
    {
     "name": "stdout",
     "output_type": "stream",
     "text": [
      "Episode 0 - Avg. Reward over the last 20 episodes 790.000 epsilon 1.00 total steps 267\n",
      "Episode 1 - Avg. Reward over the last 20 episodes 790.000 epsilon 1.00 total steps 267\n"
     ]
    },
    {
     "name": "stderr",
     "output_type": "stream",
     "text": [
      "  4%|▍         | 2/50 [00:06<02:35,  3.24s/ episodes]"
     ]
    },
    {
     "name": "stdout",
     "output_type": "stream",
     "text": [
      "Episode 2 - Avg. Reward over the last 20 episodes 730.500 epsilon 0.98 total steps 636\n"
     ]
    },
    {
     "name": "stderr",
     "output_type": "stream",
     "text": [
      "  6%|▌         | 3/50 [00:10<02:54,  3.71s/ episodes]"
     ]
    },
    {
     "name": "stdout",
     "output_type": "stream",
     "text": [
      "Episode 3 - Avg. Reward over the last 20 episodes 907.667 epsilon 0.96 total steps 1050\n"
     ]
    },
    {
     "name": "stderr",
     "output_type": "stream",
     "text": [
      "  8%|▊         | 4/50 [00:11<02:05,  2.72s/ episodes]"
     ]
    },
    {
     "name": "stdout",
     "output_type": "stream",
     "text": [
      "Episode 4 - Avg. Reward over the last 20 episodes 834.500 epsilon 0.93 total steps 1166\n"
     ]
    },
    {
     "name": "stderr",
     "output_type": "stream",
     "text": [
      " 10%|█         | 5/50 [00:15<02:15,  3.01s/ episodes]"
     ]
    },
    {
     "name": "stdout",
     "output_type": "stream",
     "text": [
      "Episode 5 - Avg. Reward over the last 20 episodes 870.200 epsilon 0.91 total steps 1510\n"
     ]
    },
    {
     "name": "stderr",
     "output_type": "stream",
     "text": [
      " 12%|█▏        | 6/50 [00:15<01:33,  2.13s/ episodes]"
     ]
    },
    {
     "name": "stdout",
     "output_type": "stream",
     "text": [
      "Episode 6 - Avg. Reward over the last 20 episodes 763.667 epsilon 0.89 total steps 1550\n"
     ]
    },
    {
     "name": "stderr",
     "output_type": "stream",
     "text": [
      " 14%|█▍        | 7/50 [00:19<01:51,  2.60s/ episodes]"
     ]
    },
    {
     "name": "stdout",
     "output_type": "stream",
     "text": [
      "Episode 7 - Avg. Reward over the last 20 episodes 838.286 epsilon 0.87 total steps 1887\n"
     ]
    },
    {
     "name": "stderr",
     "output_type": "stream",
     "text": [
      " 16%|█▌        | 8/50 [00:19<01:20,  1.91s/ episodes]"
     ]
    },
    {
     "name": "stdout",
     "output_type": "stream",
     "text": [
      "Episode 8 - Avg. Reward over the last 20 episodes 762.375 epsilon 0.85 total steps 1927\n"
     ]
    },
    {
     "name": "stderr",
     "output_type": "stream",
     "text": [
      " 18%|█▊        | 9/50 [00:20<01:08,  1.67s/ episodes]"
     ]
    },
    {
     "name": "stdout",
     "output_type": "stream",
     "text": [
      "Episode 9 - Avg. Reward over the last 20 episodes 745.556 epsilon 0.83 total steps 2036\n"
     ]
    },
    {
     "name": "stderr",
     "output_type": "stream",
     "text": [
      " 20%|██        | 10/50 [00:23<01:18,  1.96s/ episodes]"
     ]
    },
    {
     "name": "stdout",
     "output_type": "stream",
     "text": [
      "Episode 10 - Avg. Reward over the last 20 episodes 773.500 epsilon 0.80 total steps 2278\n"
     ]
    },
    {
     "name": "stderr",
     "output_type": "stream",
     "text": [
      " 22%|██▏       | 11/50 [00:26<01:26,  2.21s/ episodes]"
     ]
    },
    {
     "name": "stdout",
     "output_type": "stream",
     "text": [
      "Episode 11 - Avg. Reward over the last 20 episodes 821.273 epsilon 0.78 total steps 2538\n"
     ]
    },
    {
     "name": "stderr",
     "output_type": "stream",
     "text": [
      " 24%|██▍       | 12/50 [00:27<01:13,  1.94s/ episodes]"
     ]
    },
    {
     "name": "stdout",
     "output_type": "stream",
     "text": [
      "Episode 12 - Avg. Reward over the last 20 episodes 803.833 epsilon 0.76 total steps 2660\n"
     ]
    },
    {
     "name": "stderr",
     "output_type": "stream",
     "text": [
      " 26%|██▌       | 13/50 [00:28<00:55,  1.49s/ episodes]"
     ]
    },
    {
     "name": "stdout",
     "output_type": "stream",
     "text": [
      "Episode 13 - Avg. Reward over the last 20 episodes 759.769 epsilon 0.74 total steps 2700\n"
     ]
    },
    {
     "name": "stderr",
     "output_type": "stream",
     "text": [
      " 28%|██▊       | 14/50 [00:29<00:51,  1.44s/ episodes]"
     ]
    },
    {
     "name": "stdout",
     "output_type": "stream",
     "text": [
      "Episode 14 - Avg. Reward over the last 20 episodes 750.286 epsilon 0.72 total steps 2811\n"
     ]
    },
    {
     "name": "stderr",
     "output_type": "stream",
     "text": [
      " 30%|███       | 15/50 [00:32<01:07,  1.93s/ episodes]"
     ]
    },
    {
     "name": "stdout",
     "output_type": "stream",
     "text": [
      "Episode 15 - Avg. Reward over the last 20 episodes 768.867 epsilon 0.70 total steps 3072\n"
     ]
    },
    {
     "name": "stderr",
     "output_type": "stream",
     "text": [
      " 32%|███▏      | 16/50 [00:33<01:01,  1.81s/ episodes]"
     ]
    },
    {
     "name": "stdout",
     "output_type": "stream",
     "text": [
      "Episode 16 - Avg. Reward over the last 20 episodes 758.438 epsilon 0.67 total steps 3190\n"
     ]
    },
    {
     "name": "stderr",
     "output_type": "stream",
     "text": [
      " 34%|███▍      | 17/50 [00:37<01:16,  2.31s/ episodes]"
     ]
    },
    {
     "name": "stdout",
     "output_type": "stream",
     "text": [
      "Episode 17 - Avg. Reward over the last 20 episodes 790.588 epsilon 0.65 total steps 3433\n"
     ]
    },
    {
     "name": "stderr",
     "output_type": "stream",
     "text": [
      " 36%|███▌      | 18/50 [00:39<01:10,  2.19s/ episodes]"
     ]
    },
    {
     "name": "stdout",
     "output_type": "stream",
     "text": [
      "Episode 18 - Avg. Reward over the last 20 episodes 786.333 epsilon 0.63 total steps 3569\n"
     ]
    },
    {
     "name": "stderr",
     "output_type": "stream",
     "text": [
      " 38%|███▊      | 19/50 [00:39<00:52,  1.70s/ episodes]"
     ]
    },
    {
     "name": "stdout",
     "output_type": "stream",
     "text": [
      "Episode 19 - Avg. Reward over the last 20 episodes 757.105 epsilon 0.61 total steps 3609\n"
     ]
    },
    {
     "name": "stderr",
     "output_type": "stream",
     "text": [
      " 40%|████      | 20/50 [00:42<01:03,  2.10s/ episodes]"
     ]
    },
    {
     "name": "stdout",
     "output_type": "stream",
     "text": [
      "Episode 20 - Avg. Reward over the last 20 episodes 771.000 epsilon 0.59 total steps 3840\n"
     ]
    },
    {
     "name": "stderr",
     "output_type": "stream",
     "text": [
      " 42%|████▏     | 21/50 [00:44<00:55,  1.92s/ episodes]"
     ]
    },
    {
     "name": "stdout",
     "output_type": "stream",
     "text": [
      "Episode 20 - Avg. Reward over the last 20 episodes 761.950 epsilon 0.56 total steps 3951\n",
      "Episode 21 - Avg. Reward over the last 20 episodes 761.950 epsilon 0.56 total steps 3951\n"
     ]
    },
    {
     "name": "stderr",
     "output_type": "stream",
     "text": [
      " 44%|████▍     | 22/50 [00:47<01:05,  2.33s/ episodes]"
     ]
    },
    {
     "name": "stdout",
     "output_type": "stream",
     "text": [
      "Episode 22 - Avg. Reward over the last 20 episodes 780.000 epsilon 0.54 total steps 4171\n"
     ]
    },
    {
     "name": "stderr",
     "output_type": "stream",
     "text": [
      " 46%|████▌     | 23/50 [00:48<00:48,  1.79s/ episodes]"
     ]
    },
    {
     "name": "stdout",
     "output_type": "stream",
     "text": [
      "Episode 23 - Avg. Reward over the last 20 episodes 728.450 epsilon 0.52 total steps 4211\n"
     ]
    },
    {
     "name": "stderr",
     "output_type": "stream",
     "text": [
      " 48%|████▊     | 24/50 [00:51<00:58,  2.23s/ episodes]"
     ]
    },
    {
     "name": "stdout",
     "output_type": "stream",
     "text": [
      "Episode 24 - Avg. Reward over the last 20 episodes 749.600 epsilon 0.50 total steps 4429\n"
     ]
    },
    {
     "name": "stderr",
     "output_type": "stream",
     "text": [
      " 50%|█████     | 25/50 [00:54<01:00,  2.41s/ episodes]"
     ]
    },
    {
     "name": "stdout",
     "output_type": "stream",
     "text": [
      "Episode 25 - Avg. Reward over the last 20 episodes 736.100 epsilon 0.48 total steps 4621\n"
     ]
    },
    {
     "name": "stderr",
     "output_type": "stream",
     "text": [
      " 52%|█████▏    | 26/50 [00:55<00:45,  1.89s/ episodes]"
     ]
    },
    {
     "name": "stdout",
     "output_type": "stream",
     "text": [
      "Episode 26 - Avg. Reward over the last 20 episodes 736.100 epsilon 0.46 total steps 4661\n"
     ]
    },
    {
     "name": "stderr",
     "output_type": "stream",
     "text": [
      " 54%|█████▍    | 27/50 [00:55<00:35,  1.54s/ episodes]"
     ]
    },
    {
     "name": "stdout",
     "output_type": "stream",
     "text": [
      "Episode 27 - Avg. Reward over the last 20 episodes 683.350 epsilon 0.43 total steps 4701\n"
     ]
    },
    {
     "name": "stderr",
     "output_type": "stream",
     "text": [
      " 56%|█████▌    | 28/50 [00:58<00:41,  1.88s/ episodes]"
     ]
    },
    {
     "name": "stdout",
     "output_type": "stream",
     "text": [
      "Episode 28 - Avg. Reward over the last 20 episodes 724.050 epsilon 0.41 total steps 4890\n"
     ]
    },
    {
     "name": "stderr",
     "output_type": "stream",
     "text": [
      " 58%|█████▊    | 29/50 [00:58<00:31,  1.49s/ episodes]"
     ]
    },
    {
     "name": "stdout",
     "output_type": "stream",
     "text": [
      "Episode 29 - Avg. Reward over the last 20 episodes 705.050 epsilon 0.39 total steps 4930\n"
     ]
    },
    {
     "name": "stderr",
     "output_type": "stream",
     "text": [
      " 60%|██████    | 30/50 [00:59<00:24,  1.23s/ episodes]"
     ]
    },
    {
     "name": "stdout",
     "output_type": "stream",
     "text": [
      "Episode 30 - Avg. Reward over the last 20 episodes 665.350 epsilon 0.37 total steps 4970\n"
     ]
    },
    {
     "name": "stderr",
     "output_type": "stream",
     "text": [
      " 62%|██████▏   | 31/50 [01:03<00:37,  1.95s/ episodes]"
     ]
    },
    {
     "name": "stdout",
     "output_type": "stream",
     "text": [
      "Episode 31 - Avg. Reward over the last 20 episodes 652.150 epsilon 0.35 total steps 5201\n"
     ]
    },
    {
     "name": "stderr",
     "output_type": "stream",
     "text": [
      " 64%|██████▍   | 32/50 [01:06<00:43,  2.40s/ episodes]"
     ]
    },
    {
     "name": "stdout",
     "output_type": "stream",
     "text": [
      "Episode 32 - Avg. Reward over the last 20 episodes 673.400 epsilon 0.32 total steps 5430\n"
     ]
    },
    {
     "name": "stderr",
     "output_type": "stream",
     "text": [
      " 66%|██████▌   | 33/50 [01:09<00:44,  2.64s/ episodes]"
     ]
    },
    {
     "name": "stdout",
     "output_type": "stream",
     "text": [
      "Episode 33 - Avg. Reward over the last 20 episodes 738.750 epsilon 0.30 total steps 5709\n"
     ]
    },
    {
     "name": "stderr",
     "output_type": "stream",
     "text": [
      " 68%|██████▊   | 34/50 [01:10<00:31,  1.98s/ episodes]"
     ]
    },
    {
     "name": "stdout",
     "output_type": "stream",
     "text": [
      "Episode 34 - Avg. Reward over the last 20 episodes 718.950 epsilon 0.28 total steps 5749\n"
     ]
    },
    {
     "name": "stderr",
     "output_type": "stream",
     "text": [
      " 70%|███████   | 35/50 [01:12<00:31,  2.10s/ episodes]"
     ]
    },
    {
     "name": "stdout",
     "output_type": "stream",
     "text": [
      "Episode 35 - Avg. Reward over the last 20 episodes 719.500 epsilon 0.26 total steps 5943\n"
     ]
    },
    {
     "name": "stderr",
     "output_type": "stream",
     "text": [
      " 72%|███████▏  | 36/50 [01:13<00:22,  1.62s/ episodes]"
     ]
    },
    {
     "name": "stdout",
     "output_type": "stream",
     "text": [
      "Episode 36 - Avg. Reward over the last 20 episodes 700.950 epsilon 0.24 total steps 5983\n"
     ]
    },
    {
     "name": "stderr",
     "output_type": "stream",
     "text": [
      " 74%|███████▍  | 37/50 [01:14<00:20,  1.54s/ episodes]"
     ]
    },
    {
     "name": "stdout",
     "output_type": "stream",
     "text": [
      "Episode 37 - Avg. Reward over the last 20 episodes 667.000 epsilon 0.22 total steps 6081\n"
     ]
    },
    {
     "name": "stderr",
     "output_type": "stream",
     "text": [
      " 76%|███████▌  | 38/50 [01:22<00:39,  3.31s/ episodes]"
     ]
    },
    {
     "name": "stdout",
     "output_type": "stream",
     "text": [
      "Episode 38 - Avg. Reward over the last 20 episodes 695.850 epsilon 0.19 total steps 6360\n"
     ]
    },
    {
     "name": "stderr",
     "output_type": "stream",
     "text": [
      " 78%|███████▊  | 39/50 [01:28<00:45,  4.12s/ episodes]"
     ]
    },
    {
     "name": "stdout",
     "output_type": "stream",
     "text": [
      "Episode 39 - Avg. Reward over the last 20 episodes 735.500 epsilon 0.17 total steps 6650\n"
     ]
    },
    {
     "name": "stderr",
     "output_type": "stream",
     "text": [
      " 80%|████████  | 40/50 [01:28<00:30,  3.03s/ episodes]"
     ]
    },
    {
     "name": "stdout",
     "output_type": "stream",
     "text": [
      "Episode 40 - Avg. Reward over the last 20 episodes 695.050 epsilon 0.15 total steps 6693\n"
     ]
    },
    {
     "name": "stderr",
     "output_type": "stream",
     "text": [
      " 82%|████████▏ | 41/50 [01:29<00:20,  2.27s/ episodes]"
     ]
    },
    {
     "name": "stdout",
     "output_type": "stream",
     "text": [
      "Episode 40 - Avg. Reward over the last 20 episodes 676.150 epsilon 0.13 total steps 6733\n",
      "Episode 41 - Avg. Reward over the last 20 episodes 676.150 epsilon 0.13 total steps 6733\n"
     ]
    },
    {
     "name": "stderr",
     "output_type": "stream",
     "text": [
      " 84%|████████▍ | 42/50 [01:30<00:15,  2.00s/ episodes]"
     ]
    },
    {
     "name": "stdout",
     "output_type": "stream",
     "text": [
      "Episode 42 - Avg. Reward over the last 20 episodes 654.550 epsilon 0.11 total steps 6849\n"
     ]
    },
    {
     "name": "stderr",
     "output_type": "stream",
     "text": [
      " 86%|████████▌ | 43/50 [01:30<00:10,  1.55s/ episodes]"
     ]
    },
    {
     "name": "stdout",
     "output_type": "stream",
     "text": [
      "Episode 43 - Avg. Reward over the last 20 episodes 654.550 epsilon 0.09 total steps 6889\n"
     ]
    },
    {
     "name": "stderr",
     "output_type": "stream",
     "text": [
      " 88%|████████▊ | 44/50 [01:31<00:07,  1.23s/ episodes]"
     ]
    },
    {
     "name": "stdout",
     "output_type": "stream",
     "text": [
      "Episode 44 - Avg. Reward over the last 20 episodes 614.200 epsilon 0.06 total steps 6929\n"
     ]
    },
    {
     "name": "stderr",
     "output_type": "stream",
     "text": [
      " 90%|█████████ | 45/50 [01:37<00:12,  2.59s/ episodes]"
     ]
    },
    {
     "name": "stdout",
     "output_type": "stream",
     "text": [
      "Episode 45 - Avg. Reward over the last 20 episodes 616.100 epsilon 0.04 total steps 7241\n"
     ]
    },
    {
     "name": "stderr",
     "output_type": "stream",
     "text": [
      " 92%|█████████▏| 46/50 [01:38<00:08,  2.24s/ episodes]"
     ]
    },
    {
     "name": "stdout",
     "output_type": "stream",
     "text": [
      "Episode 46 - Avg. Reward over the last 20 episodes 616.100 epsilon 0.02 total steps 7281\n"
     ]
    },
    {
     "name": "stderr",
     "output_type": "stream",
     "text": [
      " 94%|█████████▍| 47/50 [01:39<00:05,  1.96s/ episodes]"
     ]
    },
    {
     "name": "stdout",
     "output_type": "stream",
     "text": [
      "Episode 47 - Avg. Reward over the last 20 episodes 616.100 epsilon 0.02 total steps 7321\n"
     ]
    },
    {
     "name": "stderr",
     "output_type": "stream",
     "text": [
      " 96%|█████████▌| 48/50 [01:49<00:08,  4.24s/ episodes]"
     ]
    },
    {
     "name": "stdout",
     "output_type": "stream",
     "text": [
      "Episode 48 - Avg. Reward over the last 20 episodes 598.600 epsilon 0.02 total steps 7775\n"
     ]
    },
    {
     "name": "stderr",
     "output_type": "stream",
     "text": [
      " 98%|█████████▊| 49/50 [01:50<00:03,  3.38s/ episodes]"
     ]
    },
    {
     "name": "stdout",
     "output_type": "stream",
     "text": [
      "Episode 49 - Avg. Reward over the last 20 episodes 598.600 epsilon 0.02 total steps 7815\n"
     ]
    },
    {
     "name": "stderr",
     "output_type": "stream",
     "text": [
      "100%|██████████| 50/50 [01:52<00:00,  2.24s/ episodes]"
     ]
    },
    {
     "name": "stdout",
     "output_type": "stream",
     "text": [
      "Episode 50 - Avg. Reward over the last 20 episodes 598.600 epsilon 0.02 total steps 7855\n"
     ]
    },
    {
     "name": "stderr",
     "output_type": "stream",
     "text": [
      "\n"
     ]
    }
   ],
   "source": [
    "from dqn_agent import DQNAgent\n",
    "env = mario_utils.make_env(ENV_NAME)\n",
    "\n",
    "# Cada vez que hacemos un experimento reseteamos la semilla para tener reproducibilidad\n",
    "env.seed(42)\n",
    "random.seed(42)\n",
    "np.random.seed(42)\n",
    "torch.manual_seed(42)\n",
    "torch.backends.cudnn.deterministic = True\n",
    "\n",
    "net = DQN_CNN_Model(test_env.observation_space.shape[0], 2).to(DEVICE)\n",
    "\n",
    "ruta_archivo = \"/mnt/c/Users/crisd/OneDrive/Escritorio/python/mario/letra/obligatorio/modelo_pesos.pth\"\n",
    "net.load_state_dict(torch.load(ruta_archivo))\n",
    "\n",
    "#gym_env, model, obs_processing_func, memory_buffer_size, batch_size, learning_rate, gamma, epsilon_i, epsilon_f, epsilon_anneal_time\n",
    "agent = DQNAgent(env, net, process_state, BUFFER_SIZE, BATCH_SIZE, LEARNING_RATE, GAMMA, epsilon_i= EPSILON_INI, epsilon_f=EPSILON_MIN, epsilon_anneal_time=EPSILON_TIME, epsilon_decay = EPSILON_DECAY, episode_block = EPISODE_BLOCK)\n",
    "\n",
    "rewards = agent.train(EPISODES, STEPS, TOTAL_STEPS, writer_name = ENV_NAME)\n",
    "\n",
    "torch.save(net.state_dict(), ruta_archivo,)"
   ]
  },
  {
   "attachments": {},
   "cell_type": "markdown",
   "metadata": {
    "id": "t5H88XXxuLVn",
    "pycharm": {
     "name": "#%% md\n"
    }
   },
   "source": [
    "# Videos\n",
    "\n",
    "Para grabar los videos hacemos uso de la funcion `record_test_episode`  definida en nuestro agente.\n",
    "\n",
    "Dejamos un ejemplo de como hacerlo:"
   ]
  },
  {
   "cell_type": "code",
   "execution_count": 16,
   "metadata": {
    "id": "pMZrPTlTuMCj",
    "pycharm": {
     "name": "#%%\n"
    }
   },
   "outputs": [
    {
     "name": "stderr",
     "output_type": "stream",
     "text": [
      "Exception ignored in: <function Monitor.__del__ at 0x7fac363bb880>\n",
      "Traceback (most recent call last):\n",
      "  File \"/home/invoker/miniconda3/envs/py310/lib/python3.11/site-packages/gym/wrappers/monitor.py\", line 229, in __del__\n",
      "    self.close()\n",
      "  File \"/home/invoker/miniconda3/envs/py310/lib/python3.11/site-packages/gym/wrappers/monitor.py\", line 134, in close\n",
      "    super(Monitor, self).close()\n",
      "  File \"/home/invoker/miniconda3/envs/py310/lib/python3.11/site-packages/gym/core.py\", line 236, in close\n",
      "    return self.env.close()\n",
      "           ^^^^^^^^^^^^^^^^\n",
      "  File \"/home/invoker/miniconda3/envs/py310/lib/python3.11/site-packages/gym/core.py\", line 236, in close\n",
      "    return self.env.close()\n",
      "           ^^^^^^^^^^^^^^^^\n",
      "  File \"/home/invoker/miniconda3/envs/py310/lib/python3.11/site-packages/gym/core.py\", line 236, in close\n",
      "    return self.env.close()\n",
      "           ^^^^^^^^^^^^^^^^\n",
      "  [Previous line repeated 4 more times]\n",
      "  File \"/home/invoker/miniconda3/envs/py310/lib/python3.11/site-packages/nes_py/nes_env.py\", line 346, in close\n",
      "    raise ValueError('env has already been closed.')\n",
      "ValueError: env has already been closed.\n"
     ]
    },
    {
     "data": {
      "text/html": [
       "<video alt=\"test\" autoplay \n",
       "                    loop controls style=\"height: 400px;\">\n",
       "                    <source src=\"data:video/mp4;base64,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\" type=\"video/mp4\" />\n",
       "                 </video>"
      ],
      "text/plain": [
       "<IPython.core.display.HTML object>"
      ]
     },
     "metadata": {},
     "output_type": "display_data"
    }
   ],
   "source": [
    "#initial environment\n",
    "env = mario_utils.make_env(ENV_NAME)\n",
    "wrapped_env = mario_utils.wrap_env(env)\n",
    "agent.record_test_episode(wrapped_env)"
   ]
  },
  {
   "attachments": {},
   "cell_type": "markdown",
   "metadata": {
    "id": "QETh1K7pt9I_"
   },
   "source": [
    "# Double Deep Q Learning\n",
    "\n",
    "Una variante del clásico algoritmo Q Learning, es Double Q Learning, este surge como solución al problema de sesgo de maximización. Esta variante fue rápidamente adaptada con tecnicás de optimización por decenso de gradientes (https://arxiv.org/pdf/1509.06461.pdf). Recomendamos leer el algoritmo del libro de Sutton y Barto para maximizar su entendimiento del mismo.\n",
    "\n",
    "***\n",
    "\n",
    "Vamos a utilizar el mismo modelo de red neuronal creado para el problema anterior y la misma implementación de memoria, dejamos un esqueleto de un agente de Double Deep Q learning para completar en el archivo **double_dqn_agent.py**"
   ]
  },
  {
   "cell_type": "code",
   "execution_count": 17,
   "metadata": {
    "id": "KG3Nbclrt9I_",
    "pycharm": {
     "name": "#%%\n"
    }
   },
   "outputs": [],
   "source": [
    "#Hiperparámetros de entrenamiento del agente Doble DQN\n",
    "\n",
    "TOTAL_STEPS =100000000\n",
    "EPISODES = 50\n",
    "STEPS = 1000000\n",
    "\n",
    "EPSILON_INI = 1\n",
    "EPSILON_MIN = 0.05\n",
    "EPSILON_DECAY = 0.99998599985\n",
    "EPSILON_TIME = EPISODES\n",
    "EPISODE_BLOCK = 10\n",
    "\n",
    "BATCH_SIZE = 128\n",
    "BUFFER_SIZE = 40000\n",
    "\n",
    "GAMMA = 0.99\n",
    "LEARNING_RATE = 1e-4\n"
   ]
  },
  {
   "cell_type": "code",
   "execution_count": 18,
   "metadata": {
    "id": "kDNkAtdMt9I_",
    "pycharm": {
     "name": "#%%\n"
    }
   },
   "outputs": [
    {
     "name": "stderr",
     "output_type": "stream",
     "text": [
      "  2%|▏         | 1/50 [00:00<00:23,  2.12 episodes/s]"
     ]
    },
    {
     "name": "stdout",
     "output_type": "stream",
     "text": [
      "Episode 0 - Avg. Reward over the last 10 episodes 231.000 epsilon 1.00 total steps 40\n",
      "Episode 1 - Avg. Reward over the last 10 episodes 231.000 epsilon 1.00 total steps 40\n"
     ]
    },
    {
     "name": "stderr",
     "output_type": "stream",
     "text": [
      "  4%|▍         | 2/50 [00:05<02:34,  3.21s/ episodes]"
     ]
    },
    {
     "name": "stdout",
     "output_type": "stream",
     "text": [
      "Episode 2 - Avg. Reward over the last 10 episodes 609.000 epsilon 0.98 total steps 516\n"
     ]
    },
    {
     "name": "stderr",
     "output_type": "stream",
     "text": [
      "  6%|▌         | 3/50 [00:07<02:07,  2.70s/ episodes]"
     ]
    },
    {
     "name": "stdout",
     "output_type": "stream",
     "text": [
      "Episode 3 - Avg. Reward over the last 10 episodes 663.333 epsilon 0.96 total steps 704\n"
     ]
    },
    {
     "name": "stderr",
     "output_type": "stream",
     "text": [
      "  8%|▊         | 4/50 [00:09<01:56,  2.53s/ episodes]"
     ]
    },
    {
     "name": "stdout",
     "output_type": "stream",
     "text": [
      "Episode 4 - Avg. Reward over the last 10 episodes 756.500 epsilon 0.94 total steps 895\n"
     ]
    },
    {
     "name": "stderr",
     "output_type": "stream",
     "text": [
      " 10%|█         | 5/50 [00:13<02:12,  2.94s/ episodes]"
     ]
    },
    {
     "name": "stdout",
     "output_type": "stream",
     "text": [
      "Episode 5 - Avg. Reward over the last 10 episodes 809.000 epsilon 0.92 total steps 1206\n"
     ]
    },
    {
     "name": "stderr",
     "output_type": "stream",
     "text": [
      " 12%|█▏        | 6/50 [00:18<02:31,  3.43s/ episodes]"
     ]
    },
    {
     "name": "stdout",
     "output_type": "stream",
     "text": [
      "Episode 6 - Avg. Reward over the last 10 episodes 840.500 epsilon 0.91 total steps 1630\n"
     ]
    },
    {
     "name": "stderr",
     "output_type": "stream",
     "text": [
      " 14%|█▍        | 7/50 [00:19<01:55,  2.69s/ episodes]"
     ]
    },
    {
     "name": "stdout",
     "output_type": "stream",
     "text": [
      "Episode 7 - Avg. Reward over the last 10 episodes 807.714 epsilon 0.89 total steps 1739\n"
     ]
    },
    {
     "name": "stderr",
     "output_type": "stream",
     "text": [
      " 16%|█▌        | 8/50 [00:19<01:23,  1.98s/ episodes]"
     ]
    },
    {
     "name": "stdout",
     "output_type": "stream",
     "text": [
      "Episode 8 - Avg. Reward over the last 10 episodes 735.625 epsilon 0.87 total steps 1779\n"
     ]
    },
    {
     "name": "stderr",
     "output_type": "stream",
     "text": [
      " 18%|█▊        | 9/50 [00:23<01:42,  2.50s/ episodes]"
     ]
    },
    {
     "name": "stdout",
     "output_type": "stream",
     "text": [
      "Episode 9 - Avg. Reward over the last 10 episodes 766.444 epsilon 0.85 total steps 2129\n"
     ]
    },
    {
     "name": "stderr",
     "output_type": "stream",
     "text": [
      " 20%|██        | 10/50 [00:23<01:14,  1.86s/ episodes]"
     ]
    },
    {
     "name": "stdout",
     "output_type": "stream",
     "text": [
      "Episode 10 - Avg. Reward over the last 10 episodes 712.900 epsilon 0.83 total steps 2169\n"
     ]
    },
    {
     "name": "stderr",
     "output_type": "stream",
     "text": [
      " 22%|██▏       | 11/50 [00:24<01:03,  1.63s/ episodes]"
     ]
    },
    {
     "name": "stdout",
     "output_type": "stream",
     "text": [
      "Episode 10 - Avg. Reward over the last 10 episodes 752.600 epsilon 0.81 total steps 2272\n",
      "Episode 11 - Avg. Reward over the last 10 episodes 752.600 epsilon 0.81 total steps 2272\n"
     ]
    },
    {
     "name": "stderr",
     "output_type": "stream",
     "text": [
      " 24%|██▍       | 12/50 [00:25<00:47,  1.26s/ episodes]"
     ]
    },
    {
     "name": "stdout",
     "output_type": "stream",
     "text": [
      "Episode 12 - Avg. Reward over the last 10 episodes 677.000 epsilon 0.79 total steps 2312\n"
     ]
    },
    {
     "name": "stderr",
     "output_type": "stream",
     "text": [
      " 26%|██▌       | 13/50 [00:26<00:45,  1.23s/ episodes]"
     ]
    },
    {
     "name": "stdout",
     "output_type": "stream",
     "text": [
      "Episode 13 - Avg. Reward over the last 10 episodes 661.600 epsilon 0.77 total steps 2414\n"
     ]
    },
    {
     "name": "stderr",
     "output_type": "stream",
     "text": [
      " 28%|██▊       | 14/50 [00:26<00:35,  1.00 episodes/s]"
     ]
    },
    {
     "name": "stdout",
     "output_type": "stream",
     "text": [
      "Episode 14 - Avg. Reward over the last 10 episodes 581.100 epsilon 0.75 total steps 2454\n"
     ]
    },
    {
     "name": "stderr",
     "output_type": "stream",
     "text": [
      " 30%|███       | 15/50 [00:27<00:28,  1.21 episodes/s]"
     ]
    },
    {
     "name": "stdout",
     "output_type": "stream",
     "text": [
      "Episode 15 - Avg. Reward over the last 10 episodes 502.300 epsilon 0.73 total steps 2494\n"
     ]
    },
    {
     "name": "stderr",
     "output_type": "stream",
     "text": [
      " 32%|███▏      | 16/50 [00:28<00:31,  1.08 episodes/s]"
     ]
    },
    {
     "name": "stdout",
     "output_type": "stream",
     "text": [
      "Episode 16 - Avg. Reward over the last 10 episodes 465.200 epsilon 0.72 total steps 2604\n"
     ]
    },
    {
     "name": "stderr",
     "output_type": "stream",
     "text": [
      " 34%|███▍      | 17/50 [00:31<00:47,  1.44s/ episodes]"
     ]
    },
    {
     "name": "stdout",
     "output_type": "stream",
     "text": [
      "Episode 17 - Avg. Reward over the last 10 episodes 507.600 epsilon 0.70 total steps 2842\n"
     ]
    },
    {
     "name": "stderr",
     "output_type": "stream",
     "text": [
      " 36%|███▌      | 18/50 [00:32<00:49,  1.56s/ episodes]"
     ]
    },
    {
     "name": "stdout",
     "output_type": "stream",
     "text": [
      "Episode 18 - Avg. Reward over the last 10 episodes 565.400 epsilon 0.68 total steps 3015\n"
     ]
    },
    {
     "name": "stderr",
     "output_type": "stream",
     "text": [
      " 38%|███▊      | 19/50 [00:35<00:58,  1.89s/ episodes]"
     ]
    },
    {
     "name": "stdout",
     "output_type": "stream",
     "text": [
      "Episode 19 - Avg. Reward over the last 10 episodes 567.400 epsilon 0.66 total steps 3254\n"
     ]
    },
    {
     "name": "stderr",
     "output_type": "stream",
     "text": [
      " 40%|████      | 20/50 [00:39<01:12,  2.40s/ episodes]"
     ]
    },
    {
     "name": "stdout",
     "output_type": "stream",
     "text": [
      "Episode 20 - Avg. Reward over the last 10 episodes 645.700 epsilon 0.64 total steps 3579\n"
     ]
    },
    {
     "name": "stderr",
     "output_type": "stream",
     "text": [
      " 42%|████▏     | 21/50 [00:41<01:09,  2.39s/ episodes]"
     ]
    },
    {
     "name": "stdout",
     "output_type": "stream",
     "text": [
      "Episode 20 - Avg. Reward over the last 10 episodes 686.900 epsilon 0.62 total steps 3789\n",
      "Episode 21 - Avg. Reward over the last 10 episodes 686.900 epsilon 0.62 total steps 3789\n"
     ]
    },
    {
     "name": "stderr",
     "output_type": "stream",
     "text": [
      " 44%|████▍     | 22/50 [00:44<01:11,  2.54s/ episodes]"
     ]
    },
    {
     "name": "stdout",
     "output_type": "stream",
     "text": [
      "Episode 22 - Avg. Reward over the last 10 episodes 766.900 epsilon 0.60 total steps 4046\n"
     ]
    },
    {
     "name": "stderr",
     "output_type": "stream",
     "text": [
      " 46%|████▌     | 23/50 [00:46<01:03,  2.35s/ episodes]"
     ]
    },
    {
     "name": "stdout",
     "output_type": "stream",
     "text": [
      "Episode 23 - Avg. Reward over the last 10 episodes 786.000 epsilon 0.58 total steps 4221\n"
     ]
    },
    {
     "name": "stderr",
     "output_type": "stream",
     "text": [
      " 48%|████▊     | 24/50 [00:46<00:46,  1.79s/ episodes]"
     ]
    },
    {
     "name": "stdout",
     "output_type": "stream",
     "text": [
      "Episode 24 - Avg. Reward over the last 10 episodes 786.000 epsilon 0.56 total steps 4261\n"
     ]
    },
    {
     "name": "stderr",
     "output_type": "stream",
     "text": [
      " 50%|█████     | 25/50 [00:47<00:40,  1.60s/ episodes]"
     ]
    },
    {
     "name": "stdout",
     "output_type": "stream",
     "text": [
      "Episode 25 - Avg. Reward over the last 10 episodes 825.700 epsilon 0.54 total steps 4364\n"
     ]
    },
    {
     "name": "stderr",
     "output_type": "stream",
     "text": [
      " 52%|█████▏    | 26/50 [00:49<00:36,  1.52s/ episodes]"
     ]
    },
    {
     "name": "stdout",
     "output_type": "stream",
     "text": [
      "Episode 26 - Avg. Reward over the last 10 episodes 822.200 epsilon 0.53 total steps 4480\n"
     ]
    },
    {
     "name": "stderr",
     "output_type": "stream",
     "text": [
      " 54%|█████▍    | 27/50 [00:50<00:32,  1.42s/ episodes]"
     ]
    },
    {
     "name": "stdout",
     "output_type": "stream",
     "text": [
      "Episode 27 - Avg. Reward over the last 10 episodes 779.600 epsilon 0.51 total steps 4586\n"
     ]
    },
    {
     "name": "stderr",
     "output_type": "stream",
     "text": [
      " 56%|█████▌    | 28/50 [00:51<00:30,  1.36s/ episodes]"
     ]
    },
    {
     "name": "stdout",
     "output_type": "stream",
     "text": [
      "Episode 28 - Avg. Reward over the last 10 episodes 760.500 epsilon 0.49 total steps 4692\n"
     ]
    },
    {
     "name": "stderr",
     "output_type": "stream",
     "text": [
      " 58%|█████▊    | 29/50 [00:54<00:35,  1.67s/ episodes]"
     ]
    },
    {
     "name": "stdout",
     "output_type": "stream",
     "text": [
      "Episode 29 - Avg. Reward over the last 10 episodes 730.700 epsilon 0.47 total steps 4891\n"
     ]
    },
    {
     "name": "stderr",
     "output_type": "stream",
     "text": [
      " 60%|██████    | 30/50 [00:55<00:31,  1.56s/ episodes]"
     ]
    },
    {
     "name": "stdout",
     "output_type": "stream",
     "text": [
      "Episode 30 - Avg. Reward over the last 10 episodes 691.800 epsilon 0.45 total steps 5005\n"
     ]
    },
    {
     "name": "stderr",
     "output_type": "stream",
     "text": [
      " 62%|██████▏   | 31/50 [00:55<00:23,  1.25s/ episodes]"
     ]
    },
    {
     "name": "stdout",
     "output_type": "stream",
     "text": [
      "Episode 30 - Avg. Reward over the last 10 episodes 610.100 epsilon 0.43 total steps 5049\n",
      "Episode 31 - Avg. Reward over the last 10 episodes 610.100 epsilon 0.43 total steps 5049\n"
     ]
    },
    {
     "name": "stderr",
     "output_type": "stream",
     "text": [
      " 64%|██████▍   | 32/50 [00:57<00:23,  1.29s/ episodes]"
     ]
    },
    {
     "name": "stdout",
     "output_type": "stream",
     "text": [
      "Episode 32 - Avg. Reward over the last 10 episodes 566.000 epsilon 0.41 total steps 5164\n"
     ]
    },
    {
     "name": "stderr",
     "output_type": "stream",
     "text": [
      " 66%|██████▌   | 33/50 [00:58<00:21,  1.25s/ episodes]"
     ]
    },
    {
     "name": "stdout",
     "output_type": "stream",
     "text": [
      "Episode 33 - Avg. Reward over the last 10 episodes 547.800 epsilon 0.39 total steps 5266\n"
     ]
    },
    {
     "name": "stderr",
     "output_type": "stream",
     "text": [
      " 68%|██████▊   | 34/50 [01:01<00:28,  1.79s/ episodes]"
     ]
    },
    {
     "name": "stdout",
     "output_type": "stream",
     "text": [
      "Episode 34 - Avg. Reward over the last 10 episodes 627.900 epsilon 0.37 total steps 5520\n"
     ]
    },
    {
     "name": "stderr",
     "output_type": "stream",
     "text": [
      " 70%|███████   | 35/50 [01:03<00:27,  1.86s/ episodes]"
     ]
    },
    {
     "name": "stdout",
     "output_type": "stream",
     "text": [
      "Episode 35 - Avg. Reward over the last 10 episodes 628.500 epsilon 0.35 total steps 5687\n"
     ]
    },
    {
     "name": "stderr",
     "output_type": "stream",
     "text": [
      " 72%|███████▏  | 36/50 [01:06<00:30,  2.21s/ episodes]"
     ]
    },
    {
     "name": "stdout",
     "output_type": "stream",
     "text": [
      "Episode 36 - Avg. Reward over the last 10 episodes 698.900 epsilon 0.34 total steps 5935\n"
     ]
    },
    {
     "name": "stderr",
     "output_type": "stream",
     "text": [
      " 74%|███████▍  | 37/50 [01:08<00:29,  2.26s/ episodes]"
     ]
    },
    {
     "name": "stdout",
     "output_type": "stream",
     "text": [
      "Episode 37 - Avg. Reward over the last 10 episodes 742.200 epsilon 0.32 total steps 6138\n"
     ]
    },
    {
     "name": "stderr",
     "output_type": "stream",
     "text": [
      " 76%|███████▌  | 38/50 [01:10<00:23,  1.96s/ episodes]"
     ]
    },
    {
     "name": "stdout",
     "output_type": "stream",
     "text": [
      "Episode 38 - Avg. Reward over the last 10 episodes 743.100 epsilon 0.30 total steps 6241\n"
     ]
    },
    {
     "name": "stderr",
     "output_type": "stream",
     "text": [
      " 78%|███████▊  | 39/50 [01:13<00:25,  2.31s/ episodes]"
     ]
    },
    {
     "name": "stdout",
     "output_type": "stream",
     "text": [
      "Episode 39 - Avg. Reward over the last 10 episodes 771.700 epsilon 0.28 total steps 6492\n"
     ]
    },
    {
     "name": "stderr",
     "output_type": "stream",
     "text": [
      " 80%|████████  | 40/50 [01:13<00:17,  1.77s/ episodes]"
     ]
    },
    {
     "name": "stdout",
     "output_type": "stream",
     "text": [
      "Episode 40 - Avg. Reward over the last 10 episodes 732.300 epsilon 0.26 total steps 6532\n"
     ]
    },
    {
     "name": "stderr",
     "output_type": "stream",
     "text": [
      " 82%|████████▏ | 41/50 [01:14<00:12,  1.39s/ episodes]"
     ]
    },
    {
     "name": "stdout",
     "output_type": "stream",
     "text": [
      "Episode 40 - Avg. Reward over the last 10 episodes 733.100 epsilon 0.24 total steps 6572\n",
      "Episode 41 - Avg. Reward over the last 10 episodes 733.100 epsilon 0.24 total steps 6572\n"
     ]
    },
    {
     "name": "stderr",
     "output_type": "stream",
     "text": [
      " 84%|████████▍ | 42/50 [01:20<00:21,  2.74s/ episodes]"
     ]
    },
    {
     "name": "stdout",
     "output_type": "stream",
     "text": [
      "Episode 42 - Avg. Reward over the last 10 episodes 786.300 epsilon 0.22 total steps 6821\n"
     ]
    },
    {
     "name": "stderr",
     "output_type": "stream",
     "text": [
      " 86%|████████▌ | 43/50 [01:23<00:20,  2.91s/ episodes]"
     ]
    },
    {
     "name": "stdout",
     "output_type": "stream",
     "text": [
      "Episode 43 - Avg. Reward over the last 10 episodes 825.900 epsilon 0.20 total steps 7118\n"
     ]
    },
    {
     "name": "stderr",
     "output_type": "stream",
     "text": [
      " 88%|████████▊ | 44/50 [01:25<00:14,  2.47s/ episodes]"
     ]
    },
    {
     "name": "stdout",
     "output_type": "stream",
     "text": [
      "Episode 44 - Avg. Reward over the last 10 episodes 783.200 epsilon 0.18 total steps 7242\n"
     ]
    },
    {
     "name": "stderr",
     "output_type": "stream",
     "text": [
      " 90%|█████████ | 45/50 [01:25<00:09,  1.87s/ episodes]"
     ]
    },
    {
     "name": "stdout",
     "output_type": "stream",
     "text": [
      "Episode 45 - Avg. Reward over the last 10 episodes 742.900 epsilon 0.16 total steps 7282\n"
     ]
    },
    {
     "name": "stderr",
     "output_type": "stream",
     "text": [
      " 92%|█████████▏| 46/50 [01:25<00:05,  1.46s/ episodes]"
     ]
    },
    {
     "name": "stdout",
     "output_type": "stream",
     "text": [
      "Episode 46 - Avg. Reward over the last 10 episodes 636.400 epsilon 0.15 total steps 7322\n"
     ]
    },
    {
     "name": "stderr",
     "output_type": "stream",
     "text": [
      " 94%|█████████▍| 47/50 [01:26<00:03,  1.17s/ episodes]"
     ]
    },
    {
     "name": "stdout",
     "output_type": "stream",
     "text": [
      "Episode 47 - Avg. Reward over the last 10 episodes 555.300 epsilon 0.13 total steps 7362\n"
     ]
    },
    {
     "name": "stderr",
     "output_type": "stream",
     "text": [
      " 96%|█████████▌| 48/50 [01:26<00:01,  1.04 episodes/s]"
     ]
    },
    {
     "name": "stdout",
     "output_type": "stream",
     "text": [
      "Episode 48 - Avg. Reward over the last 10 episodes 515.700 epsilon 0.11 total steps 7402\n"
     ]
    },
    {
     "name": "stderr",
     "output_type": "stream",
     "text": [
      " 98%|█████████▊| 49/50 [01:27<00:00,  1.21 episodes/s]"
     ]
    },
    {
     "name": "stdout",
     "output_type": "stream",
     "text": [
      "Episode 49 - Avg. Reward over the last 10 episodes 436.700 epsilon 0.09 total steps 7442\n"
     ]
    },
    {
     "name": "stderr",
     "output_type": "stream",
     "text": [
      "100%|██████████| 50/50 [01:30<00:00,  1.82s/ episodes]"
     ]
    },
    {
     "name": "stdout",
     "output_type": "stream",
     "text": [
      "Episode 50 - Avg. Reward over the last 10 episodes 484.100 epsilon 0.07 total steps 7634\n"
     ]
    },
    {
     "name": "stderr",
     "output_type": "stream",
     "text": [
      "\n"
     ]
    }
   ],
   "source": [
    "env = mario_utils.make_env(ENV_NAME)\n",
    "from double_dqn_agent import DoubleDQNAgent\n",
    "# Cada vez que hacemos un experimento reseteamos la semilla para tener reproducibilidad\n",
    "env.seed(42)\n",
    "random.seed(42)\n",
    "np.random.seed(42)\n",
    "torch.manual_seed(42)\n",
    "torch.backends.cudnn.deterministic = True\n",
    "\n",
    "modelo_a = DQN_CNN_Model(env.observation_space.shape[0], env.action_space.n).to(DEVICE)\n",
    "modelo_b = DQN_CNN_Model(env.observation_space.shape[0], env.action_space.n).to(DEVICE)\n",
    "\n",
    "ruta_archivo_a = \"/mnt/c/Users/crisd/OneDrive/Escritorio/python/mario/letra/obligatorio/modelo_pesos_dobleqa.pth\"\n",
    "modelo_a.load_state_dict(torch.load(ruta_archivo_a))\n",
    "\n",
    "ruta_archivo_b = \"/mnt/c/Users/crisd/OneDrive/Escritorio/python/mario/letra/obligatorio/modelo_pesos_dobleqb.pth\"\n",
    "modelo_b.load_state_dict(torch.load(ruta_archivo_b))\n",
    "\n",
    "agent = DoubleDQNAgent(env, modelo_a, modelo_b, process_state, BUFFER_SIZE, BATCH_SIZE, LEARNING_RATE, GAMMA, epsilon_i= EPSILON_INI, epsilon_f=EPSILON_MIN, epsilon_anneal_time=EPSILON_TIME, epsilon_decay = EPSILON_DECAY, episode_block = EPISODE_BLOCK)\n",
    "\n",
    "rewards = agent.train(EPISODES, STEPS, TOTAL_STEPS)\n",
    "torch.save(agent.modelo_a.state_dict(), ruta_archivo_a)\n",
    "torch.save(agent.modelo_b.state_dict(), ruta_archivo_b)"
   ]
  },
  {
   "cell_type": "code",
   "execution_count": 19,
   "metadata": {
    "id": "zi7zS7Qht9I_",
    "pycharm": {
     "name": "#%%\n"
    }
   },
   "outputs": [
    {
     "name": "stderr",
     "output_type": "stream",
     "text": [
      "Exception ignored in: <function Monitor.__del__ at 0x7fac363bb880>\n",
      "Traceback (most recent call last):\n",
      "  File \"/home/invoker/miniconda3/envs/py310/lib/python3.11/site-packages/gym/wrappers/monitor.py\", line 229, in __del__\n",
      "    self.close()\n",
      "  File \"/home/invoker/miniconda3/envs/py310/lib/python3.11/site-packages/gym/wrappers/monitor.py\", line 134, in close\n",
      "    super(Monitor, self).close()\n",
      "  File \"/home/invoker/miniconda3/envs/py310/lib/python3.11/site-packages/gym/core.py\", line 236, in close\n",
      "    return self.env.close()\n",
      "           ^^^^^^^^^^^^^^^^\n",
      "  File \"/home/invoker/miniconda3/envs/py310/lib/python3.11/site-packages/gym/core.py\", line 236, in close\n",
      "    return self.env.close()\n",
      "           ^^^^^^^^^^^^^^^^\n",
      "  File \"/home/invoker/miniconda3/envs/py310/lib/python3.11/site-packages/gym/core.py\", line 236, in close\n",
      "    return self.env.close()\n",
      "           ^^^^^^^^^^^^^^^^\n",
      "  [Previous line repeated 4 more times]\n",
      "  File \"/home/invoker/miniconda3/envs/py310/lib/python3.11/site-packages/nes_py/nes_env.py\", line 346, in close\n",
      "    raise ValueError('env has already been closed.')\n",
      "ValueError: env has already been closed.\n"
     ]
    },
    {
     "data": {
      "text/html": [
       "<video alt=\"test\" autoplay \n",
       "                    loop controls style=\"height: 400px;\">\n",
       "                    <source src=\"data:video/mp4;base64,AAAAIGZ0eXBpc29tAAACAGlzb21pc28yYXZjMW1wNDEAAAAIZnJlZQAAS7JtZGF0AAACrgYF//+q3EXpvebZSLeWLNgg2SPu73gyNjQgLSBjb3JlIDE2MyByMzA2MCA1ZGI2YWE2IC0gSC4yNjQvTVBFRy00IEFWQyBjb2RlYyAtIENvcHlsZWZ0IDIwMDMtMjAyMSAtIGh0dHA6Ly93d3cudmlkZW9sYW4ub3JnL3gyNjQuaHRtbCAtIG9wdGlvbnM6IGNhYmFjPTEgcmVmPTMgZGVibG9jaz0xOjA6MCBhbmFseXNlPTB4MzoweDExMyBtZT1oZXggc3VibWU9NyBwc3k9MSBwc3lfcmQ9MS4wMDowLjAwIG1peGVkX3JlZj0xIG1lX3JhbmdlPTE2IGNocm9tYV9tZT0xIHRyZWxsaXM9MSA4eDhkY3Q9MSBjcW09MCBkZWFkem9uZT0yMSwxMSBmYXN0X3Bza2lwPTEgY2hyb21hX3FwX29mZnNldD0tMiB0aHJlYWRzPTcgbG9va2FoZWFkX3RocmVhZHM9MSBzbGljZWRfdGhyZWFkcz0wIG5yPTAgZGVjaW1hdGU9MSBpbnRlcmxhY2VkPTAgYmx1cmF5X2NvbXBhdD0wIGNvbnN0cmFpbmVkX2ludHJhPTAgYmZyYW1lcz0zIGJfcHlyYW1pZD0yIGJfYWRhcHQ9MSBiX2JpYXM9MCBkaXJlY3Q9MSB3ZWlnaHRiPTEgb3Blbl9nb3A9MCB3ZWlnaHRwPTIga2V5aW50PTI1MCBrZXlpbnRfbWluPTI1IHNjZW5lY3V0PTQwIGludHJhX3JlZnJlc2g9MCByY19sb29rYWhlYWQ9NDAgcmM9Y3JmIG1idHJlZT0xIGNyZj0yMy4wIHFjb21wPTAuNjAgcXBtaW49MCBxcG1heD02OSBxcHN0ZXA9NCBpcF9yYXRpbz0xLjQwIGFxPTE6MS4wMACAAAAXQGWIhAAr//7Y5/MrYeKublPHw8qlaaRNf2XxewPdSIm0uRNh7uHvX92GtjlGjS2eLcCct+ZXpI+9XLf/8KBTHKDnKYbKSQOkdNYm6L4qmUW0Kv0DKYe9Y4OJoh3f898VvwMI1skDC1kI1kbibQ0QxoQf13RNWT/FUDBfAn24pCfyGrKkyE/DIeYIesSHUN1Qumo5geqGylMCx5uKzXPjKs9GurnS6Z/hkQHy9Mu9dT8fJLG2DeKQf5rKAouBCKWgniBmypC/ZWQXimtQ36MkVUnwGdvQwAwCEw+jUrwFwsd7RLrfwGsJgt3u1HsdZXl6AAh/04f6e4zu6tXZ6XikbXYV2MpJ36xGrKYUpJwhRUEt//Q1I1EKxMyWsnL0QtR8kWIcewnhj/IZeu9uHjx3unZKs1rtabRHjkGwo4XoK8RrrX1u91vI0jpc/tPo21uaOcQF0NbkXuFugJ+N/l8TV58kv039gQnV8JV2byyiUmsHE+Zz8dW/XY+TUEtjejMIDFaXkXtl4XS41BbYFHB1YYKK8Gi1lNlO/1mon6sKu2fuY/lLfo4Fb+wvWuxzq2Yel+2uzAOPU+ldRi+ji9guEz8KA4A9PulW0r+YyH+KY37/+PwF88ypz3g816bi4YFnFTsxTk3ZbJjTCfm34+iJBbv8nXlhcHRS4D5NuGzlMdS0k6cwlCl1jskSDsq1edwp9TOUsHMDMsbxtDbsyDA5Qxn0NmSwWpMzo4TRQ5SpEnrBNFCDJfGE1heuKpfbyUmnrjt9JIK+tZOBKDU8vLRErIfumVPDOV12r1nY78H2/K1eUxzMpdVrTvheIX/IHpynKJ9e7lWaUHudroL+9pgr/D4rJ5WV9lJ8QRY3mSMxAu4Nw40ufxwWzOjia8xWi3Bwy9h8nASeQNU6piMgI4EXx53AL9Bwpi76FRBmhatpeOw96fqlQ4K/qXUIYtBowZ0RbvHQOVbNQKxUg7Gv6h1hNRhRefLutldqadOsoonFVeXhuyY8raKv/L8q8lUZBihPzm7htM03ylbtVAqFZoWlcwrjk6r0VDDpG85MAKRdYGbm12SoZIx+B+e2MPbINAXMms0VtZgpGziWWL87Fv80MXc8EmFPV51eHbu4aiI721LAnKibBKpGB5kgzhuhS7SfNuuuoynDZAwNIj7Ej++f8SO7FF36UDSQBWjB97ZXixbEAIHkXQnJ6PrDhFNk4ONBVYI0wKtcUiTEcvXdrUTiXiNXMpsYird7uWv74Jgw0PCr80gtrI5vROUcCb1hs83UTlcXHmIOx/RanM0NjlaH0FmxYbrKvrE+tOTftd9S05PbMGvdeToJV17tpLff8gWukQUoWq23jB0/5DyexjgmD0tIEWKGUPLnAhfEaSKxHRzsNIxSxUM1Yv5/tzYVvapemhc4ZGs7Wm5oOnf496W0pZhX6U1TGVQ6fn/UjbNNGo/I5Co7h5WxmM6ulY0huk0XLOxWzy8V2YPsvR6vD61B0hG/fO3usqJLtdwqEyD6MC6glTLIF+p9PKxQ11IuILIm7pvfibHfO/CYnEUFN8H3jtEqoTt2WixRgVUfI+F1FuXSY7Q2/ICu6Ps2eA18oF7LnJ61q5ngt6e4pwiky8cleilnXbc+Gkpz1s3JIrgC/XhmFAhwQw5pDE963/kUOHXDryEYqJupWqGDkphiSgmpbhtNxm8WH/hD2nrRazuAHqK55W4QWD/xXRUywjjz+7DvGb0XXsbTEZhiAQ4TgX+GdsBqZmWkId5Slry6iZoY09wAn+YL08kcIlFYu64qvbF5mBRk83khCNe8/uH1118ZXDTTr3+wQ2e473slGifiYwQLjT7i62/rIMDEp2BAO4T4UGJefP9EnfbrPnbqt66oTQD/HqmmxvyfOKEakbJx1GPdRyokCOulfPVZa1GkPD/8KQDIfgw841/8SSawSxi7+h7XYpak+cxsWniU7vevWa9dgMSHfohJlFncdqZRAvCmGJljk/bYcnUFiq2U4c0Vq2BWxzmwR4uIK/jgnaX9Qs7935O607Pl0vB8dqmNggqXDIPZqmMTEkMDXU/+9/e43HWdLtuWGQSVj5Ur65ZSwysZo/8STO2AAJjMy7DV079LQa1ZoHcTOBBlP6X0VP0Ze++Ktnp/jksgMu/CmRvHhmwqKSJI2z/8BbJwW2CMAD0fsGQU/0aWp0fcyGeQ1sajiCQ9rBorb4IbkExXGYXpZG//dg6yD79UGBU8tHJFsy1k4WU1EdwsCAKtnMHu2pyh1ZSgZSTpoLu6m3QEq+L3CJD2tUS3n5VzqpCBn0lc/spgnLoKOw+/ONerxcO8rPt/oEZ6RCR97YTdxV1yUGvA9FkAxZZ6nocWgLuDmRfqOkL0CFaZL8ReR31S0xhK/pAzglyAAAADAAVCcI1Po47xIrDbUbne5NB/C74xVhaP8YFrI/gPdLcqLTsRqWTAq5DyWfIAGMw2Sl8kAw6YKNcUX0hAesFATrSMpZkXapPHC0iWDcRmd/BNYuJHHLEKBeD63P8OMkJPM6kR6q53rNluOtwzCjTMLTCRHno7yD5SJYqX90WPQdCjXK0RaS59OgKwhgGqMKB/d2m9g2UP1X8Mg9faJZhXZ/B0drVpLF4rQKtIezkZvPFb6j2fp6kdKyWiavwb/HjMBvz7T6T40axE8kRZ/4JnLFTvUKQ88VUq5PuusVGXjEwoqjDM+/1dlBagbRFD/B9exRFR+PeErDwy8MI1x0Kc1fGvFqURic8Eb9V3XX4Ipo7ry7a5aL+dYyZVLVk2oBY79a2NrsTFZfrxcO/iQIufDm9F0hEwtrs+aFL8DcK6Xcil0WKen0E2JF0CzpmvqCG+vbZRXHtwLWH4k7X/t7KbayOf8EzfIY/O9O1WLOdh6aGlxYvkFF4ZTMfRfrlq71sO+EblmJNVULFawBAFr4gjyugb4brbSOqYwTG3sHn7SzXxBTtMkLZ7FDsa2/VkE3/UG6LcIqLHor/DJPu0LGpmMmOcvz/1x6sVPOlHjAQrnlxjr8ewGzLfukXepua7pzZmTs+9DvNKpF9FjE81bwDohA8kD0c7y7whoCdmiFprpVCB3YSrCcXyGXstd6vyYc95j7GybX6koqRLJIWB5coGJY/kjsLE569mO7oGW1JOhgX2GdBp7+l9JotkRWC+vZfAD5uldcvOviIEW3McAjqBqRfWOHwaQK5stKLYq2QJfkI87hFzapD+wgCKC8JAErI25hTkqVzUvl0fFboan1w3ft1dqlEfgnMc3a1zLAFd/vBivI3AmfEHYVA8KRCUGvKYGsOib+rKKArFzaqTLHfG2LxR/oBFUnwylhdQk/sqok0rQVxLY0udaqa1Hiby6DTLSraa+seQEk5m+oMCeU8Bn0d/igPaaLH3pRGZ5t443dOypsvqgd1K0vMhov0IMs/ceF/Z/zlMjW5CxDayj7CWMXnXw0RX8qfYihytvY9c6k1RPpTktHz0nJbsoywdN4XVAleR5rZab31Q26fqCW+2KRGBc/kAkSE64aVfUXqec7PgP4uy9zXIGdFvT3CHOJqBB/wqaAQ0zzXp1DNN5w4RA7Eafy2mCU/soqO3EEhIfy9FEqgASc7Zx7RO8k+5yqIJaBne//aaBSDB5DBltUnci561XgwxygBhhnIHCpL45vVul39/Z6DkZELEMyobHsNZK167jbJcYJDcOVpD0zNTQTKmYwBIui+2q+MQwHLviaush5yq9VfE3/P5WBb7v26AlJvPdpZ+NcN3Dk+VivOLAmR10kXlDoS6JmRQORz5p4FsVOy1Y3g7ibR+GTR55Z5w23r91cwcnZdV5xhEmDlFVDtTKMuMVF3Qlr78G3Xn5C7omc9z6schyC6RPttb7veq3114TjDneVYC7lusdTRNY3h2oAX9+LWq+jYAqugyRHhDSnYMwQpMXBglTHIB81aoTPHt5Yfiu134haSZcZUs0yE/dg4KVoHnCbAr+9AKI601YrskmGWPPBSlwwk+Pch5tK0tfgCrsF0B4HTPDPCu7ZNuB5H1tYWxW/a00kmze+y7Dvx4jkDCBgFxfiHbsmvlF7P0uVMr0if8lPRqk1eMIHd0LB6ZL5HBjf+/f6OYu/+0lIHHJtOZuQocebwmqMWz4XcIKnm0ex7GE3ZMNA5eWVLTfxW1HE61mpfdJiE+mDxMldb5vR4JWwlt7jWTxjbHBDgXs3so8jSPRvberXMRKPdeHhlnu9i9nZdkjy+2UHONSAbirebc2cjwjnc2zYqzAeVgFVNfmHfguSocAeAs9Tl8fQpubrJznbsuFriTAuqQLhWsOTSIIbHn8byEviMZLVtpFwauCXf4+JHCQX/WMJBA+XOgDZZrT9/4DJzYAx5l5gksShWKLH/9h2aYUCIHHnFdSRrsbzFgpxy/Wm8854PgbjA0eSAqJN8FW9J6MQ9A6NKflQsGN4Olwp1MSHpBStMiPeTBf9FjT2xMCTAr/6iqrCf+xAdVRssOXOgFitEkjJGOgMDH3Rdo3g7NR/zRVkriVtWNdV7nFdVDesqTTDiO6dwakmn3J3m31LUEgKk4CknWc2fLDuTlyO3BQm0tqlgD1b8+aj84JzL9DyiB+aWFZsZxAXZGtHn8Ufc/L49RssOXOgHaCeu6gMQXMUNDJUjkoDXrcnUKC9gs3nlQms4rqSNdsFpJGjRAv4jGDaTbpOesYUICok3wViFRfMlLnRjpkyXFQj/38SQpiPu+35f/M66sX5JpA0yNW9SEQCYsd6lF/KNlhy50BVGhJIyRiLt2fBi3aN7gvpAJ8bNB+B2xUzwPnFdVDetD33kRtFZxQTfJ3J3m31GeYgKk4CknjYmgAPWftzlbpYYl+SliZIgCAF9w2OUzYpMzcGPfWCJeEqzAvzl8KfQoruo2WHLnQFasCnEEHqE+O0paUT0gHqChSMnhAUUalaO7oSb1GGb9OKR+dogYA3gIncm4bjBVrZ4K4b4KzU8rqvCobJM9dNKlhNJVowDnbTl8xbut5siSA75yZUPvASWlKTF/Sq5UBRssOXOgJlYkz9GTBdW6bC9DwqYFuNunJKbC+StmU5ZOlGqXpMworzgpHRJ5jKpmm+QLyYB6CAqiWEmkE+zlXhYZxxGkKMeJmcRDIxQ0gmB2YzZ0tIc2KRRtIGMGCa/54WL6TmjSxk8yREYrXB0BclJ1PwwY32vXI1liYdG5eyOhonkQoZzItsgpJdMPKihKt8ZY4/qpHc4M/PY0w3wVp6BUNTzfQzmLmLkrOgUpGjUxICjnoF53ziCk/gtUrYe+YN2sRP6LxJy8bm0d0AFisf9Rk3TlaxqJW6Y3+ry//i1dIFl/ENPoUc4tvBQHlnQuyrT+EC2BYLgEOTHqXn4+GZX7i1gRrl9bfgg9FkYJMD9jWnHpceSnvX92oA6FLbVWX1MVdsrvQof7/nnXJFJXhBTACdWJM+oN/rXY+vi7EQdaSaKIO9Tu0A4ES9z7fwAnywwqxop5gTHl+O8LgDZBaJt1sL9zc2Ey374Pkpc6MoztjtqzoJ1kLdLkCtCN0ssLVpkGbGWQ/E4KmFGs+QDNJ2mzHgpgBZXzr14k1wHm9K6IsVXGZW5GNsf5n+IamFt2/f2CgPKqcOcC26H/sP67gEOTHGhRnwzLAUmOX7y/JSz9tmKiexNo6iqUznrCNfMtHY28mTU9FTe8nqYWLp5jZHg0a4gHiX7cznnTYqvZ54Fav1Q1TIpWwtyxsKbwxIOgMwT4KVUnnuh2pUJsnJUVXg8oEOSA5CCZBEaUGwBygi5v7mqo/oetB3ZTgg4x6El8NrsqAK5YCduvqLUED0G4a8w0RJdGTaVUbLH9jqW620ZaOjIYSzXGieEpE/47/i7oI9MLg1Zs2OcW7m2xA5OY+Uop5+iNOLgSCYKf4vU49U3tKm+9yAPWft0IRaiFY1l5Op7LCTjzC6jp3sncrA1XVn0Y66sBXjCk62yNKeKVJBUXntAFoVwyD9XmC19ikt8WDU0UQmB4R7/9QG73WcW8T4Da1LbW4+pae+GtX9GkHigHVYX8XIefc3aRz6FEKkgQk3OvgbePzfhtuygzUYgFQ8E6JW/JRnn5z8qhgeGYJVuT0FU2EfdaA7sDLC0foXhYwLaGIQgffI8C44ni7+j7UL+MDWe9HgsEVAsiTsPxWab5AvJdAvYFUSwk0J702A9di+gIRBvuAZBL3OagPuFDzRmhl5EQW8G7GofOcmyPJ32E45uT0FU1klyZF7amKFo/0FndLtPiQhyrup2Ew3FTWaaVi+NUxD5TCBZ+aAa0u99pydzwNZ8PwNgVRLCS7mslr0KDF88Ag8wS1Or5pMaA+44byJL4eUtELBZcXmpCAkwbq4RQOOIGYhAHLLtVMhLijpVF8FoPrzwsemSgxOOnIURQ5wXC2XQkBJ8BuuEmy4+padPwQtv3cHihPvepzmcJNMZ2SoA9di8vUh6vMMSXcV4FDO0iAqM+YTqNJV1bmTg29MYaiPshw7k9BVNQJuwgO7AywtH2V2u0C2hhETn3yMo+oJ4u/lr4C/jA1nvR4aSVXzIk7d0cmm+QLyXPbkBVEsJNBu89gPXYvncD2hnWp1ZsKLQH3EXZjd66LrGXYB3UBkG5mzYzq9n4v6CqagQwc20ZaOjG0d9wLJaXahqoP8gE/uPl/gyjKBmpMMExH2zMFwcnT8RXOboY7nga1YvwSAqiWEmgnee8lLsX0meAOtwDIECKa0B9xazc+TJgcUCIpE8gPtM8buML3JSfC1Zvq4GRAAZRC1Uy2OitsdWYsQLaGqH6V5R1D6gni7+6x8sIa8pA0xcOu2gGtHglDkrwNcOslaeyiubmwmFNHp9Ce/dh6HtDMVyEf4nPq8P6AZLHslxpnrTwWXGIMuz+ODRVFObBctyegqnKRh6W2jLR0Y4KBeWZzCeEpEoo//mz6ASQXB0XW/JhgmI+2Z7ibxoSmcIJksrxDNeTATuwKolhJoP3nvJS7F9P1gDrcAyBfimtAfciLwYcgLr+LTQja0SBAWWjOcZKVrQEDMQgEx8prboDorbMAWK9KXR2ETn3yPw+oJ4u/0VaLCGvKQNMMDrtoBrR3utUTuPoI8mD9EBUnAUk6iyQvQnv3Yx2AONtlEfKJz6vDxJ1aObtReFj4uuBVpTnIitUX7EPDSegqmAGb0baMtHRkMMLL1xPCBpD2h8YXPERtMX4xhPXXVMQ+UxAOu2gGtLvZaonc8DWrN9uQFUSwk0Rbz2A9di+kaPaGdanVyic/kE3WiNJlupXgpn3X4jV9IvGlrYFQOgIGYgAJosxOZCXFHj29wWXuvPC0mZKDE5LeJRFDnBfaZdCQEnwG6AObLj6lp4uBC2/dweKGd96nOZwk0zvvPeSl2LqoHtXmGNifYr0KWpIczV07sw9+Uvh/kMQ2Twp7pMk1HcnoKpgBYWLXB0GQfq8QWMWLt+U0McNI8Z4lNpmi5vnx9dUxH2y1FJLGhKZwx8AsdzwNas325AVRLCTQ3vPYD2AqdT2AONsW0F+Jz+QTK4UDViPoxDKqPVchNBosMPIS5eL+gqmukvs9ybUxQs0uyuszzE8JSCH+QCgDHy/wZRlhKl+37l6OKrGk3jQlM4WNCGO54GtWb8EgKolhJoR3nvJS7F9P/gDrcAyBXimtAffeKBJLjn2wkm+/nWXldHg7LxNTWJkb3L6uBkQAHVXTW3QHRW2YgsbqUujuInPvkgB9QTxd/os0WENeUgaYgHXbQDWjwhqoncfQR5NH6ICpOApJ1VkhehPfuxlsAcbbKJAUTn1eH7lmEc44vnQvtCmDo9kI6xRx4q9cPvvq4GRDVGf/tVMhLipfIvQBZqUpXkRFQ8b8+vFaRgGtmFOQV0KZgyq1Dmy4+paeewQtv3cHiiXfepzmcJNCm895KXYvpcsAdbgGQVMU1oD7gFrIoM36q9Llu91m57pkkQAVsxqIQAAARpBmiRsQr/+OEORlQAs/crxwrctQDzryf8f0BQLF2rPg5BvkQxGhdybttHU7Vmrn8WMnePg9Lc/m748EzmzFXYsIB6jdqyZNIXTNOBCb11a1VlduzV4niOxd2fEvrYiycg/323g1ZzjK5huqHPKqDKsKmjzlWcgCr9x7Sw6B7KOoDt6rtm6ouqRyTgh7ipt8k4U8G/dqHJPO1RH0LRSD/EYq84zuihpByrZTqAp1qtyCkSQa9k6D5eCwib9/x6D8nLIK2jSrioy9+WzBYecWxd1t7lCEjSqeCNXcpHuMAbCRgnjd9kv/+P+bHOFPP0iLjkH4wyBMsL709wFymy0QPj644+ThGVFqfkuncxiurpJbaZo6WY/G/g+KIAAAACPQZ5CeIR/BfjSKOSHCCL2ohFojgAmruQTFlj3oz2ayXFKIvgbCjgCBX4jfMj3yujrZeEO0N9w93eYwkdCB0WLdml3mqiWeF9+hji8pNeSDi3b4fFAsZ2Bjhn/9u6wJSpm3zcp5ig6Trw3KfzG8laLEetJ7aszXC+V/y33Sb/Gz4HI7y9xufUdm9DRMHy7pwkAAAB4AZ5hdEf/CcjXFFuxDr9UuHgAAlLfrSzg2WLwJgKAxzjO6ChWCzEdqqKpcxUlC6J5Tm7RbqiJb3oL8Ra/Xw3wf7gQA9PUfJv6iyI681clXkknlQ/iVw2I9pby6JZdagMs2V9uhj5EfBrNfsrVe0qikFoT+7pdxzUgAAAAewGeY2pH/wCC/BDzEm9yAAuFpFf+7pwXGTr/0rZXF60W8zhca2xHT4u36LtHREcmiP/mB9bwIROxzaR/t+/PBW5sGWZAnNf3j8vWR4FEYpaaHfSlHfxQF0ekCuuq+25CngJ/QhnseDsJa0AzArpBIvytcC7yowwxkSqvIwAAAK9BmmVJqEFomUwIV//+OGHilyso+QxRjfNAKleHwadApZ+Vq7vAX1IveeJ5wSd8bXUtEx+703kaYNXEZ48+Em2L2PD2HnIrnC6jrkKbRjfLibBdurRgMP1A/LtfiFgPgeubL20+/pnsvzMKtzit5R5XRXVcThDGdL51yzw3vrmiggr1czi0zBTAz3Kjcx+xQoIjv6i6xr5EM5bMd91zWNc+dhKnlMPlABM8++VtMpkxAAAA20GaiUnhClJlMCFf/jhNIpF4gBI8Vkb2H0B6h0SOzZO7M9IRZ9PBHemWC8IaNlQ3bSK+ui2Rcugixa49LwkXW+DJsPcww2OsBhok8hjYCxCl+auWv8zWRcKB6EADGry4oKkAvLddexwHa9LXzies4ctoiK4CaiE0kNu/5wh8MbcU0qMzjcVQCZmbfUbm7VYc0gNOjTU1GUw3U3bYgfdFwC93YT6QADmJlAk2tWzuDiRgWbECrXOspk5ZPN6vzvY4GGGbkSUas3rsTtmv7kV1K3mJSPFz0zC/lZ/+QQAAAIRBnqdFNEwj/wLyFhak3LQ+NAOnnsW+yFI2ecYPyje1QOStR9wBT6qcWzpiElrfNavip6hsJBYcCdkrzGW34Y4VaoTOepgmxWPtpLWPEgUv/WZr8sCKTzvdawPiwWaHVpqZ1sNDR/IHG1HFnyMbYlC/l6Y+PsZfwarn8BA/sI8pnVeGTekAAAAsAZ7GdEf/DboQEwhG7s4jBzANTmLIAI7OimY3AJ+vSz+3kCeCR8svjEsmbPgAAACRAZ7Iakf/DbUpx1ntLc7ULEuUALUWR0fBOVLZKjsgcOj5+wUSFfJ29bYmalLoqUQgJEYE/bP90T/whEj+v/IqoH+a2Zq+2A7F7MUFPueTpIRNbYX1vHxtKT9qmyrQ6feh/DmiBwq3dN9MgGHJzOe5NFsTAvcCjMW3TNLUYs3GgWzFa1wjwniien9z5Yp7eBsDSAAAA4FBmstJqEFomUwU8K/+OEzyoAABuyB0bo2WO1wAMDlHqiEPZCbYXftKUhRUo5A73zMP6sUvtT7LaVDHN+oxfZ19d1oLtO+VTnng85PafUVWdp1BZ1N/y5heaNcNy+z7oR/iFzdBeCgSk8Ib0fSn32TWHA4Uby/6ZW6foGb7lc8NgilQ9K8Fo+t6GG0ZS/t3QdLMfMNsqGnFFyjtX3KY9ToBWNicX9PNcYA8+M+FrlPXCeOmw5e69p7Ee9I4Nx7oq1R8e1sLBEBNIyrVh8ZiV9u9d221Xwn7jGWaaVRCuuBcJ/lEkJTjDm6e5+2MiIawnH3pWSXbP83d8VLxinZ0fVtvgKfHvXubH8GHqwbEWi0ZMqxxErw+jI+5cIRhbOMj4o5yuChNuBwSsIE76NuZTdRjbcPIyDqYs6jiyHqT/ZxvNPTfbLFqf//bCF96xKzLnP+oIe0XFJLve2Fif4f6qc+cXe7uQgNeWpsnFcFmaKxLO/iv31CdlUDdDFBRsXLjAFYSWujJvWp3YH+TsZB/oQiIEq43g8kMdoyVzMe+fFPLyiMLIsAH9v611gAQ7d8U3gLTGL5kVnPhFR29MBZC5xd4jz3QwU8EoGYmvPQVIpHBwweFPGLDZ6s/FvR/Effw34VOSMe4kAP6ruajZF86Fvs2FXGPbRGB01JpQf43TAPnj/kjrgUX1s7Ctq5pINuqOB04/qn5OgRmRTN1KD7VtpVOxX/8NhrtynCy6u9mpVjuVGmDgGeznNfExiIAt626lCTXG6qRxVmvOYAvQ2Gm3jdHjQaHaOODP0TeMa0LWA53eDxy9JaY0c6GCtxHweCbAzZQ2tAgqRk3vCw7SxIIjWq+b4nPd+t24OYIwVaMTvsZ/awbsbVY1AjJg927wgcQDRN5RtVyLyQfkoveaIhwY7LfRspwtZl59nbbkeZFuJl9c9ycL/DGvIWY7X3KZkv6OLQgXzPwkZOrZcrl/6bg5rmsMNAb7D++x8OudsIoiOvvZSYn4d1rgw2S7zkQhMn9szKUiGCTGpU4GNCtFSqPH5bpWLFMEXrvQxdtRY2iU7dwhgtfgBztWqWmCrpEVtKfEDC4FcCLjfdsw/D4L2ghTCWPST/X1idHmAtc+zHdxJ47UofDsehMlxgNdL8/dM+l0vm21hjqqACDB1K3qNmgsoo47wk4V54P3L4ltECmNo1RPjkAAAC8AZ7qakf/DbVAFIVbRzzor/+7yuzNZlw6KsC51519QArDqIfk6HFdX/PcO5nClqzOviN9aTB+IsBvaaFyiTPj0HwVItCZL2nHj2iuqLa32ao+uBAkW/v7e9Qru3w2FGrGuUe/I5Pnx9c9Q4UNN9roFp4cuhqQh3nhWM6Db02FGLrHcE/ZJZShDbITjPpih0Nn03FsZXiptKWK1OFNTGxwi4lYRYzKn81rWGeOSZMtQ3DVkyuAbFI2B6VJAYAAAAGJQZrtSeEKUmUwUsK//jhM2l4AIkx7Jd4Cr0Ph2QCaIQHI2DNU3AGFrmCrme8QkPS+o+u1mh25zFGE6G9yNiJ00htNCOA8j85PX1tLK9bmhnS/DXOu2H1w5YTGL/qoi+MstNTVnA+jQXLQn6heWYArAIEx0b25DgE8bKAG59WntzPCz8RE1PxEuBlpV1xLLryzhjttgSDOhQMcyMvR/VhU7nTxa37YekY/fg4IlLC/CpfJD0GubWFL/X+DpQwvTaZlHqDGLdJdnNBKfdjwVX/XSxa8I/rx6o+7z9bGZWFcBGXHBOMjgX+qOGyEbR0H2xFiGKV9oOUSlA/F9WGWXGe/CpLdrdJztmaVryl3vVe3pmOxQG9aYatbgfiG2RNXcibBGkMRG65W/Wa3Cy8m6WTma8YpCF6cndhfZ/sE4kjIOULBPYM2rQ8aSeq1rPUnBe5WdWP958SK//ZmI8GGALNBQTNmYCnDHbdnaTGRVsgDVNHvexAGPF52s7Ozd7FYft9UU0gJA09gdo7mAAAAfAGfDGpH/w21HkpLcApPWvtnXZ64Nqei/a1K7UrK0YAJizK1e0fl41XJyJiuPVhOTG0OMqA+H6DhP1PyKWs2q3VOLOBYGNTADzwlB8gcxiIX72AJfCiWZJtKg0etx4j0RQ+dvOtG5LhniyI9vQH9M5Hgb0MZ84FUOp6IdjkAAAFFQZsQSeEOiZTAhX/+OEGWwe3mMANcu7nhjt+Sp8iWWL9XX+AXQy8t8VkBn2d5jEzG2Chc2FHZDhq4p9LGZwhKkLGi2sXjcWU38wXm0coa/M2ZO1/zorKnZvH3xuBeJ0335GsPvEL+WzvTDtWNv8A5GY4n9oidDRuN0CgOt30/JGb5XKQq6bDLbEtDq37lIxmgzu0gp5HXHWb2fEnfexZJCjrJ6Qh7Sg2bIo6nkRvL6gGaLU1xbxY2FIKJYcTv2Ewp8pJoTi0tR3SmOkgA72+C1KjT3+V8LxIuun6erONaqVvwkjwx4iC7tg/96P1WXvly3kEEa9aZW78IeLwLQvvx2YxDy+LWKxgDmkS2BOc/PYuAGD59aFsXquKTGN98oNISNGT/Luwu+AbGOCpIfO+D5+YPb39iSKLkCn6ZjQVRUUewzu3mUQAAAEtBny5FFTx/B9kY1BDo1GyeQceQ3psXZ/2BFIJMRXHX84Sw7YfuXQoVT6OiOJRpkt8UdDlgR49CvS1GnHqs5etNLo4aPc6RZwTgGnEAAAA/AZ9Pakf/B+TCBqzZFgnkNvJkvI8wQeQXVyB7eBL9vnsTAIjFzFIoXxcK5dnNEwMIeyfkBPDeltLSHLOMhOWAAAAA+kGbUUmoQWiZTAhX//44QCINvLIzDA1gDsBj9MqVm52fohv7nidaVw1/l70dENYodmADjIlm+alLIsspn0v8N3y6GFRF14CP/HdyWf94P3u2KZgVy2a2TfE+dYhZ+3LHDuYRDr/cUevhSRstNEm2hp1DA6hQBCIHwrJkxX937oCOacnGbGWcUiRSfe6MkmpXGcp44VIoeGB5Jrcer1btFcu5mZphGigAc3U6uOb/YS2tQAuwLX8UuXsEAaIfwVc33lbwvP4YbPjhuuHF2eIw3mYj1a9Sn5O1qkH5eRXn1ebsj5xtF/EjRWSrHzR6B8VgON8UeOcvGomlECgAAAEVQZtzSeEKUmUwURLCv/44TNqMIAZuQS6N7CNjPfI356W+HMKXbL1obv68E+jJVFTKuOrnrEEevNn+UqIvM5GmLmzwHwOlM0agSLxB8JboDA7A/+ZXOzF/X08vhMbvBstz4uTOiA6Cq+zKvOUw9aCw/v1fOdmE3yiA2ouRxDzoPu8zotc4mt94esqXIyV4Sh10X9+UUr86EJh4zJKbxYMQ2cnjRQCsCiWcq4xhuZgXABjipZmIDqJe2JvzhxH8MuvxoZPPDDeifNxksORUOq84JV7W/OP65X/9Dx96ZWNCueyrMmFqLoF1zWrBwtq0SUpdpVO+If+7SrZe3+FKyBtv+5iBKfmsfogySnoOxof+kBq39NgogQAAAH4Bn5JqR/8NtTCb0hGUVlH0kTlDFgfSU6WK7rhoPnRpCMVQdET0yD0nhfleZL3a73M4YAONTgCIKAz+ySvzBBGZxxNWpBymyiqznsQ7fwDpdUpr8lEghp2RFHPmtI37i7dECtVz/YI/eIfAngZejEKzFCPRkAHRdSI3nihOGoAAAANrQZuVSeEOiZTBRML//oy07NM2AEtsUdKHPcaFPCJ9Dwf7gncfqmE3wx13z6m0HOHBDhYdPVHxADG3OPsa5QQWWxiGSsaYyhTSrwfRSbxWPzIQVbH/3sgezkBu3eGLb395azMqvJGQuWC7mRgdZ1prTvBP82QdmHHbFawSntMY/XmIgg9TwCBH3MKDqe1Ea0npxc18pjFN5mhU9o8qSEabVo/SzD4vHVLtsVqsYC/JPS1U5qRBkJZmS6JQ+mehTJFKnnInYw20kB0HOFfDVwvo1jj5rFZuZyODoJ+DGKlTNuQ9E6GfynOWoZRvW801FZ5EUwRmKggBqHveYhkq0lA2loApBPoP+7DzhXMXMxrUeUIBV6nrfM3hwMsM81erFqRCv9WM53TLlnjuJiqj+vaINiONKHOUj81KFWr+Y2+9/oNU0GKjAqVbDjtVHfKLghKJvrY4S5IbB10BhDwIfmbjAUb5/BqiuO0A/+zzvpDbGjEYht12UpXM2bCViJd+pJamLIaiHeTevC1eAzcjdbuOEWzLQtMQg69aiVkl1S1GPE5cH/VgKxm6NFQyiFGHUmUvkPQ4bzjURM+IA73qh1YlpMXAjGkD0SOS2voapHVW4YIDy/tbN65bfFRKMRs2FNKZOG3RXrECOHDtQjOFQmWB2+0kTHueUA0/UV5UcAqVzYrNS9ZqVYTMlPmWdWOMkia/aTQV8mFkQ5X2Z3Llz0ZUEMqBB5i62/0Ho9QxM12QR6YRyzMC3Tc0UPCVQCGkgzZ5q0kk6te8gZ9xAH9q4xLKCK7oGMwNtF32UmL5vb6KpHrbH66isgDORfd+tzXyMk+/zx/9F2mhtGkNwwmRVJLf53OcAvNNmB/NBQRVjXbYsdOb/RsohYwE1BnBqjs9ItknDOdGJp+vkj/Omk/+w+hw3jCR4xqlT1Aa09aHwuBKE4x8rzdZtq9DlRUPx3hhN34Hff3aaTjUSH1N9q4tgOdUrq5ZIazMPFnpMibiwNlpVHDB8fDIh3BL3nEIDVT35z/7bDEom8SzO0aGzhw+wf+N/8JrYJH1VC8hfrznoH50WQi8JcZcuAiV+sRNNKU2Tmi3js5KILFa17ct91ntokvlRQPxliw5S7WgVSyL2jTML5iKzNmbECRjm8HbC3ijskghSeo2vTM3y2giv4AAAABsAZ+0akf/DbVAExXelZIPaZrkt3HcbdDmwDoWpiERaWhcPrKtu4+uF6qovtA0vp0O7U8QRyq0+5hQOpqKkL/Xh0bjw7N7euSTQbeu+jNTxiP5HBbWFEI85zTg5mL4IoBFQNlyYbo3fMdmX07BAAADJ0GbuUnhDyZTAhf//oy02coIByGdRPzIF+DyCgAI1a2yNv6/fDJ8k3lcIPWZdoHaZIJkCMk7LQk8/FbPxS+yC8TKPPgL57Evgm4t+6G3sCVzGqRCpA/ajHKRwQZBAFywaBTRY3hqJJmYTV6ikF62HPoIaxLsAPcHVCtXQ10lwfm6RLbWEGTd5xCtlv8aBES+Z0dPvr8+YsStv9hk3YD+WYpcXQGMP3rlhDAFGaLixN8K2dYbrVxs2XvrlYYgtmh1lbC7B/G4QWJJfTovr03cHX1ZWkftK9KfjbSlkmPlXb214ZpiTXwt//BdN6ajBlx13D3QAJKIYjgj7hqv+LrcAkj5i/RKjCyV6IBorQY9JHgKI7UfXC032OsZD1Xzps7ufqHK85mDjDq1UhOWN1vVqFwXCFylvqnh/zBRHiUClWczJiYTWcIRQBWS+Fcf2+jNA0pNqQ4+hFGuy1TUb7QHP4euseRbRHe475sJKfXY+u0Be4/z38OS+byv58wuG7iUqFF9Dzj2atyuC9ITzRg8BarpsyE8tyBJhe1nhy0WUgn1d3IZd5t/oqCAyzb8kBNjJYfdC5r5N3xRWS4UT6lC5IZgEiLo7uzAM6e6xu3nSdPgHMH/TU633HS2VLBJe/+hCFY+gHKWJDU37iCI3+8jcfiPrdsRUyJJ/ef/dNv+q0qukNYVy2zCK6z2q4N5RDUfoEcNQZvMaBg/WjbrhLe4KZ14niQyMfnGE9pu0JKmsgZ5L8/tSHH5GXV4wrQN8GfqPI8J1w9ZgupVtIcl+U4PwjpViqio8G6H0D/kpXiGBtFW5vEUzntmSqnWan8ykUEIg0MnwtVzJZ5+ab8DFCB1Jt0BV7lOOV1M9rYcQYAfGniqXJrl2Jyj6ejXuvDXIRrghl7tWUiVNMWKMjr/6fMIPVe3VpazV7TUjVifXCH9akDqe0jaloK9PYf1QnNN/k16CCfKl9tKg/BUfLK2JJFMKU4nXcMkA/DLYVoTIASvwOnOTYVNGYlONi6ONm+4f2dCu77cVtVwE/rD3OK5efKa758GxEDvn6Or6l2LqWhEpQ6rgX8Zvi5K2AAAAKZBn9dFETwj/wPVYvTTefj5tBooxYovRd8/BzMT5EBSyKvtAXMprQdB6+B4XSHABcP8kpU3o/3wsCdl/QLXuux2FjKvwA6wXfC6y2lM7DZlzlOikjdUqWb0/bzI3DVhUKrw8auLHGvwOeZwdY9iFx/CDzmvnl0ZW3RQ5PGoEBVbc8xqk18DC+gD+C+Vx1mDU0d318p4XiuAyRpRdAjssvR9ITj1lriBAAAAfQGf9nRH/w26IYviP1tPiKyLZ+89sn2SkFcLl7+JPWAB9g9XFX8gws28V8fl2ilXItdfdU9F1A4SPb7s+VpcL+m/pz2cUFclN0jdx9Fa9uOUL6YFrOhOqgam2vyr0QVw9f7Bpv0/pEKSj8nuPmeE56ET4rQ/sIOMo7XVxOBRAAAAnQGf+GpH/w212qAEl50oG0M6TeAYaP+B1gIRSKjgUaZe1r2CBm37XFwZc4ZzLHrMVAwPgp2u6ACSonuS2OTkdSLS6+jPNftLPrPZ5PsGWyp3VZnzzrns7OXoxkyls92bwScD1gOmlW88uF1jFnp20SAmW6Bn+s/TopECWEQMdow7x14/lgObSdyKTnwXdZXSLZtxjnbu0kHLf88pcEwAAANpQZv9SahBaJlMCFf//jhBiIpjADR/BqEIp7HCJTxz989Ag4MuAAi32hGSiXulzMchm3UYSp9oesx61PZEZMCDANieUQxdWeUUFlw+3T7oqBWvcpmH3YH5C/w8/oEq1Wuycr25aOJI3e7fTKPT/oMk8l/attIch3u736VidycMV3EwBNMA81eWqyykYNYq3+Wyr6C4CBzcFFBo7wNMgXR/sr0WBQqkbMylCuUKfKNtpT1l9oz0POCSDRm1oqdzXgaKojt261khASCX/s/SRcPJjRcuiGNmKORdgX6RmLDTjIlrNLosSG8bt6ujHk+9gdt7o1cPlgJhxEC2/YTvxXGtGLUd1yPA0shO+C9ISWqanhjalmrqxp8ArxGnshDyMD0Kq2MAE2ldRMjAyuD/B+f00wubqAaxocBfmKmSBXtjnPRkl1KpZa9ih6AnDdTfonPxHS5ECZhf5YrToESnLWpvXnVOwUR4VA4+YKoaFYbsLkdDeTu8H7Gef6pEVzK0UbJb7C7rBcSWc8T55eMjCcmVjMZVicgfiotLi31zUeFYCiZaG3m1t+1vrMe0+JNy/l1ndgHseR4uNL/l1RNpN7zCwqdlLfyW2tB88UpSXwTU8WwIAq0m0HzthWdPUwK0IDvZlsj/vLjMIdE+wfigcFpXeYs3nTSMacLNCDWAGPIH/mMr9eN79gdUgzBhscT0cZW0NYfYuCCMqhszd7fZ3pmhWUlm2tIPEpCUdP8PydjndRhr45QU3Bn28i9vLRXxWL1b1FfBaTZ+U/hNqMxuKNYy98wKjReksL84Ez8O/m6TuZzUpm9Js4xIfoNmH7pII1SkfT/GjQ5BwQqF1jwXq7xgybnWtFt/iBVfSyaN3Y+g5EA7OX9C4sR/cxadcw9Hg8lKBhhvk1OyBxEyt2KcyutvSQp81N3a/M3NnLglfE8OaVp9OcBEgaQQXfBBJcw5r9ThAysfn8oWjLgZFhkkZQoChdvwo/Q0tOtagVOYtYAqLzdXccdeR1fcscCQRmncZWzwqvHW8GkU3Leh0Jq6riU0SE8aCNV2LP7sTRW+xzovVYpfocVPIge1WNie4HmA7gwWBKt9qMJmEGeY9nef+gA7rZMbVJAZBPRAoXhtGG7W2/Mlg320iYc7sw9nmgVpliKMWzRMDui1lJXdAAAA40GeG0URLCP/BVVYvH/mCuVT/KFg3seAGtFIT+4w1Buz0arOmS8TmTohGkKn5KOpphixGzhzcgJz3G9Zr1whpNIrHt4tjjlVxgAh+vPQuJrXO7+g+VWCzzjTt+HA+ZNM+xTC2/ttY1mn0KMCunRKf57Qxdk/ABHT46rBC9+IuM2Po5eYlr0RxjjzBxjf/QDCa5L+4NRhGN1RnElDdkvszWihPkw2DbLemOa5ARULUcyLAmHQWyW6TDxm5vM9L7AvcQu/chQJ4a7LKZ4gD6XGl068N0BTZ3FZj3r2HbJm29diQ0OMAAAA0AGeOnRH/wfiltHWwwSIaviTm2jt567JxemDZg8t2opo2AAK/2Pd1lrFJebFIXlVdV+crzqnZ8jnUVbYjtnXFE2+760wNMVvhVHT7RdXQH1yxP9uhx01Dt3cwL9bFdwWBMzmwA56w6FP+UZLuH06KZVWlj7DeFlRV2tBNnf4/1zxqfBPkHStpMiTZ2vhNGTRpzYVuV7r7YtZUQYUq4B7v1CX8f2IVhK+z71ivTU+Qaizzv/5LuE1nzhn0NGS4jFGnpn29qz7dhGL72EmaCBJcIEAAAEPAZ48akf/BNPegBRNCT68MIEv6BQU1St1JU4Vq6wAaeW4OJHBFUCC8bEF6+1A5p2Aebnmh01CEQ5TyZ0RY5/0SwCy0vf1EdmV5YaJczKw0QDc5w7r6dGeXp9DNGFJ/EaperlVjZIoT2G9+IHJNo782d9HSjqrebxknJO/YZ85Qs3DwPgO0P3scgQRpNff+dD/b6eDLa31wGx578af2ktnhhqrRkhke21W8J1qkU04dCZ1vv4ZrPx4AWV+dSSEZqY5b7x8Mb+2RwTilbY2pIxzRV7rpGO6uAicUAc0hi+9LMxlz6FyhkpEOReuBLUVnZDWgrZ/oHZmp0+sNhAO/yPZLkF1enlhokaTS+rxvcnJwQAABAlBmiFJqEFsmUwIT//98RspP6AAV08wWqYLBOuCc0GjnIjpUIpK9t2+6muJxmCpT91ymb6NDMQ+2SSyshSWT4C68cfIS1SnTWo55C8PIqGtVdJ/nP8NvuaBspBcuIqpBWo2l7QBK9YltR+6alVZdjDAbgTpyqLF5tetnfe8lt/0dqZaYZmHwk84Vyhp4uTtqxoECGYNkqN9nids42G+/zb38Cg88srz75lhMT32sOfWhBAfVyv/OtPoa8+2o01ZB8UJc8MsmXXP6PFSAqSSQynNSBeFGjhS79S4BEH/OwIbyrVSnetYfrHMzV/WNDClKRWW2j13R+/g3jNwa8ZK35jYCXDVfw1VtR+jYI7cloBlk/Cs7ysx2ZeSiFYsCOXK36NNLoVO2SxlqdibdEbrfgR5+d/71UL/mUTYWug24hqImdwvFoR1b+rel1DvLM0EZ8vJUeSrMDdNfM3RVc3Df6MZci7Ve1Kr0Pi6tvA9QntHt13tCFS5y6UDcaCA4G3O7Kk2Q/XSmhV+fM2i6FStnPooKrWtliFoVv/3UtV9bVn9tUPjvLQUwevxbBBiQup2j3xJHiXnI/wOynG3KxoZplMIuCm0Nkm80ZEqgXUyzfjdmasZBr3ffjn7Sh+xK73MnXADPV21raSGPuaFKTr2RF1IrEm/eQxgRa/rSsBHIIdjnS7gZhHpzBj7NrvOUu4e58r5GZFkndDwsKkcsr7N0hdVc0URdLUsB5XHV6OHomtXBjYQVmPNRSf1uV8YQxo6em6zQbAshRV5+N9xwI4JqnrS6kxGJCswLBTHRkiXZEiiCD/lK8yYNyuecDYWPACDv7ViHEvbWupFLVG+V5WgwWLLfiriWoT5sYjORQH6jBaRq/tAId7eeR11fpKOBQNkH0tmiQ7Wxfg+bu0q730lo4AGQx2YUPemIH8qCxp5s0q1ZTqumc4/X/kbrM9YBVs7RqsMq3dBhlHxYyR1KBqyJP0Qf7/ufdo5BKG6oiTzUnLUBx1g9/Ed8ub/CRILiX3xfiGSBMK/ry4UNp58c8Ln3bzfpAguzr7htvy7c7Z9T4MUbk0X3s2OPGjdnPSmDQ8ReXlODgcbFNCDp7sFOreBDzmuVmMPgHCR7lBLr2/j3DnnPn8ix3HCmdFMVUMRcR3/ZZkIf54aRohyKVdq8nSsLkBcmEQ4JkaoOUzSuA7/Dpjlw+Gp92YJHJUL275E2T+ZwjkOxcSNd72DgOqWrSvnW0/HBlUokh0TPzwpEVfQgKeBURA+ypaBQUTeMl2UnNoUrZkqss2YPHPEXmAFqn/L/i05VZWLRvaUu62GdiiVQ/gIqHi49/WvxdyH6HOG1U72kVV5wrHN11rU9m5tTaswxqaoe4WkD0zEDnSAAAAB2EGeX0UVLCP/BVVYvIwIfZ3mcoqbZOmEjHG/HpfARO84+REJjGk/z05Ghch0ANcSfNFIgP7q8m/mWOQiemxJOjyXeujdKr9Zlp+ZoovQ368EELIgAnk4s0CND8lOISW6cnhl/26ULzq8wmwhkFKuXFxennQkMKwYMwRdVNQGBv3p9ZW70ovIg/XQ8ZDQqM5yFLanFUCMBW7tZAz/ChBu4h/cFBpDfjYSlwhywtalE8Qfl1XKuMgeSq5T0vQ6ejMFhVjDpb6aZG6zaCGG+X6kwnqdJa2m6/CZ6EKkYB0W3Q7gaov1ub/lMZs9aRWOpekze9fN/+KclWDUC+pdpzj0PWOPf+WXnII68xvOqCeT5/0VRyDBX0eW8kcKzprm9ZWLzBfQM8nArg5nGKfX3Xxul9YJJK+HCaQoXn+w4Fh79vWc1/n4mftELVt2w8PneeWEkaqQoirX6pZOSl+aU+GB8uQM77oWuEEOtGj3rcz0Hq/tqHwkZneLieXBhXIgmw0nvBhd3viKSet80Sy1DiBGMCJEEaV04gPVVFawDB3kj69ZkEDhosUTY+dTQuqCE1MOr+lxGPa9wsDYS1la83NKUzeBz8NY2ZSOkRkxk8Xmb5s+7jSDAWkjLtYAAADvAZ5+dEf/Dboknzg0X5q706muOjmxulPwjxwFQwMWFSJeOGmg6L6ABClGcMVHupIfqgkLcsGiA6IFo14ER7YcOyhfgbyXZU93dIezQx0G5Hay/kwL28MGh7+sn1q+eo5LRz4kNzwy/2Cfc4/tbiSPMmMosHEhEt0ozRUKIGfWfuhagYcM/zPMa29RBafSNstb+DHYmJXDcv7SUh5nVaBEVO28e4LXMT0ACAuEGcHJhS88M8MEf0lrrCLL0IJMr0Oa+yren9RaqOC7auQOka8je05P5c9vVIn+ZyIoQVjaBr5zqA+AuWjTHCoShH/ZinEAAAENAZ5gakf/DbUweE3k/y2KInCZzQ7VQOGWh2PKm3pCGSJReAAEtmETop6Akq4uYxgQhLjFZAuJEqJC3Bofbd0RFtdTEpCIe0ylkgnVcYwg1E5OWoPisHGK2VBYHSvSVJvn9XRIsHjkIQEyFmjoMWnuGDRux4IBgZ0nalhfSuHCMOXdUBiwvq5dH16kmPoRAhO14iE+WvUzHsEJr9ED5TSGgEsYs8dxupMCG5wQyaqVV2+Ahtxz+7KiApugOHBlpoJpLF/a47vY4hSi0aR9KRIUI/HQz739CJqQc90dllVSjBx2Kybonxbpx/vrCqnFwwISJ2fdrO4JzqYbPakOLP4aN58SNyJVojBoUU/rGMAAAAHBQZpiSahBbJlMCE///fEAuu5DRmRUbADXIhW9yoA5yz/ndFJ0vGQKcPHVH/dYkOspD9b8PuQdDfxkKA/P8QyHqnmi5Us/Ri1biVc0wb5j+qC2BWlEJ7BG1tVgv6wBHp5YOxDrYrCs1Z5HeJ3VGta0s1aLOKUl4OFI08OdhnRz19t2O7/ENEjorvBhA+chfrEUNpdgRYvPCjJDAeQgABNSmGQXzA/AZjtjgk63RXSD+8Yb7lVwDsMrE5SCgdOet+rp/zNx/Ths+FHRWqMapL0G4czTkH8NB3jA4V5B50ZVKoM2isokVSDhiUSYk4ofn1LomB7D6amSs5YJMZojgZWVa3YeMvIEX8FogpGfktJfjQq/1To16mqjrrkSnxAnWlJKExi8FSX+AKA1fHq5/bA6sV3csev2lS85X/sNMwV+3ehUVxjvhH4gLdzSz+Qd48MyUsEcR9GEyRtyKzzX4SPQWQAEbUrcDhLy0wQX30lTxta+RSg5OAJQ0tfAbcKvFrowkC509UCsL1OR1l4zmunQ4m3Cz7FqeDrRiN+nX44umQroNMCGMzf/AGfATmLE+dygtsJKu+dQQ4eilQkk6ilYfeEAAAIJQZqDSeEKUmUwIV/+OEz627AAbsgfNiZdfdalEII/zKhLHBB8kI7x+f1sLzp93wmKCjUxHmqW2OxpE7HUc3uDzb7EdN0bcn8Tp41zHRW+1xkMplX/bJ8BM8fMJ8NSYGYslXXYOxeUGGyaGOPKmNvmc3lfKCj7fXLQFXaF5ci7KmWzVslhHDCa8lLN8H9BwuBO/QQ2tqRPw3kR11siA9/k1YZhIOz7Ovay9J4cUOKgfGG97LX3QouUrPQFAuVIdgXk5KkPgXjuPPfw76O4ZKWJckns8vt49s2+cno8RJVOfqRVJhGZ+ig7jXW/68gzCWOrJH/is1e7H9jxE2qMavqN0pMaOuQIQ5hVeNMF8r6N/xi6OlBNrNkrps7CCqbmkc/hcRssD4IaRKDVCQ1WaAKCU60425efvbnG6ZJxr6ORWMoXGVk86u9335laJ67vxj/EnghIOPdfS9VpRdawkWdMyoKsbezfFDaBtkvNW5m7B1uTcFHgJNI1HcVZH4fQb2r/EbYer3U3nKufd3FpH4jhgzABbkGG6+kVka5Q7D6wWQJimDkINWMlMCQXKjhppOQumh2NXml5jKnj0XgEr1wWMlJtZFeubd78hn4W3GpEYNm9gUtaQrJ3pN7pvKDsuhgwJsz8RkmzsAwsMgDwq3FjzWJNe5TtLJSpVkW8B6EE+l0BGkrMmdAREBcAAAK7QZqmSeEOiZTAhH/94SaKUQAz1ufnjl4ZijrzM6/jByXVbGRRtpqiCdmsBZmXO6RNYhbtPb06lpEUuGPitArlTxh9m20aIB4qBNdSQtoP3TMN0Q6UaCodAIWc8kGEeNQPwzjqzRtgni0sKD1NzmxSpcFLD3yTwIqicKf9DNFWhQumKXDIjy2c/KTy9lA0uZt0F5gZNuxP+Qx6+U/hdBHxCrTqocpU/Qqvcs3zcgKoujTAG/iXGPCXCpORjYygzzOK2WyLf0EvmH0hXQCKKt0ACvgwDucioIU1+7cjjQg4LDhW9zkVD5KBzZNiUInB3U2Pv+gT9tblTjMoccPz0UxORvzFFEb9jZ2Q68e9AqC4H1PH/r5izpgRjr3jSz99z6h/Nmw8CdBoemHnjZJfemOdBG92TPEbAksRdmyxqVjvWduIm5bEuGIbpzZqMi2NQ+7osoFJHKquqSayfPfZIDY5v9bfKZaSbzW/8clpvObjIiJHsmv/B8Nm2VvFU9CDdyAnG9faHCEDL6uVeQrnvIqxwlwJZ0w2Is5fYXN6KfnSvddryMJPqJJLshhQqtbEw59nhCKU7Adg9g0ZNXYBtMGPE6VDgkgYP0VtCyYlbUGWQHQixh8JvHGiS319lZ/023wAHkHx+4ExSHmnRbbrAll61dn+2n3SPScu/8Iiej6/3zhObP0RsZGydl/1OzokoyJhliW7DEcgSx2t0+LllZbwaqmGH6bC8FZA08MmJ2PPTmz6Gikeqo9iHl77s+hsN5jP3iKF3Q5s+0XBeW9AlaUa64JfviRLNRXFEr0wZwwfY05B/UTNcq3PQBGBkn7md9kPD7uEYluuFxb3x5zXRaPKJKoXFRCiaFvF7olzZSiDfaLlkwRTT5wnpX1GW5Oo8UH7dPT/XxoWZmHb26KilrNN5KO1Z/Pgv8bersRBAAAA3EGexEURPH8NtVJ8wJH0XLciF2G0G17K/Y4M0qCXf8Kv4GId54gAk0Uxf/yLU6emcuVZPA8O5m92WYaCCenBOiuGOxy77h8n/wL7/Kao9hoO+eQUJ3XgEVVrwddQyNNbHCopTE985Rv3EFuwebf5CHdFOBnDz8oNMLcznWVllPHL34SyOLp0lGJLA3x9bktGLn8J1skaRaCG7Is0UcyK6cRWAdSZ9TFnoTA0hXm3c4ojCV97oVxVA1D4xQvA6hbDHd4Wica0WudloY80271H4xII5CgTuscgmMbvp3kAAAC2AZ7lakf/DaV5+13chIXQf4RdTVGucW8QqNrN+QfyBQHP4ABBLLpFoHGFKWc/QJ+k1k5VjGIAoYt/j8C1obR1UY7vCA1f7O0BMLyfHB/rRxV+mqtVniDpaKsr+UNaCqxKQfaYngJbhV4co1RDpwc+6I9dk19RCkiVctX3n+Zg/TtdbgBTWKDo7usWbXroRwJrZYQBLzU9GeICHh/DSB41qJTK/Nfm/Sg2gwshWGkWQd5gs935xQ0AAAFxQZrnSahBaJlMCEf//eEBYZA0v3OjvK2KP3SlSOKP7MgBL+F4W+C7Q/bQ2eD/wuRHITi5D+z3s0N++BtA4KVhPrY2BytcKA/ZU9+qdQ/wxLIX/YeHSTssKlhBnXe7kSZ+K/j69PN9BtPYCIwQeUoC0QiuCT0SWrx/BnFNxaZabfSxOkfojE1luMGwx9CyuRB8yc+h/6nrpsh7op/jVbEE4ah3i/waHJDyoJFU7scZKLN0f/FRRfG7mop+EmfoNhhWJg6YGV8AIyYxl/tozgbjMPgFerBcn+E10211csPRy32icBwHgeYuDjf95N7mXYqFdSuTTBqjuImE9zTCAv/rruW3Ko+bBnQJB6ERm93PetaQqvYSuPY+qb7//ChLHgseCirMKWjQ/s9N8QY41psl2MIYp1cgADlRjEJWZY8eRPC22I95bXVbaZoV5bGEUSnkXwMA8DYnynDCqseoAJMg8j6c5LSaffiyYSE87r/aHaA9AAAAwUGbCEnhClJlMCP//IQR5ejAQATK0pyMLNO8Mm+HAFFYFc3kjWUTsg3x+v7LkuCD/SLNdbL8Xg2Gbo5jwvztbckagAumq1szdjRa/+6/LKLDtKVi6pKdXe+tHEcIH01L+TYRsAYLeQ12xN8lB4MkeBmV81Jq+MCQ93aQnbMEEbS2QetL/orR9riaaav5ajVFQY8EleuneCxUzxDcffKvHAZ9A/8dvRm4ythwvw/+C3qETLWXHBwFf4eMx1/XUbUkHMgAAAT1bW9vdgAAAGxtdmhkAAAAAAAAAAAAAAAAAAAD6AAAAqwAAQAAAQAAAAAAAAAAAAAAAAEAAAAAAAAAAAAAAAAAAAABAAAAAAAAAAAAAAAAAABAAAAAAAAAAAAAAAAAAAAAAAAAAAAAAAAAAAAAAAAAAgAABB90cmFrAAAAXHRraGQAAAADAAAAAAAAAAAAAAABAAAAAAAAAqwAAAAAAAAAAAAAAAAAAAAAAAEAAAAAAAAAAAAAAAAAAAABAAAAAAAAAAAAAAAAAABAAAAAAQAAAADwAAAAAAAkZWR0cwAAABxlbHN0AAAAAAAAAAEAAAKsAAACAAABAAAAAAOXbWRpYQAAACBtZGhkAAAAAAAAAAAAAAAAAAA8AAAAKQBVxAAAAAAALWhkbHIAAAAAAAAAAHZpZGUAAAAAAAAAAAAAAABWaWRlb0hhbmRsZXIAAAADQm1pbmYAAAAUdm1oZAAAAAEAAAAAAAAAAAAAACRkaW5mAAAAHGRyZWYAAAAAAAAAAQAAAAx1cmwgAAAAAQAAAwJzdGJsAAAArnN0c2QAAAAAAAAAAQAAAJ5hdmMxAAAAAAAAAAEAAAAAAAAAAAAAAAAAAAAAAQAA8ABIAAAASAAAAAAAAAABAAAAAAAAAAAAAAAAAAAAAAAAAAAAAAAAAAAAAAAAAAAAGP//AAAANGF2Y0MBZAAV/+EAF2dkABWs2UEB+hAAAAMAEAAAB4DxYtlgAQAGaOvjyyLA/fj4AAAAABRidHJ0AAAAAAADddIAA3XSAAAAGHN0dHMAAAAAAAAAAQAAACkAAAEAAAAAFHN0c3MAAAAAAAAAAQAAAAEAAAE4Y3R0cwAAAAAAAAAlAAAAAQAAAgAAAAABAAAFAAAAAAEAAAIAAAAAAQAAAAAAAAABAAABAAAAAAEAAAIAAAAAAQAABQAAAAABAAACAAAAAAEAAAAAAAAAAQAAAQAAAAABAAADAAAAAAEAAAEAAAAAAQAAAwAAAAABAAABAAAAAAEAAAQAAAAAAgAAAQAAAAABAAACAAAAAAEAAAMAAAAAAQAAAQAAAAABAAADAAAAAAEAAAEAAAAAAQAABQAAAAABAAACAAAAAAEAAAAAAAAAAQAAAQAAAAABAAAFAAAAAAEAAAIAAAAAAQAAAAAAAAABAAABAAAAAAEAAAUAAAAAAQAAAgAAAAABAAAAAAAAAAEAAAEAAAAAAgAAAgAAAAABAAAEAAAAAAIAAAEAAAAAAgAAAgAAAAAcc3RzYwAAAAAAAAABAAAAAQAAACkAAAABAAAAuHN0c3oAAAAAAAAAAAAAACkAABn2AAABHgAAAJMAAAB8AAAAfwAAALMAAADfAAAAiAAAADAAAACVAAADhQAAAMAAAAGNAAAAgAAAAUkAAABPAAAAQwAAAP4AAAEZAAAAggAAA28AAABwAAADKwAAAKoAAACBAAAAoQAAA20AAADnAAAA1AAAARMAAAQNAAAB3AAAAPMAAAERAAABxQAAAg0AAAK/AAAA4AAAALoAAAF1AAAAxQAAABRzdGNvAAAAAAAAAAEAAAAwAAAAYnVkdGEAAABabWV0YQAAAAAAAAAhaGRscgAAAAAAAAAAbWRpcmFwcGwAAAAAAAAAAAAAAAAtaWxzdAAAACWpdG9vAAAAHWRhdGEAAAABAAAAAExhdmY1OC43Ni4xMDA=\" type=\"video/mp4\" />\n",
       "                 </video>"
      ],
      "text/plain": [
       "<IPython.core.display.HTML object>"
      ]
     },
     "metadata": {},
     "output_type": "display_data"
    }
   ],
   "source": [
    "#initial environment\n",
    "env = mario_utils.make_env(ENV_NAME)\n",
    "wrapped_env = mario_utils.wrap_env(env)\n",
    "agent.record_test_episode(wrapped_env)"
   ]
  },
  {
   "attachments": {},
   "cell_type": "markdown",
   "metadata": {},
   "source": [
    "# Variacion de libro\n",
    "\n",
    "Esto lo encontramos en un libro"
   ]
  },
  {
   "cell_type": "code",
   "execution_count": 20,
   "metadata": {},
   "outputs": [],
   "source": [
    "#Hiperparámetros de entrenamiento del agente Doble DQN\n",
    "\n",
    "TOTAL_STEPS =100000000\n",
    "EPISODES = 50\n",
    "STEPS = 1000000\n",
    "\n",
    "EPSILON_INI = 1\n",
    "EPSILON_MIN = 0.05\n",
    "EPSILON_DECAY = 0.99998599985\n",
    "EPSILON_TIME = EPISODES\n",
    "EPISODE_BLOCK = 10\n",
    "\n",
    "BATCH_SIZE = 64\n",
    "BUFFER_SIZE = 40000\n",
    "\n",
    "GAMMA = 0.99\n",
    "LEARNING_RATE = 1e-4"
   ]
  },
  {
   "cell_type": "code",
   "execution_count": 21,
   "metadata": {},
   "outputs": [
    {
     "name": "stderr",
     "output_type": "stream",
     "text": [
      "  2%|▏         | 1/50 [00:02<02:18,  2.83s/ episodes]"
     ]
    },
    {
     "name": "stdout",
     "output_type": "stream",
     "text": [
      "Episode 0 - Avg. Reward over the last 10 episodes 790.000 epsilon 1.00 total steps 267\n",
      "Episode 1 - Avg. Reward over the last 10 episodes 790.000 epsilon 1.00 total steps 267\n"
     ]
    },
    {
     "name": "stderr",
     "output_type": "stream",
     "text": [
      "  4%|▍         | 2/50 [00:07<03:20,  4.17s/ episodes]"
     ]
    },
    {
     "name": "stdout",
     "output_type": "stream",
     "text": [
      "Episode 2 - Avg. Reward over the last 10 episodes 1024.500 epsilon 0.98 total steps 740\n"
     ]
    },
    {
     "name": "stderr",
     "output_type": "stream",
     "text": [
      "  6%|▌         | 3/50 [00:09<02:12,  2.81s/ episodes]"
     ]
    },
    {
     "name": "stdout",
     "output_type": "stream",
     "text": [
      "Episode 3 - Avg. Reward over the last 10 episodes 889.000 epsilon 0.96 total steps 846\n"
     ]
    },
    {
     "name": "stderr",
     "output_type": "stream",
     "text": [
      "  8%|▊         | 4/50 [00:13<02:32,  3.32s/ episodes]"
     ]
    },
    {
     "name": "stdout",
     "output_type": "stream",
     "text": [
      "Episode 4 - Avg. Reward over the last 10 episodes 988.000 epsilon 0.94 total steps 1189\n"
     ]
    },
    {
     "name": "stderr",
     "output_type": "stream",
     "text": [
      " 10%|█         | 5/50 [00:16<02:21,  3.14s/ episodes]"
     ]
    },
    {
     "name": "stdout",
     "output_type": "stream",
     "text": [
      "Episode 5 - Avg. Reward over the last 10 episodes 939.000 epsilon 0.92 total steps 1453\n"
     ]
    },
    {
     "name": "stderr",
     "output_type": "stream",
     "text": [
      " 12%|█▏        | 6/50 [00:17<01:48,  2.46s/ episodes]"
     ]
    },
    {
     "name": "stdout",
     "output_type": "stream",
     "text": [
      "Episode 6 - Avg. Reward over the last 10 episodes 887.333 epsilon 0.91 total steps 1560\n"
     ]
    },
    {
     "name": "stderr",
     "output_type": "stream",
     "text": [
      " 14%|█▍        | 7/50 [00:20<02:00,  2.80s/ episodes]"
     ]
    },
    {
     "name": "stdout",
     "output_type": "stream",
     "text": [
      "Episode 7 - Avg. Reward over the last 10 episodes 859.143 epsilon 0.89 total steps 1878\n"
     ]
    },
    {
     "name": "stderr",
     "output_type": "stream",
     "text": [
      " 16%|█▌        | 8/50 [00:24<02:14,  3.21s/ episodes]"
     ]
    },
    {
     "name": "stdout",
     "output_type": "stream",
     "text": [
      "Episode 8 - Avg. Reward over the last 10 episodes 875.875 epsilon 0.87 total steps 2290\n"
     ]
    },
    {
     "name": "stderr",
     "output_type": "stream",
     "text": [
      " 18%|█▊        | 9/50 [00:29<02:26,  3.58s/ episodes]"
     ]
    },
    {
     "name": "stdout",
     "output_type": "stream",
     "text": [
      "Episode 9 - Avg. Reward over the last 10 episodes 889.000 epsilon 0.85 total steps 2689\n"
     ]
    },
    {
     "name": "stderr",
     "output_type": "stream",
     "text": [
      " 20%|██        | 10/50 [00:32<02:23,  3.58s/ episodes]"
     ]
    },
    {
     "name": "stdout",
     "output_type": "stream",
     "text": [
      "Episode 10 - Avg. Reward over the last 10 episodes 928.900 epsilon 0.83 total steps 3049\n"
     ]
    },
    {
     "name": "stderr",
     "output_type": "stream",
     "text": [
      " 22%|██▏       | 11/50 [00:33<01:50,  2.84s/ episodes]"
     ]
    },
    {
     "name": "stdout",
     "output_type": "stream",
     "text": [
      "Episode 10 - Avg. Reward over the last 10 episodes 910.300 epsilon 0.81 total steps 3156\n",
      "Episode 11 - Avg. Reward over the last 10 episodes 910.300 epsilon 0.81 total steps 3156\n"
     ]
    },
    {
     "name": "stderr",
     "output_type": "stream",
     "text": [
      " 24%|██▍       | 12/50 [00:34<01:19,  2.10s/ episodes]"
     ]
    },
    {
     "name": "stdout",
     "output_type": "stream",
     "text": [
      "Episode 12 - Avg. Reward over the last 10 episodes 807.500 epsilon 0.79 total steps 3196\n"
     ]
    },
    {
     "name": "stderr",
     "output_type": "stream",
     "text": [
      " 26%|██▌       | 13/50 [00:36<01:13,  2.00s/ episodes]"
     ]
    },
    {
     "name": "stdout",
     "output_type": "stream",
     "text": [
      "Episode 13 - Avg. Reward over the last 10 episodes 804.000 epsilon 0.77 total steps 3348\n"
     ]
    },
    {
     "name": "stderr",
     "output_type": "stream",
     "text": [
      " 28%|██▊       | 14/50 [00:38<01:21,  2.27s/ episodes]"
     ]
    },
    {
     "name": "stdout",
     "output_type": "stream",
     "text": [
      "Episode 14 - Avg. Reward over the last 10 episodes 778.500 epsilon 0.75 total steps 3575\n"
     ]
    },
    {
     "name": "stderr",
     "output_type": "stream",
     "text": [
      " 30%|███       | 15/50 [00:40<01:09,  1.99s/ episodes]"
     ]
    },
    {
     "name": "stdout",
     "output_type": "stream",
     "text": [
      "Episode 15 - Avg. Reward over the last 10 episodes 766.800 epsilon 0.73 total steps 3681\n"
     ]
    },
    {
     "name": "stderr",
     "output_type": "stream",
     "text": [
      " 32%|███▏      | 16/50 [00:42<01:09,  2.03s/ episodes]"
     ]
    },
    {
     "name": "stdout",
     "output_type": "stream",
     "text": [
      "Episode 16 - Avg. Reward over the last 10 episodes 767.400 epsilon 0.72 total steps 3845\n"
     ]
    },
    {
     "name": "stderr",
     "output_type": "stream",
     "text": [
      " 34%|███▍      | 17/50 [00:44<01:02,  1.89s/ episodes]"
     ]
    },
    {
     "name": "stdout",
     "output_type": "stream",
     "text": [
      "Episode 17 - Avg. Reward over the last 10 episodes 760.200 epsilon 0.70 total steps 3951\n"
     ]
    },
    {
     "name": "stderr",
     "output_type": "stream",
     "text": [
      " 36%|███▌      | 18/50 [00:45<00:58,  1.82s/ episodes]"
     ]
    },
    {
     "name": "stdout",
     "output_type": "stream",
     "text": [
      "Episode 18 - Avg. Reward over the last 10 episodes 719.700 epsilon 0.68 total steps 4068\n"
     ]
    },
    {
     "name": "stderr",
     "output_type": "stream",
     "text": [
      " 38%|███▊      | 19/50 [00:47<00:52,  1.71s/ episodes]"
     ]
    },
    {
     "name": "stdout",
     "output_type": "stream",
     "text": [
      "Episode 19 - Avg. Reward over the last 10 episodes 681.700 epsilon 0.66 total steps 4171\n"
     ]
    },
    {
     "name": "stderr",
     "output_type": "stream",
     "text": [
      " 40%|████      | 20/50 [00:47<00:41,  1.37s/ episodes]"
     ]
    },
    {
     "name": "stdout",
     "output_type": "stream",
     "text": [
      "Episode 20 - Avg. Reward over the last 10 episodes 576.000 epsilon 0.64 total steps 4211\n"
     ]
    },
    {
     "name": "stderr",
     "output_type": "stream",
     "text": [
      " 42%|████▏     | 21/50 [00:50<00:49,  1.72s/ episodes]"
     ]
    },
    {
     "name": "stdout",
     "output_type": "stream",
     "text": [
      "Episode 20 - Avg. Reward over the last 10 episodes 589.000 epsilon 0.62 total steps 4390\n",
      "Episode 21 - Avg. Reward over the last 10 episodes 589.000 epsilon 0.62 total steps 4390\n"
     ]
    },
    {
     "name": "stderr",
     "output_type": "stream",
     "text": [
      " 44%|████▍     | 22/50 [00:50<00:37,  1.35s/ episodes]"
     ]
    },
    {
     "name": "stdout",
     "output_type": "stream",
     "text": [
      "Episode 22 - Avg. Reward over the last 10 episodes 589.000 epsilon 0.60 total steps 4430\n"
     ]
    },
    {
     "name": "stderr",
     "output_type": "stream",
     "text": [
      " 46%|████▌     | 23/50 [00:51<00:28,  1.07s/ episodes]"
     ]
    },
    {
     "name": "stdout",
     "output_type": "stream",
     "text": [
      "Episode 23 - Avg. Reward over the last 10 episodes 553.800 epsilon 0.58 total steps 4470\n"
     ]
    },
    {
     "name": "stderr",
     "output_type": "stream",
     "text": [
      " 48%|████▊     | 24/50 [00:51<00:22,  1.14 episodes/s]"
     ]
    },
    {
     "name": "stdout",
     "output_type": "stream",
     "text": [
      "Episode 24 - Avg. Reward over the last 10 episodes 473.900 epsilon 0.56 total steps 4510\n"
     ]
    },
    {
     "name": "stderr",
     "output_type": "stream",
     "text": [
      " 50%|█████     | 25/50 [00:53<00:29,  1.19s/ episodes]"
     ]
    },
    {
     "name": "stdout",
     "output_type": "stream",
     "text": [
      "Episode 25 - Avg. Reward over the last 10 episodes 474.500 epsilon 0.54 total steps 4685\n"
     ]
    },
    {
     "name": "stderr",
     "output_type": "stream",
     "text": [
      " 52%|█████▏    | 26/50 [00:54<00:29,  1.21s/ episodes]"
     ]
    },
    {
     "name": "stdout",
     "output_type": "stream",
     "text": [
      "Episode 26 - Avg. Reward over the last 10 episodes 472.100 epsilon 0.53 total steps 4794\n"
     ]
    },
    {
     "name": "stderr",
     "output_type": "stream",
     "text": [
      " 54%|█████▍    | 27/50 [01:01<01:06,  2.88s/ episodes]"
     ]
    },
    {
     "name": "stdout",
     "output_type": "stream",
     "text": [
      "Episode 27 - Avg. Reward over the last 10 episodes 510.000 epsilon 0.51 total steps 5218\n"
     ]
    },
    {
     "name": "stderr",
     "output_type": "stream",
     "text": [
      " 56%|█████▌    | 28/50 [01:03<00:59,  2.68s/ episodes]"
     ]
    },
    {
     "name": "stdout",
     "output_type": "stream",
     "text": [
      "Episode 28 - Avg. Reward over the last 10 episodes 564.100 epsilon 0.49 total steps 5430\n"
     ]
    },
    {
     "name": "stderr",
     "output_type": "stream",
     "text": [
      " 58%|█████▊    | 29/50 [01:05<00:53,  2.53s/ episodes]"
     ]
    },
    {
     "name": "stdout",
     "output_type": "stream",
     "text": [
      "Episode 29 - Avg. Reward over the last 10 episodes 583.600 epsilon 0.47 total steps 5602\n"
     ]
    },
    {
     "name": "stderr",
     "output_type": "stream",
     "text": [
      " 60%|██████    | 30/50 [01:09<00:55,  2.79s/ episodes]"
     ]
    },
    {
     "name": "stdout",
     "output_type": "stream",
     "text": [
      "Episode 30 - Avg. Reward over the last 10 episodes 663.600 epsilon 0.45 total steps 5794\n"
     ]
    },
    {
     "name": "stderr",
     "output_type": "stream",
     "text": [
      " 62%|██████▏   | 31/50 [01:09<00:40,  2.13s/ episodes]"
     ]
    },
    {
     "name": "stdout",
     "output_type": "stream",
     "text": [
      "Episode 30 - Avg. Reward over the last 10 episodes 613.300 epsilon 0.43 total steps 5834\n",
      "Episode 31 - Avg. Reward over the last 10 episodes 613.300 epsilon 0.43 total steps 5834\n"
     ]
    },
    {
     "name": "stderr",
     "output_type": "stream",
     "text": [
      " 64%|██████▍   | 32/50 [01:10<00:29,  1.67s/ episodes]"
     ]
    },
    {
     "name": "stdout",
     "output_type": "stream",
     "text": [
      "Episode 32 - Avg. Reward over the last 10 episodes 613.300 epsilon 0.41 total steps 5874\n"
     ]
    },
    {
     "name": "stderr",
     "output_type": "stream",
     "text": [
      " 66%|██████▌   | 33/50 [01:11<00:22,  1.34s/ episodes]"
     ]
    },
    {
     "name": "stdout",
     "output_type": "stream",
     "text": [
      "Episode 33 - Avg. Reward over the last 10 episodes 613.300 epsilon 0.39 total steps 5914\n"
     ]
    },
    {
     "name": "stderr",
     "output_type": "stream",
     "text": [
      " 68%|██████▊   | 34/50 [01:13<00:27,  1.73s/ episodes]"
     ]
    },
    {
     "name": "stdout",
     "output_type": "stream",
     "text": [
      "Episode 34 - Avg. Reward over the last 10 episodes 670.900 epsilon 0.37 total steps 6096\n"
     ]
    },
    {
     "name": "stderr",
     "output_type": "stream",
     "text": [
      " 70%|███████   | 35/50 [01:16<00:31,  2.07s/ episodes]"
     ]
    },
    {
     "name": "stdout",
     "output_type": "stream",
     "text": [
      "Episode 35 - Avg. Reward over the last 10 episodes 712.300 epsilon 0.35 total steps 6279\n"
     ]
    },
    {
     "name": "stderr",
     "output_type": "stream",
     "text": [
      " 72%|███████▏  | 36/50 [01:17<00:23,  1.65s/ episodes]"
     ]
    },
    {
     "name": "stdout",
     "output_type": "stream",
     "text": [
      "Episode 36 - Avg. Reward over the last 10 episodes 673.800 epsilon 0.34 total steps 6322\n"
     ]
    },
    {
     "name": "stderr",
     "output_type": "stream",
     "text": [
      " 74%|███████▍  | 37/50 [01:17<00:17,  1.34s/ episodes]"
     ]
    },
    {
     "name": "stdout",
     "output_type": "stream",
     "text": [
      "Episode 37 - Avg. Reward over the last 10 episodes 597.200 epsilon 0.32 total steps 6362\n"
     ]
    },
    {
     "name": "stderr",
     "output_type": "stream",
     "text": [
      " 76%|███████▌  | 38/50 [01:18<00:13,  1.12s/ episodes]"
     ]
    },
    {
     "name": "stdout",
     "output_type": "stream",
     "text": [
      "Episode 38 - Avg. Reward over the last 10 episodes 507.400 epsilon 0.30 total steps 6402\n"
     ]
    },
    {
     "name": "stderr",
     "output_type": "stream",
     "text": [
      " 78%|███████▊  | 39/50 [01:22<00:21,  1.91s/ episodes]"
     ]
    },
    {
     "name": "stdout",
     "output_type": "stream",
     "text": [
      "Episode 39 - Avg. Reward over the last 10 episodes 530.100 epsilon 0.28 total steps 6637\n"
     ]
    },
    {
     "name": "stderr",
     "output_type": "stream",
     "text": [
      " 80%|████████  | 40/50 [01:24<00:19,  1.92s/ episodes]"
     ]
    },
    {
     "name": "stdout",
     "output_type": "stream",
     "text": [
      "Episode 40 - Avg. Reward over the last 10 episodes 487.400 epsilon 0.26 total steps 6763\n"
     ]
    },
    {
     "name": "stderr",
     "output_type": "stream",
     "text": [
      " 82%|████████▏ | 41/50 [01:26<00:19,  2.19s/ episodes]"
     ]
    },
    {
     "name": "stdout",
     "output_type": "stream",
     "text": [
      "Episode 40 - Avg. Reward over the last 10 episodes 535.900 epsilon 0.24 total steps 6927\n",
      "Episode 41 - Avg. Reward over the last 10 episodes 535.900 epsilon 0.24 total steps 6927\n"
     ]
    },
    {
     "name": "stderr",
     "output_type": "stream",
     "text": [
      " 84%|████████▍ | 42/50 [01:28<00:16,  2.08s/ episodes]"
     ]
    },
    {
     "name": "stdout",
     "output_type": "stream",
     "text": [
      "Episode 42 - Avg. Reward over the last 10 episodes 573.800 epsilon 0.22 total steps 7031\n"
     ]
    },
    {
     "name": "stderr",
     "output_type": "stream",
     "text": [
      " 86%|████████▌ | 43/50 [01:30<00:13,  2.00s/ episodes]"
     ]
    },
    {
     "name": "stdout",
     "output_type": "stream",
     "text": [
      "Episode 43 - Avg. Reward over the last 10 episodes 610.800 epsilon 0.20 total steps 7140\n"
     ]
    },
    {
     "name": "stderr",
     "output_type": "stream",
     "text": [
      " 88%|████████▊ | 44/50 [01:31<00:09,  1.58s/ episodes]"
     ]
    },
    {
     "name": "stdout",
     "output_type": "stream",
     "text": [
      "Episode 44 - Avg. Reward over the last 10 episodes 552.700 epsilon 0.18 total steps 7183\n"
     ]
    },
    {
     "name": "stderr",
     "output_type": "stream",
     "text": [
      " 90%|█████████ | 45/50 [01:31<00:06,  1.28s/ episodes]"
     ]
    },
    {
     "name": "stdout",
     "output_type": "stream",
     "text": [
      "Episode 45 - Avg. Reward over the last 10 episodes 471.200 epsilon 0.16 total steps 7223\n"
     ]
    },
    {
     "name": "stderr",
     "output_type": "stream",
     "text": [
      " 92%|█████████▏| 46/50 [01:33<00:06,  1.54s/ episodes]"
     ]
    },
    {
     "name": "stdout",
     "output_type": "stream",
     "text": [
      "Episode 46 - Avg. Reward over the last 10 episodes 509.300 epsilon 0.15 total steps 7348\n"
     ]
    },
    {
     "name": "stderr",
     "output_type": "stream",
     "text": [
      " 94%|█████████▍| 47/50 [01:34<00:03,  1.28s/ episodes]"
     ]
    },
    {
     "name": "stdout",
     "output_type": "stream",
     "text": [
      "Episode 47 - Avg. Reward over the last 10 episodes 509.300 epsilon 0.13 total steps 7388\n"
     ]
    },
    {
     "name": "stderr",
     "output_type": "stream",
     "text": [
      " 96%|█████████▌| 48/50 [01:35<00:02,  1.09s/ episodes]"
     ]
    },
    {
     "name": "stdout",
     "output_type": "stream",
     "text": [
      "Episode 48 - Avg. Reward over the last 10 episodes 509.300 epsilon 0.11 total steps 7428\n"
     ]
    },
    {
     "name": "stderr",
     "output_type": "stream",
     "text": [
      " 98%|█████████▊| 49/50 [01:37<00:01,  1.49s/ episodes]"
     ]
    },
    {
     "name": "stdout",
     "output_type": "stream",
     "text": [
      "Episode 49 - Avg. Reward over the last 10 episodes 465.800 epsilon 0.09 total steps 7573\n"
     ]
    },
    {
     "name": "stderr",
     "output_type": "stream",
     "text": [
      "100%|██████████| 50/50 [01:41<00:00,  2.02s/ episodes]"
     ]
    },
    {
     "name": "stdout",
     "output_type": "stream",
     "text": [
      "Episode 50 - Avg. Reward over the last 10 episodes 509.700 epsilon 0.07 total steps 7772\n"
     ]
    },
    {
     "name": "stderr",
     "output_type": "stream",
     "text": [
      "\n"
     ]
    }
   ],
   "source": [
    "env = mario_utils.make_env(ENV_NAME)\n",
    "from agente_dobleq import libro\n",
    "# Cada vez que hacemos un experimento reseteamos la semilla para tener reproducibilidad\n",
    "env.seed(42)\n",
    "random.seed(42)\n",
    "np.random.seed(42)\n",
    "torch.manual_seed(42)\n",
    "torch.backends.cudnn.deterministic = True\n",
    "\n",
    "modelo_libro = DQN_CNN_Model(env.observation_space.shape[0], env.action_space.n).to(DEVICE)\n",
    "\n",
    "ruta_archivo_libro = \"/mnt/c/Users/crisd/OneDrive/Escritorio/python/mario/letra/obligatorio/modelo_pesos_dobleq_libro.pth\"\n",
    "modelo_libro.load_state_dict(torch.load(ruta_archivo_libro))\n",
    "\n",
    "agent = libro(env, modelo_libro, process_state, BUFFER_SIZE, BATCH_SIZE, LEARNING_RATE, GAMMA, epsilon_i= EPSILON_INI, epsilon_f=EPSILON_MIN, epsilon_anneal_time=EPSILON_TIME, epsilon_decay = EPSILON_DECAY, episode_block = EPISODE_BLOCK)\n",
    "\n",
    "rewards = agent.train(EPISODES, STEPS, TOTAL_STEPS)\n",
    "torch.save(agent.modelo_a.state_dict(), ruta_archivo_libro)"
   ]
  },
  {
   "cell_type": "code",
   "execution_count": 22,
   "metadata": {},
   "outputs": [
    {
     "name": "stderr",
     "output_type": "stream",
     "text": [
      "Exception ignored in: <function Monitor.__del__ at 0x7fac363bb880>\n",
      "Traceback (most recent call last):\n",
      "  File \"/home/invoker/miniconda3/envs/py310/lib/python3.11/site-packages/gym/wrappers/monitor.py\", line 229, in __del__\n",
      "    self.close()\n",
      "  File \"/home/invoker/miniconda3/envs/py310/lib/python3.11/site-packages/gym/wrappers/monitor.py\", line 134, in close\n",
      "    super(Monitor, self).close()\n",
      "  File \"/home/invoker/miniconda3/envs/py310/lib/python3.11/site-packages/gym/core.py\", line 236, in close\n",
      "    return self.env.close()\n",
      "           ^^^^^^^^^^^^^^^^\n",
      "  File \"/home/invoker/miniconda3/envs/py310/lib/python3.11/site-packages/gym/core.py\", line 236, in close\n",
      "    return self.env.close()\n",
      "           ^^^^^^^^^^^^^^^^\n",
      "  File \"/home/invoker/miniconda3/envs/py310/lib/python3.11/site-packages/gym/core.py\", line 236, in close\n",
      "    return self.env.close()\n",
      "           ^^^^^^^^^^^^^^^^\n",
      "  [Previous line repeated 4 more times]\n",
      "  File \"/home/invoker/miniconda3/envs/py310/lib/python3.11/site-packages/nes_py/nes_env.py\", line 346, in close\n",
      "    raise ValueError('env has already been closed.')\n",
      "ValueError: env has already been closed.\n"
     ]
    },
    {
     "data": {
      "text/html": [
       "<video alt=\"test\" autoplay \n",
       "                    loop controls style=\"height: 400px;\">\n",
       "                    <source src=\"data:video/mp4;base64,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\" type=\"video/mp4\" />\n",
       "                 </video>"
      ],
      "text/plain": [
       "<IPython.core.display.HTML object>"
      ]
     },
     "metadata": {},
     "output_type": "display_data"
    }
   ],
   "source": [
    "#initial environment\n",
    "env = mario_utils.make_env(ENV_NAME)\n",
    "wrapped_env = mario_utils.wrap_env(env)\n",
    "agent.record_test_episode(wrapped_env)"
   ]
  },
  {
   "attachments": {},
   "cell_type": "markdown",
   "metadata": {
    "id": "YNNvsKiEt9I_"
   },
   "source": [
    "# Comparaciones, Resultados, Comentarios...\n",
    "De aquí en adelante son libres de presentar como gusten los resultados comparativos de las técnicas."
   ]
  },
  {
   "cell_type": "code",
   "execution_count": null,
   "metadata": {
    "id": "uc4gilhpt9JA"
   },
   "outputs": [],
   "source": []
  }
 ],
 "metadata": {
  "accelerator": "GPU",
  "colab": {
   "provenance": []
  },
  "interpreter": {
   "hash": "81794d4967e6c3204c66dcd87b604927b115b27c00565d3d43f05ba2f3a2cb0d"
  },
  "kernelspec": {
   "display_name": "Python 3",
   "language": "python",
   "name": "python3"
  },
  "language_info": {
   "codemirror_mode": {
    "name": "ipython",
    "version": 3
   },
   "file_extension": ".py",
   "mimetype": "text/x-python",
   "name": "python",
   "nbconvert_exporter": "python",
   "pygments_lexer": "ipython3",
   "version": "3.11.3"
  }
 },
 "nbformat": 4,
 "nbformat_minor": 1
}
