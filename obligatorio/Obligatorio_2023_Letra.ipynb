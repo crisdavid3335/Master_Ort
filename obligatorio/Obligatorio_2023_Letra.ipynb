{
 "cells": [
  {
   "attachments": {},
   "cell_type": "markdown",
   "metadata": {
    "id": "FvK9xJR6t9Iw",
    "pycharm": {
     "name": "#%% md\n"
    }
   },
   "source": [
    "# Obligatorio - Taller Agentes Inteligentes 2023\n",
    "\n",
    "Vamos a usar el juego Super Mario Bros:\n",
    "PyPi: https://pypi.org/project/gym-super-mario-bros/ \n",
    "Repo: https://github.com/Kautenja/gym-super-mario-bros\n",
    "\n",
    "En este caso, el juego está programado como un ambiente de OpenAI Gym, cumpliendo con las interfaces que hemos trabajado en el curso.\n",
    "\n",
    "\n",
    "El objetivo del juego consta de lograr que nuestro personaje llegue al final de la pantalla, sin ser comido por enemigos o caer al vacío."
   ]
  },
  {
   "attachments": {},
   "cell_type": "markdown",
   "metadata": {
    "id": "BgqA_LYAt9I0"
   },
   "source": [
    "![](./assets/images/mario.gif)"
   ]
  },
  {
   "attachments": {},
   "cell_type": "markdown",
   "metadata": {
    "id": "QkZeuZ7Rt9I0"
   },
   "source": [
    "Si bien el juego podría considerarse de múltiples agentes (mario, y sus enemigos), utilizaremos unicamente las heramientas del curso para solucionarlo, esto es, todo lo que no conforma a nuestros agentes será considerado ambiente y tratado como tal.\n",
    "\n",
    "El objetivo es resolver el juego utilizando Deep Q Learning y Double Deep Q Learning, comparando sus resultados.\n",
    "\n",
    "\n",
    "## Tareas:\n",
    "\n",
    "\n",
    "1. Completar el código faltante en este notebook (y archivos asociados).\n",
    "\n",
    "\n",
    "2. Entrenar un agente de Deep Q Learning (DQN) para cada ambiente tal que éste sea capaz de resolverlo.\n",
    "\n",
    "\n",
    "3. Entrenar un agente de Double Deep Q Learning (DDQN) para cada ambiente tal que éste sea capaz de resolverlo.\n",
    "\n",
    "\n",
    "4. Graficar las recompensas obtenidas para cada ambiente por cada agente (Ambos agentes resolviendo el ambiente 1 en una misma gráfica, idem para el ambiente 2). Escribir al menos 2 conclusiones de cada grafica. \n",
    "\n",
    "\n",
    "5. Grabar un video de cada agente resolviendo cada problema (pueden descargar el video desde colab y entregarlos dentro de un zip).\n",
    "\n",
    "\n",
    "Recuerden que pueden usar la GPU en google colab para agilizar el entrenamiento. \n",
    "***\n",
    "\n",
    "\n",
    "Fecha de entrega: **04/07** 21hs por gestión (gestion.ort.edu.uy). Pueden trabajar en grupos de hasta 3 estudiantes. \n",
    "***"
   ]
  },
  {
   "attachments": {},
   "cell_type": "markdown",
   "metadata": {
    "id": "YWf2qc2Hykps",
    "pycharm": {
     "name": "#%% md\n"
    }
   },
   "source": [
    "Instalación de librerías. Se fija la versión de gym, dado que para dicha versión las ROMS de los juegos ya estan includias y se evita su instalación separada lo que puede originar problemas."
   ]
  },
  {
   "cell_type": "code",
   "execution_count": 1,
   "metadata": {
    "id": "r9wotKEgOaUW",
    "pycharm": {
     "name": "#%%\n"
    }
   },
   "outputs": [],
   "source": [
    "#%%capture\n",
    "#!pip install pyvirtualdisplay > /dev/null 2>&1\n",
    "#!apt-get install -y xvfb python-opengl ffmpeg > /dev/null 2>&1\n",
    "#!pip install opencv-python\n",
    "#!pip install torchsummary\n",
    "#!pip install nes-py\n",
    "#!pip install --force-reinstall gym-super-mario-bros==7.4.0  > /dev/null 2>&1\n",
    "#!pip install --force-reinstall gym==0.15.3 > /dev/null 2>&1\n",
    "#!pip install pillow==8.4.0\n",
    "#!pip install torchvision==0.11.1\n",
    "#!pip install pyglet==1.4.9\n",
    "#!pip install torch==1.8.1+cu101 torchvision==0.9.1+cu101 torchaudio==0.8.1 -f https://download.pytorch.org/whl/torch_stable.html"
   ]
  },
  {
   "attachments": {},
   "cell_type": "markdown",
   "metadata": {
    "id": "gc6t9etEt9I2",
    "pycharm": {
     "name": "#%%\n"
    }
   },
   "source": [
    "Imports y configuraciones de ambiente"
   ]
  },
  {
   "cell_type": "code",
   "execution_count": 10,
   "metadata": {
    "id": "cwHCw6PMt9I3",
    "pycharm": {
     "name": "#%%\n"
    }
   },
   "outputs": [],
   "source": [
    "import os\n",
    "import torch\n",
    "import gym\n",
    "import numpy as np\n",
    "import matplotlib.pyplot as plt\n",
    "\n",
    "import math\n",
    "import random\n",
    "import numpy as np\n",
    "from PIL import Image\n",
    "from torchvision import transforms\n",
    "import torch.nn as nn\n",
    "import torch.nn.functional as F\n",
    "import mario_utils"
   ]
  },
  {
   "attachments": {},
   "cell_type": "markdown",
   "metadata": {
    "id": "ySRyzNz8t9I3"
   },
   "source": [
    "Checkeo de devices"
   ]
  },
  {
   "cell_type": "code",
   "execution_count": 11,
   "metadata": {
    "colab": {
     "base_uri": "https://localhost:8080/"
    },
    "id": "8zcyB176t9I3",
    "outputId": "4239691d-04a7-47de-9898-ee53cf047a8c"
   },
   "outputs": [
    {
     "name": "stdout",
     "output_type": "stream",
     "text": [
      "Running on cuda:0\n",
      "Cuda Available: True ====> NVIDIA GeForce RTX 4060 Laptop GPU\n"
     ]
    }
   ],
   "source": [
    "torch.zeros(1).cuda()\n",
    "\n",
    "DEVICE = torch.device('cuda:0' if torch.cuda.is_available() else 'cpu')\n",
    "print(f\"Running on {DEVICE}\")\n",
    "\n",
    "random.seed(42)\n",
    "np.random.seed(42)\n",
    "torch.manual_seed(42)\n",
    "torch.backends.cudnn.deterministic = True\n",
    "\n",
    "print(\"Cuda Available:\", torch.cuda.is_available(), '====>',\n",
    "torch.cuda.get_device_name(torch.cuda.current_device()))"
   ]
  },
  {
   "attachments": {},
   "cell_type": "markdown",
   "metadata": {
    "id": "xcfjdDuQt9I4"
   },
   "source": [
    "Setting de seeds"
   ]
  },
  {
   "cell_type": "code",
   "execution_count": 12,
   "metadata": {
    "id": "bxW_5r15t9I5"
   },
   "outputs": [],
   "source": [
    "random.seed(42)\n",
    "np.random.seed(42)\n",
    "torch.manual_seed(42)\n",
    "torch.backends.cudnn.deterministic = True"
   ]
  },
  {
   "attachments": {},
   "cell_type": "markdown",
   "metadata": {
    "id": "2bYVG_TKt9I5"
   },
   "source": [
    "Validacion del ambiente"
   ]
  },
  {
   "cell_type": "code",
   "execution_count": 13,
   "metadata": {
    "colab": {
     "base_uri": "https://localhost:8080/"
    },
    "id": "loVxQPrwt9I5",
    "outputId": "18b7ed97-88dd-4b1e-a2cc-b2636686bfc7"
   },
   "outputs": [
    {
     "name": "stdout",
     "output_type": "stream",
     "text": [
      "Actions # 2\n",
      "['NOOP']\n",
      "(4, 84, 84)\n",
      "(4, 84, 84),\n",
      " 0.0,\n",
      " False,\n",
      " {'coins': 0, 'flag_get': False, 'life': 2, 'score': 0, 'stage': 1, 'status': 'small', 'time': 400, 'world': 1, 'x_pos': 40, 'y_pos': 79}\n"
     ]
    }
   ],
   "source": [
    "ENV_NAME = \"SuperMarioBros-1-1-v0\"\n",
    "\n",
    "env = mario_utils.make_env(ENV_NAME)\n",
    "print(\"Actions #\",env.action_space.n)\n",
    "print(env.unwrapped.get_action_meanings())\n",
    "print(env.observation_space.shape)\n",
    "env.reset()\n",
    "next_state, reward, done, info = env.step(action=0)\n",
    "\n",
    "print(f\"{next_state.shape},\\n {reward},\\n {done},\\n {info}\")"
   ]
  },
  {
   "cell_type": "code",
   "execution_count": 14,
   "metadata": {
    "colab": {
     "base_uri": "https://localhost:8080/"
    },
    "id": "f5LX5VNcvK-3",
    "outputId": "bf549ab5-c66d-4460-8e3e-106fb9f0971f"
   },
   "outputs": [
    {
     "data": {
      "text/plain": [
       "tensor([[[0.5476, 0.5476, 0.5476,  ..., 0.5476, 0.5476, 0.5476],\n",
       "         [0.5476, 0.5476, 0.5476,  ..., 0.5476, 0.5476, 0.5476],\n",
       "         [0.5476, 0.5476, 0.5476,  ..., 0.5476, 0.5476, 0.5476],\n",
       "         ...,\n",
       "         [0.4862, 0.4862, 0.4862,  ..., 0.4862, 0.5114, 0.4862],\n",
       "         [0.7494, 0.3820, 0.3579,  ..., 0.2038, 0.4862, 0.4862],\n",
       "         [0.4515, 0.4515, 0.1305,  ..., 0.7431, 0.4515, 0.0107]],\n",
       "\n",
       "        [[0.5476, 0.5476, 0.5476,  ..., 0.5476, 0.5476, 0.5476],\n",
       "         [0.5476, 0.5476, 0.5476,  ..., 0.5476, 0.5476, 0.5476],\n",
       "         [0.5476, 0.5476, 0.5476,  ..., 0.5476, 0.5476, 0.5476],\n",
       "         ...,\n",
       "         [0.4862, 0.4862, 0.4862,  ..., 0.4862, 0.5114, 0.4862],\n",
       "         [0.7494, 0.3820, 0.3579,  ..., 0.2038, 0.4862, 0.4862],\n",
       "         [0.4515, 0.4515, 0.1305,  ..., 0.7431, 0.4515, 0.0107]],\n",
       "\n",
       "        [[0.5476, 0.5476, 0.5476,  ..., 0.5476, 0.5476, 0.5476],\n",
       "         [0.5476, 0.5476, 0.5476,  ..., 0.5476, 0.5476, 0.5476],\n",
       "         [0.5476, 0.5476, 0.5476,  ..., 0.5476, 0.5476, 0.5476],\n",
       "         ...,\n",
       "         [0.4862, 0.4862, 0.4862,  ..., 0.4862, 0.5114, 0.4862],\n",
       "         [0.7494, 0.3820, 0.3579,  ..., 0.2038, 0.4862, 0.4862],\n",
       "         [0.4515, 0.4515, 0.1305,  ..., 0.7431, 0.4515, 0.0107]],\n",
       "\n",
       "        [[0.5476, 0.5476, 0.5476,  ..., 0.5476, 0.5476, 0.5476],\n",
       "         [0.5476, 0.5476, 0.5476,  ..., 0.5476, 0.5476, 0.5476],\n",
       "         [0.5476, 0.5476, 0.5476,  ..., 0.5476, 0.5476, 0.5476],\n",
       "         ...,\n",
       "         [0.4862, 0.4862, 0.4862,  ..., 0.4862, 0.5114, 0.4862],\n",
       "         [0.7494, 0.3820, 0.3579,  ..., 0.2038, 0.4862, 0.4862],\n",
       "         [0.4515, 0.4515, 0.1305,  ..., 0.7431, 0.4515, 0.0107]]])"
      ]
     },
     "execution_count": 14,
     "metadata": {},
     "output_type": "execute_result"
    }
   ],
   "source": [
    "next_state, reward, done, info = env.step(action=0)\n",
    "torch.Tensor(next_state[:])"
   ]
  },
  {
   "cell_type": "code",
   "execution_count": 15,
   "metadata": {
    "colab": {
     "base_uri": "https://localhost:8080/",
     "height": 428
    },
    "id": "NHJmd1qet9I5",
    "outputId": "a471000c-fe89-41fd-be36-b23e9c407d34"
   },
   "outputs": [
    {
     "data": {
      "image/png": "[encoded data removed]",
      "text/plain": [
       "<Figure size 640x480 with 1 Axes>"
      ]
     },
     "metadata": {},
     "output_type": "display_data"
    }
   ],
   "source": [
    "mario_utils.show_state(env)"
   ]
  },
  {
   "cell_type": "code",
   "execution_count": 16,
   "metadata": {
    "colab": {
     "base_uri": "https://localhost:8080/",
     "height": 1000
    },
    "id": "bndnjRMRoglD",
    "outputId": "1b7de51a-f72b-42cc-ef7a-2906be2c5c24",
    "pycharm": {
     "name": "#%%\n"
    }
   },
   "outputs": [
    {
     "data": {
      "image/png": "[encoded data removed]",
      "text/plain": [
       "<Figure size 640x480 with 1 Axes>"
      ]
     },
     "metadata": {},
     "output_type": "display_data"
    },
    {
     "data": {
      "image/png": "[encoded data removed]",
      "text/plain": [
       "<Figure size 640x480 with 1 Axes>"
      ]
     },
     "metadata": {},
     "output_type": "display_data"
    },
    {
     "data": {
      "image/png": "[encoded data removed]",
      "text/plain": [
       "<Figure size 640x480 with 1 Axes>"
      ]
     },
     "metadata": {},
     "output_type": "display_data"
    },
    {
     "data": {
      "image/png": "[encoded data removed]",
      "text/plain": [
       "<Figure size 640x480 with 1 Axes>"
      ]
     },
     "metadata": {},
     "output_type": "display_data"
    }
   ],
   "source": [
    "obs = env.reset()\n",
    "mario_utils.show_obs(obs)"
   ]
  },
  {
   "cell_type": "code",
   "execution_count": 8,
   "metadata": {
    "colab": {
     "base_uri": "https://localhost:8080/"
    },
    "id": "z2iyQui5t9I7",
    "outputId": "aaecf9cb-a514-4a8b-bffe-771c1ce9108e"
   },
   "outputs": [
    {
     "name": "stderr",
     "output_type": "stream",
     "text": [
      "/home/invoker/miniconda3/envs/py310/lib/python3.11/site-packages/torchvision/transforms/functional.py:1603: UserWarning: The default value of the antialias parameter of all the resizing transforms (Resize(), RandomResizedCrop(), etc.) will change from None to True in v0.17, in order to be consistent across the PIL and Tensor backends. To suppress this warning, directly pass antialias=True (recommended, future default), antialias=None (current default, which means False for Tensors and True for PIL), or antialias=False (only works on Tensors - PIL will still use antialiasing). This also applies if you are using the inference transforms from the models weights: update the call to weights.transforms(antialias=True).\n",
      "  warnings.warn(\n"
     ]
    }
   ],
   "source": [
    "from IPython.display import HTML\n",
    "from pyvirtualdisplay import Display\n",
    "\n",
    "#display = Display(visible=0, size=(1400, 900),color_depth=16)\n",
    "#display.start()\n",
    "\n",
    "wrapped_env = mario_utils.wrap_env(env)\n",
    "state = wrapped_env.reset()\n",
    "\n",
    "while True:        \n",
    "  #wrapped_env.render()\n",
    "  state, reward, done, info = wrapped_env.step(wrapped_env.action_space.sample())\n",
    "  if done:\n",
    "    break\n",
    "\n",
    "wrapped_env.close()"
   ]
  },
  {
   "cell_type": "code",
   "execution_count": 17,
   "metadata": {
    "colab": {
     "base_uri": "https://localhost:8080/",
     "height": 421
    },
    "id": "OrSwWgmyt9I7",
    "outputId": "cb44ee02-4bb4-4b5a-a1b1-bf090edb2b10"
   },
   "outputs": [
    {
     "name": "stdout",
     "output_type": "stream",
     "text": [
      "Could not find video\n"
     ]
    }
   ],
   "source": [
    "mario_utils.show_video()"
   ]
  },
  {
   "attachments": {},
   "cell_type": "markdown",
   "metadata": {
    "id": "XIHpwiaat9I7"
   },
   "source": [
    "# Deep Q Learning\n",
    "\n",
    "\n",
    "Recomendamos empezar implementando Deep Q Learning (paper presentado por DeepMind, pueden encontrar el mismo en arxiv: https://arxiv.org/pdf/1312.5602.pdf0).\n",
    "\n",
    "***\n",
    "\n",
    "En las celdas siguientes dejamos el código que deben implementar asi como una explicación del mismo."
   ]
  },
  {
   "attachments": {},
   "cell_type": "markdown",
   "metadata": {
    "id": "ajTGajUftSgY",
    "pycharm": {
     "name": "#%% md\n"
    }
   },
   "source": [
    "# Memoria\n",
    "\n",
    "El algoritmo de Deep Q Learning presentado en el paper utiliza una memoria (llamada Replay Memory) para almacenar transiciones pasadas. Tuplas que contienen un estado base, la accion tomada, la recompensa obtenida, una bandera que indica si el siguiente estado es final o no; y el estado siguiente.\n",
    "\n",
    "Esta memoria es circular, es decir, tiene un límite maximo de elementos y una vez esté llena comienza a reemplazar los elementos más viejos.\n",
    "\n",
    "Vamos a necesitar crear una función **sample** que obtiene una mustra aleatoria de elementos de la memoria.  Esto puede ser una lista de Transiciones o listas separadas (pero alineadas) de los elementos que las componen.\n",
    "\n",
    "***\n",
    "\n",
    "Para implementar esta funcionalidad se debe modificar el archivo **replay_memory.py**\n"
   ]
  },
  {
   "cell_type": "code",
   "execution_count": 21,
   "metadata": {},
   "outputs": [
    {
     "data": {
      "text/plain": [
       "<All keys matched successfully>"
      ]
     },
     "execution_count": 21,
     "metadata": {},
     "output_type": "execute_result"
    }
   ],
   "source": [
    "import torch\n",
    "from dqn_cnn_model import DQN_CNN_Model\n",
    "\n",
    "ruta_archivo = \"/mnt/c/Users/crisd/OneDrive/Escritorio/python/mario/letra/obligatorio/modelo_pesos.pth\"\n",
    "modelo = DQN_CNN_Model(4, 2)\n",
    "modelo.load_state_dict(torch.load(ruta_archivo))\n"
   ]
  },
  {
   "cell_type": "code",
   "execution_count": 10,
   "metadata": {
    "id": "scPtpbz4tTAh",
    "outputId": "0890f48a-e673-4416-bd69-7dcf2730ba64",
    "pycharm": {
     "name": "#%%\n"
    }
   },
   "outputs": [],
   "source": [
    "from replay_memory import ReplayMemory\n",
    "from abstract_agent import Agent\n",
    "import gym\n",
    "from dqn_cnn_model import DQN_CNN_Model\n",
    "input_channels = env.observation_space.shape[0]\n",
    "agent = Agent(\n",
    "    gym_env=env,\n",
    "    obs_processing_func = modelo,\n",
    "    memory_buffer_size=10000,\n",
    "    batch_size=256,\n",
    "    learning_rate=0.0001,\n",
    "    gamma=0.8,\n",
    "    epsilon_i=1.0,\n",
    "    epsilon_f=0.001,\n",
    "    epsilon_anneal_time=500,\n",
    "    epsilon_decay=0.99,\n",
    "    episode_block=100\n",
    ")\n",
    "\n",
    "\n",
    "rewards = agent.train(\n",
    "    number_episodes=700,\n",
    "    max_steps_episode=100000000,\n",
    "    max_steps=10000000,\n",
    "    writer_name=\"agente_mario\"\n",
    ")\n",
    "\n",
    "ruta_archivo = \"/mnt/c/Users/crisd/OneDrive/Escritorio/modelo_pesos.pth\"\n",
    "torch.save(agent.model.state_dict(), ruta_archivo)"
   ]
  },
  {
   "cell_type": "code",
   "execution_count": 11,
   "metadata": {},
   "outputs": [
    {
     "name": "stderr",
     "output_type": "stream",
     "text": [
      "/home/invoker/miniconda3/envs/py310/lib/python3.11/site-packages/torchvision/transforms/functional.py:1603: UserWarning: The default value of the antialias parameter of all the resizing transforms (Resize(), RandomResizedCrop(), etc.) will change from None to True in v0.17, in order to be consistent across the PIL and Tensor backends. To suppress this warning, directly pass antialias=True (recommended, future default), antialias=None (current default, which means False for Tensors and True for PIL), or antialias=False (only works on Tensors - PIL will still use antialiasing). This also applies if you are using the inference transforms from the models weights: update the call to weights.transforms(antialias=True).\n",
      "  warnings.warn(\n"
     ]
    },
    {
     "data": {
      "text/html": [
       "<video alt=\"test\" autoplay \n",
       "                    loop controls style=\"height: 400px;\">\n",
       "                    <source src=\"data:video/mp4;base64,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\" type=\"video/mp4\" />\n",
       "                 </video>"
      ],
      "text/plain": [
       "<IPython.core.display.HTML object>"
      ]
     },
     "metadata": {},
     "output_type": "display_data"
    },
    {
     "name": "stderr",
     "output_type": "stream",
     "text": [
      "Exception ignored in: <function Monitor.__del__ at 0x7f12b2ae7880>\n",
      "Traceback (most recent call last):\n",
      "  File \"/home/invoker/miniconda3/envs/py310/lib/python3.11/site-packages/gym/wrappers/monitor.py\", line 229, in __del__\n",
      "    self.close()\n",
      "  File \"/home/invoker/miniconda3/envs/py310/lib/python3.11/site-packages/gym/wrappers/monitor.py\", line 134, in close\n",
      "    super(Monitor, self).close()\n",
      "  File \"/home/invoker/miniconda3/envs/py310/lib/python3.11/site-packages/gym/core.py\", line 236, in close\n",
      "    return self.env.close()\n",
      "           ^^^^^^^^^^^^^^^^\n",
      "  File \"/home/invoker/miniconda3/envs/py310/lib/python3.11/site-packages/gym/wrappers/monitor.py\", line 134, in close\n",
      "    super(Monitor, self).close()\n",
      "  File \"/home/invoker/miniconda3/envs/py310/lib/python3.11/site-packages/gym/core.py\", line 236, in close\n",
      "    return self.env.close()\n",
      "           ^^^^^^^^^^^^^^^^\n",
      "  File \"/home/invoker/miniconda3/envs/py310/lib/python3.11/site-packages/gym/core.py\", line 236, in close\n",
      "    return self.env.close()\n",
      "           ^^^^^^^^^^^^^^^^\n",
      "  File \"/home/invoker/miniconda3/envs/py310/lib/python3.11/site-packages/gym/core.py\", line 236, in close\n",
      "    return self.env.close()\n",
      "           ^^^^^^^^^^^^^^^^\n",
      "  [Previous line repeated 4 more times]\n",
      "  File \"/home/invoker/miniconda3/envs/py310/lib/python3.11/site-packages/nes_py/nes_env.py\", line 346, in close\n",
      "    raise ValueError('env has already been closed.')\n",
      "ValueError: env has already been closed.\n",
      "Exception ignored in: <function Monitor.__del__ at 0x7f12b2ae7880>\n",
      "Traceback (most recent call last):\n",
      "  File \"/home/invoker/miniconda3/envs/py310/lib/python3.11/site-packages/gym/wrappers/monitor.py\", line 229, in __del__\n",
      "    self.close()\n",
      "  File \"/home/invoker/miniconda3/envs/py310/lib/python3.11/site-packages/gym/wrappers/monitor.py\", line 134, in close\n",
      "    super(Monitor, self).close()\n",
      "  File \"/home/invoker/miniconda3/envs/py310/lib/python3.11/site-packages/gym/core.py\", line 236, in close\n",
      "    return self.env.close()\n",
      "           ^^^^^^^^^^^^^^^^\n",
      "  File \"/home/invoker/miniconda3/envs/py310/lib/python3.11/site-packages/gym/core.py\", line 236, in close\n",
      "    return self.env.close()\n",
      "           ^^^^^^^^^^^^^^^^\n",
      "  File \"/home/invoker/miniconda3/envs/py310/lib/python3.11/site-packages/gym/core.py\", line 236, in close\n",
      "    return self.env.close()\n",
      "           ^^^^^^^^^^^^^^^^\n",
      "  [Previous line repeated 4 more times]\n",
      "  File \"/home/invoker/miniconda3/envs/py310/lib/python3.11/site-packages/nes_py/nes_env.py\", line 346, in close\n",
      "    raise ValueError('env has already been closed.')\n",
      "ValueError: env has already been closed.\n"
     ]
    }
   ],
   "source": [
    "agent.record_test_episode(mario_utils.wrap_env(env))"
   ]
  },
  {
   "attachments": {},
   "cell_type": "markdown",
   "metadata": {
    "id": "j7Ygv5Mjtb-F",
    "pycharm": {
     "name": "#%% md\n"
    }
   },
   "source": [
    "# Modelo\n",
    "\n",
    "Vamos a usar un mismo modelo FeedForward para estos dos problemas (entrenado en cada problema particular). Recomendamos simplicidad en la creación del mismo, pero tienen total libertad al momento de implementarlo.\n",
    "\n",
    "***\n",
    "Para implementar esta funcionalidad se debe modificar el archivo **dqn_cnn_model.py**\n"
   ]
  },
  {
   "cell_type": "code",
   "execution_count": 12,
   "metadata": {
    "id": "bkNBvJB6ryp7",
    "pycharm": {
     "name": "#%%\n"
    }
   },
   "outputs": [
    {
     "name": "stdout",
     "output_type": "stream",
     "text": [
      "----------------------------------------------------------------\n",
      "        Layer (type)               Output Shape         Param #\n",
      "================================================================\n",
      "            Conv2d-1           [-1, 16, 20, 20]           4,112\n",
      "              ReLU-2           [-1, 16, 20, 20]               0\n",
      "            Conv2d-3             [-1, 32, 9, 9]           8,224\n",
      "              ReLU-4             [-1, 32, 9, 9]               0\n",
      "            Linear-5                  [-1, 256]         663,808\n",
      "            Linear-6                    [-1, 2]             514\n",
      "================================================================\n",
      "Total params: 676,658\n",
      "Trainable params: 676,658\n",
      "Non-trainable params: 0\n",
      "----------------------------------------------------------------\n",
      "Input size (MB): 0.11\n",
      "Forward/backward pass size (MB): 0.14\n",
      "Params size (MB): 2.58\n",
      "Estimated Total Size (MB): 2.83\n",
      "----------------------------------------------------------------\n"
     ]
    }
   ],
   "source": [
    "from dqn_cnn_model import DQN_CNN_Model\n",
    "from mario_utils import make_env\n",
    "\n",
    "test_env = make_env(ENV_NAME)\n",
    "\n",
    "input_channels = test_env.observation_space.shape[0]\n",
    "test_net = DQN_CNN_Model(input_channels, test_env.action_space.n).to(DEVICE)\n",
    "\n",
    "from torchsummary import summary\n",
    "summary(test_net, test_env.observation_space.shape)"
   ]
  },
  {
   "attachments": {},
   "cell_type": "markdown",
   "metadata": {
    "id": "z9B7ZY9Htj_F",
    "pycharm": {
     "name": "#%% md\n"
    }
   },
   "source": [
    "# Agente\n",
    "\n",
    "Vamos a definir una clase agente, encargado de interactuar con el ambiente y entrenar los modelos. Los métdos definidos deben funcionar para ambos problemas simplemente cambiando el modelo a utilizar para cada ambiente.\n",
    "\n",
    "Abajo dejamos un esqueleto del mismo y las funciones a completar. Recomendamos no alterar la estructura del mismo, pero pueden definir las funciones auxiliares que consideren necesarias.\n",
    "\n",
    "Una aclaracion particular es sobre los últimos tres parametros del agente, representan los valores de epsilon_inicial, epsilon_final y el tiempo (numero de steps) que tardamos en llegar del epsilon final al inicial (puede decrementarlo de forma lineal o exponencial en el número de steps).\n",
    "\n",
    "***\n",
    "\n",
    "Para implementar esta funcionalidad se debe modificar los archivos **abstract_agent.py**, **dqn_agent.py** y **double_dqn_agent.py**.\n",
    "\n",
    "Funciones a completar:\n",
    "\n",
    "\n",
    "1. init: que inicializa los parametros del agente.\n",
    "\n",
    "2. compute_epsilon: que computa el valor actual de epsilon en base al número de pasos actuales.\n",
    "\n",
    "3. select_action: Seleccionando acciones \"epsilongreedy-mente\" si estamos entranando y completamente greedy en otro caso.\n",
    "\n",
    "4. train: que entrena el agente por un número dado de episodios de largo determinado.\n",
    "\n",
    "5. record_test_episode: para grabar un episodio con el agente siempre seleccionando la mejor accion conocida."
   ]
  },
  {
   "attachments": {},
   "cell_type": "markdown",
   "metadata": {
    "id": "BOD-ENZRtyMt",
    "pycharm": {
     "name": "#%% md\n"
    }
   },
   "source": [
    "# Entrenamiento\n",
    "\n",
    "Para entrenar van a necesitar definir:\n",
    "\n",
    "1. El ambiente.\n",
    "2. Una instancia del modelo a utilizar para el problema (ej: `mario_model = DQNModel(espacio_obs, num_acciones)`.\n",
    "3. La función para procesar los estados (phi en el paper) que es necesaria para poder usar el modelo de Pytorch con las representaciones de gym.\n",
    "\n",
    "Una vez definido pueden llamar a la función train del agente para entrenarlo y problar las demás funciones.\n",
    "\n",
    "***\n",
    "\n",
    "Una de las cosas que recomendamos hacer para probar los algoritmos es entrenar el agente por una cantidad X de episodios, grabar un video para observar progreso, volver a entrenar el mismo agente y volver a grabar un video, todas las veces que considere necesario.\n",
    "\n",
    "***"
   ]
  },
  {
   "cell_type": "code",
   "execution_count": 34,
   "metadata": {
    "id": "D7pZCrhMt9I9",
    "pycharm": {
     "name": "#%%\n"
    }
   },
   "outputs": [
    {
     "ename": "ModuleNotFoundError",
     "evalue": "No module named 'tensorboard'",
     "output_type": "error",
     "traceback": [
      "\u001b[0;31m---------------------------------------------------------------------------\u001b[0m",
      "\u001b[0;31mModuleNotFoundError\u001b[0m                       Traceback (most recent call last)",
      "Cell \u001b[0;32mIn[34], line 1\u001b[0m\n\u001b[0;32m----> 1\u001b[0m get_ipython()\u001b[39m.\u001b[39;49mrun_line_magic(\u001b[39m'\u001b[39;49m\u001b[39mload_ext\u001b[39;49m\u001b[39m'\u001b[39;49m, \u001b[39m'\u001b[39;49m\u001b[39mtensorboard\u001b[39;49m\u001b[39m'\u001b[39;49m)\n",
      "File \u001b[0;32m~/miniconda3/envs/py310/lib/python3.11/site-packages/IPython/core/interactiveshell.py:2417\u001b[0m, in \u001b[0;36mInteractiveShell.run_line_magic\u001b[0;34m(self, magic_name, line, _stack_depth)\u001b[0m\n\u001b[1;32m   2415\u001b[0m     kwargs[\u001b[39m'\u001b[39m\u001b[39mlocal_ns\u001b[39m\u001b[39m'\u001b[39m] \u001b[39m=\u001b[39m \u001b[39mself\u001b[39m\u001b[39m.\u001b[39mget_local_scope(stack_depth)\n\u001b[1;32m   2416\u001b[0m \u001b[39mwith\u001b[39;00m \u001b[39mself\u001b[39m\u001b[39m.\u001b[39mbuiltin_trap:\n\u001b[0;32m-> 2417\u001b[0m     result \u001b[39m=\u001b[39m fn(\u001b[39m*\u001b[39;49margs, \u001b[39m*\u001b[39;49m\u001b[39m*\u001b[39;49mkwargs)\n\u001b[1;32m   2419\u001b[0m \u001b[39m# The code below prevents the output from being displayed\u001b[39;00m\n\u001b[1;32m   2420\u001b[0m \u001b[39m# when using magics with decodator @output_can_be_silenced\u001b[39;00m\n\u001b[1;32m   2421\u001b[0m \u001b[39m# when the last Python token in the expression is a ';'.\u001b[39;00m\n\u001b[1;32m   2422\u001b[0m \u001b[39mif\u001b[39;00m \u001b[39mgetattr\u001b[39m(fn, magic\u001b[39m.\u001b[39mMAGIC_OUTPUT_CAN_BE_SILENCED, \u001b[39mFalse\u001b[39;00m):\n",
      "File \u001b[0;32m~/miniconda3/envs/py310/lib/python3.11/site-packages/IPython/core/magics/extension.py:33\u001b[0m, in \u001b[0;36mExtensionMagics.load_ext\u001b[0;34m(self, module_str)\u001b[0m\n\u001b[1;32m     31\u001b[0m \u001b[39mif\u001b[39;00m \u001b[39mnot\u001b[39;00m module_str:\n\u001b[1;32m     32\u001b[0m     \u001b[39mraise\u001b[39;00m UsageError(\u001b[39m'\u001b[39m\u001b[39mMissing module name.\u001b[39m\u001b[39m'\u001b[39m)\n\u001b[0;32m---> 33\u001b[0m res \u001b[39m=\u001b[39m \u001b[39mself\u001b[39;49m\u001b[39m.\u001b[39;49mshell\u001b[39m.\u001b[39;49mextension_manager\u001b[39m.\u001b[39;49mload_extension(module_str)\n\u001b[1;32m     35\u001b[0m \u001b[39mif\u001b[39;00m res \u001b[39m==\u001b[39m \u001b[39m'\u001b[39m\u001b[39malready loaded\u001b[39m\u001b[39m'\u001b[39m:\n\u001b[1;32m     36\u001b[0m     \u001b[39mprint\u001b[39m(\u001b[39m\"\u001b[39m\u001b[39mThe \u001b[39m\u001b[39m%s\u001b[39;00m\u001b[39m extension is already loaded. To reload it, use:\u001b[39m\u001b[39m\"\u001b[39m \u001b[39m%\u001b[39m module_str)\n",
      "File \u001b[0;32m~/miniconda3/envs/py310/lib/python3.11/site-packages/IPython/core/extensions.py:76\u001b[0m, in \u001b[0;36mExtensionManager.load_extension\u001b[0;34m(self, module_str)\u001b[0m\n\u001b[1;32m     69\u001b[0m \u001b[39m\u001b[39m\u001b[39m\"\"\"Load an IPython extension by its module name.\u001b[39;00m\n\u001b[1;32m     70\u001b[0m \n\u001b[1;32m     71\u001b[0m \u001b[39mReturns the string \"already loaded\" if the extension is already loaded,\u001b[39;00m\n\u001b[1;32m     72\u001b[0m \u001b[39m\"no load function\" if the module doesn't have a load_ipython_extension\u001b[39;00m\n\u001b[1;32m     73\u001b[0m \u001b[39mfunction, or None if it succeeded.\u001b[39;00m\n\u001b[1;32m     74\u001b[0m \u001b[39m\"\"\"\u001b[39;00m\n\u001b[1;32m     75\u001b[0m \u001b[39mtry\u001b[39;00m:\n\u001b[0;32m---> 76\u001b[0m     \u001b[39mreturn\u001b[39;00m \u001b[39mself\u001b[39;49m\u001b[39m.\u001b[39;49m_load_extension(module_str)\n\u001b[1;32m     77\u001b[0m \u001b[39mexcept\u001b[39;00m \u001b[39mModuleNotFoundError\u001b[39;00m:\n\u001b[1;32m     78\u001b[0m     \u001b[39mif\u001b[39;00m module_str \u001b[39min\u001b[39;00m BUILTINS_EXTS:\n",
      "File \u001b[0;32m~/miniconda3/envs/py310/lib/python3.11/site-packages/IPython/core/extensions.py:91\u001b[0m, in \u001b[0;36mExtensionManager._load_extension\u001b[0;34m(self, module_str)\u001b[0m\n\u001b[1;32m     89\u001b[0m \u001b[39mwith\u001b[39;00m \u001b[39mself\u001b[39m\u001b[39m.\u001b[39mshell\u001b[39m.\u001b[39mbuiltin_trap:\n\u001b[1;32m     90\u001b[0m     \u001b[39mif\u001b[39;00m module_str \u001b[39mnot\u001b[39;00m \u001b[39min\u001b[39;00m sys\u001b[39m.\u001b[39mmodules:\n\u001b[0;32m---> 91\u001b[0m         mod \u001b[39m=\u001b[39m import_module(module_str)\n\u001b[1;32m     92\u001b[0m     mod \u001b[39m=\u001b[39m sys\u001b[39m.\u001b[39mmodules[module_str]\n\u001b[1;32m     93\u001b[0m     \u001b[39mif\u001b[39;00m \u001b[39mself\u001b[39m\u001b[39m.\u001b[39m_call_load_ipython_extension(mod):\n",
      "File \u001b[0;32m~/miniconda3/envs/py310/lib/python3.11/importlib/__init__.py:126\u001b[0m, in \u001b[0;36mimport_module\u001b[0;34m(name, package)\u001b[0m\n\u001b[1;32m    124\u001b[0m             \u001b[39mbreak\u001b[39;00m\n\u001b[1;32m    125\u001b[0m         level \u001b[39m+\u001b[39m\u001b[39m=\u001b[39m \u001b[39m1\u001b[39m\n\u001b[0;32m--> 126\u001b[0m \u001b[39mreturn\u001b[39;00m _bootstrap\u001b[39m.\u001b[39;49m_gcd_import(name[level:], package, level)\n",
      "File \u001b[0;32m<frozen importlib._bootstrap>:1206\u001b[0m, in \u001b[0;36m_gcd_import\u001b[0;34m(name, package, level)\u001b[0m\n",
      "File \u001b[0;32m<frozen importlib._bootstrap>:1178\u001b[0m, in \u001b[0;36m_find_and_load\u001b[0;34m(name, import_)\u001b[0m\n",
      "File \u001b[0;32m<frozen importlib._bootstrap>:1142\u001b[0m, in \u001b[0;36m_find_and_load_unlocked\u001b[0;34m(name, import_)\u001b[0m\n",
      "\u001b[0;31mModuleNotFoundError\u001b[0m: No module named 'tensorboard'"
     ]
    }
   ],
   "source": [
    "%load_ext tensorboard"
   ]
  },
  {
   "cell_type": "code",
   "execution_count": 14,
   "metadata": {
    "id": "oegpMg25t9I9",
    "pycharm": {
     "name": "#%%\n"
    }
   },
   "outputs": [],
   "source": [
    "def process_state(obs):\n",
    "    return torch.from_numpy(np.array(obs)).unsqueeze(0)\n",
    "\n",
    "\n",
    "#Hiperparámetros de entrenamiento del agente DQN\n",
    "TOTAL_STEPS =1000000\n",
    "EPISODES = 5\n",
    "STEPS = 10000\n",
    "\n",
    "EPSILON_INI = 1\n",
    "EPSILON_MIN = 0.02\n",
    "EPSILON_DECAY = 0.99998599985\n",
    "EPSILON_TIME = 1000\n",
    "EPISODE_BLOCK = 10\n",
    "\n",
    "BATCH_SIZE = 32\n",
    "BUFFER_SIZE = 10000\n",
    "\n",
    "GAMMA = 0.99\n",
    "LEARNING_RATE = 1e-4"
   ]
  },
  {
   "cell_type": "code",
   "execution_count": 50,
   "metadata": {
    "id": "BsTl-pFqt10b",
    "pycharm": {
     "name": "#%%\n"
    }
   },
   "outputs": [
    {
     "ename": "IndentationError",
     "evalue": "expected an indented block after function definition on line 24 (dqn_agent.py, line 27)",
     "output_type": "error",
     "traceback": [
      "Traceback \u001b[0;36m(most recent call last)\u001b[0m:\n",
      "\u001b[0m  File \u001b[1;32m~/miniconda3/envs/py310/lib/python3.11/site-packages/IPython/core/interactiveshell.py:3508\u001b[0m in \u001b[1;35mrun_code\u001b[0m\n    exec(code_obj, self.user_global_ns, self.user_ns)\u001b[0m\n",
      "\u001b[0;36m  Cell \u001b[0;32mIn[50], line 1\u001b[0;36m\n\u001b[0;31m    from dqn_agent import DQNAgent\u001b[0;36m\n",
      "\u001b[0;36m  File \u001b[0;32m/mnt/c/Users/crisd/OneDrive/Escritorio/python/mario/letra/dqn_agent.py:27\u001b[0;36m\u001b[0m\n\u001b[0;31m    def update_weights(self):\u001b[0m\n\u001b[0m    ^\u001b[0m\n\u001b[0;31mIndentationError\u001b[0m\u001b[0;31m:\u001b[0m expected an indented block after function definition on line 24\n"
     ]
    }
   ],
   "source": [
    "from dqn_agent import DQNAgent\n",
    "env = mario_utils.make_env(ENV_NAME)\n",
    "\n",
    "# Cada vez que hacemos un experimento reseteamos la semilla para tener reproducibilidad\n",
    "env.seed(42)\n",
    "random.seed(42)\n",
    "np.random.seed(42)\n",
    "torch.manual_seed(42)\n",
    "torch.backends.cudnn.deterministic = True\n",
    "\n",
    "net = DQN_CNN_Model(env.observation_space.shape, env.action_space.n).to(DEVICE)\n",
    "\n",
    "\n",
    "#gym_env, model, obs_processing_func, memory_buffer_size, batch_size, learning_rate, gamma, epsilon_i, epsilon_f, epsilon_anneal_time\n",
    "agent = DQNAgent(env, net, process_state, BUFFER_SIZE, BATCH_SIZE, LEARNING_RATE, GAMMA, epsilon_i= EPSILON_INI, epsilon_f=EPSILON_MIN, epsilon_anneal_time=EPSILON_TIME, epsilon_decay = EPSILON_DECAY, episode_block = EPISODE_BLOCK)\n",
    "\n",
    "rewards = agent.train(EPISODES, STEPS, TOTAL_STEPS, writer_name = ENV_NAME)"
   ]
  },
  {
   "cell_type": "code",
   "execution_count": null,
   "metadata": {
    "id": "et1TEQJ3t9I-",
    "pycharm": {
     "name": "#%%\n"
    }
   },
   "outputs": [],
   "source": [
    "tensorboard  --logdir=runs"
   ]
  },
  {
   "attachments": {},
   "cell_type": "markdown",
   "metadata": {
    "id": "t5H88XXxuLVn",
    "pycharm": {
     "name": "#%% md\n"
    }
   },
   "source": [
    "# Videos\n",
    "\n",
    "Para grabar los videos hacemos uso de la funcion `record_test_episode`  definida en nuestro agente.\n",
    "\n",
    "Dejamos un ejemplo de como hacerlo:"
   ]
  },
  {
   "cell_type": "code",
   "execution_count": null,
   "metadata": {
    "id": "pMZrPTlTuMCj",
    "pycharm": {
     "name": "#%%\n"
    }
   },
   "outputs": [],
   "source": [
    "#initial environment\n",
    "env = mario_utils.make_env(ENV_NAME)\n",
    "wrapped_env = mario_utils.wrap_env(env)\n",
    "agent.record_test_episode(wrapped_env)"
   ]
  },
  {
   "attachments": {},
   "cell_type": "markdown",
   "metadata": {
    "id": "QETh1K7pt9I_"
   },
   "source": [
    "# Double Deep Q Learning\n",
    "\n",
    "Una variante del clásico algoritmo Q Learning, es Double Q Learning, este surge como solución al problema de sesgo de maximización. Esta variante fue rápidamente adaptada con tecnicás de optimización por decenso de gradientes (https://arxiv.org/pdf/1509.06461.pdf). Recomendamos leer el algoritmo del libro de Sutton y Barto para maximizar su entendimiento del mismo.\n",
    "\n",
    "***\n",
    "\n",
    "Vamos a utilizar el mismo modelo de red neuronal creado para el problema anterior y la misma implementación de memoria, dejamos un esqueleto de un agente de Double Deep Q learning para completar en el archivo **double_dqn_agent.py**"
   ]
  },
  {
   "cell_type": "code",
   "execution_count": null,
   "metadata": {
    "id": "kDNkAtdMt9I_",
    "pycharm": {
     "name": "#%%\n"
    }
   },
   "outputs": [],
   "source": [
    "env = make_env(ENV_NAME)\n",
    "from double_dqn_agent import DoubleDQNAgent\n",
    "# Cada vez que hacemos un experimento reseteamos la semilla para tener reproducibilidad\n",
    "env.seed(42)\n",
    "random.seed(42)\n",
    "np.random.seed(42)\n",
    "torch.manual_seed(42)\n",
    "torch.backends.cudnn.deterministic = True\n",
    "\n",
    "modelo_a = DQN_CNN_Model(env.observation_space.shape, env.action_space.n).to(DEVICE)\n",
    "modelo_b = DQN_CNN_Model(env.observation_space.shape, env.action_space.n).to(DEVICE)\n",
    "\n",
    "agent = DoubleDQNAgent(env, modelo_a, modelo_b, process_state, BUFFER_SIZE, BATCH_SIZE, LEARNING_RATE, GAMMA, epsilon_i= EPSILON_INI, epsilon_f=EPSILON_MIN, epsilon_anneal_time=EPSILON_TIME, epsilon_decay = EPSILON_DECAY, episode_block = EPISODE_BLOCK)\n",
    "\n",
    "rewards = agent.train(EPISODES, STEPS, TOTAL_STEPS)"
   ]
  },
  {
   "cell_type": "code",
   "execution_count": null,
   "metadata": {
    "id": "KG3Nbclrt9I_",
    "pycharm": {
     "name": "#%%\n"
    }
   },
   "outputs": [],
   "source": [
    "#Hiperparámetros de entrenamiento del agente Doble DQN\n",
    "\n",
    "TOTAL_STEPS =1000000\n",
    "EPISODES = 5\n",
    "STEPS = 100000\n",
    "\n",
    "EPSILON_INI = 1\n",
    "EPSILON_MIN = 0.05\n",
    "EPSILON_DECAY = 0.99998599985\n",
    "EPSILON_TIME = 1000\n",
    "\n",
    "BATCH_SIZE = 64\n",
    "BUFFER_SIZE = 4000\n",
    "\n",
    "GAMMA = 0.99\n",
    "LEARNING_RATE = 1e-4\n"
   ]
  },
  {
   "cell_type": "code",
   "execution_count": null,
   "metadata": {
    "id": "zi7zS7Qht9I_",
    "pycharm": {
     "name": "#%%\n"
    }
   },
   "outputs": [],
   "source": [
    "#initial environment\n",
    "env = mario_utils.make_env(ENV_NAME)\n",
    "wrapped_env = mario_utils.wrap_env(env)\n",
    "agent.record_test_episode(wrapped_env)"
   ]
  },
  {
   "attachments": {},
   "cell_type": "markdown",
   "metadata": {
    "id": "YNNvsKiEt9I_"
   },
   "source": [
    "# Comparaciones, Resultados, Comentarios...\n",
    "De aquí en adelante son libres de presentar como gusten los resultados comparativos de las técnicas."
   ]
  },
  {
   "cell_type": "code",
   "execution_count": null,
   "metadata": {
    "id": "uc4gilhpt9JA"
   },
   "outputs": [],
   "source": []
  }
 ],
 "metadata": {
  "accelerator": "GPU",
  "colab": {
   "provenance": []
  },
  "interpreter": {
   "hash": "81794d4967e6c3204c66dcd87b604927b115b27c00565d3d43f05ba2f3a2cb0d"
  },
  "kernelspec": {
   "display_name": "Python 3",
   "language": "python",
   "name": "python3"
  },
  "language_info": {
   "codemirror_mode": {
    "name": "ipython",
    "version": 3
   },
   "file_extension": ".py",
   "mimetype": "text/x-python",
   "name": "python",
   "nbconvert_exporter": "python",
   "pygments_lexer": "ipython3",
   "version": "3.11.3"
  }
 },
 "nbformat": 4,
 "nbformat_minor": 1
}
